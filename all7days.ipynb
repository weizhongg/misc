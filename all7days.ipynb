{
  "nbformat": 4,
  "nbformat_minor": 0,
  "metadata": {
    "colab": {
      "name": "all7days.ipynb",
      "provenance": []
    },
    "kernelspec": {
      "name": "python3",
      "display_name": "Python 3"
    },
    "language_info": {
      "name": "python"
    }
  },
  "cells": [
    {
      "cell_type": "markdown",
      "metadata": {
        "id": "OD27Kve_yB3g"
      },
      "source": [
        "\"Given timestamps of logins, figure out how many people on Facebook were active all seven days of a week on a mobile phone.\"\n",
        "\n",
        "Assume we have queried for the week of interest and mobile logins. Assume that logins do not persist from day to day."
      ]
    },
    {
      "cell_type": "code",
      "metadata": {
        "id": "3h5VW9b_vZ3Y"
      },
      "source": [
        "import pandas as pd"
      ],
      "execution_count": 1,
      "outputs": []
    },
    {
      "cell_type": "code",
      "metadata": {
        "id": "BLmZSqtbveQS"
      },
      "source": [
        "df = pd.DataFrame({'timestamp':['09/19/2021 10:00', '09/19/2021 10:00', '09/19/2021 11:00', \n",
        "                                '09/20/2021 10:00', '09/21/2021 10:00', '09/22/2021 10:00',\n",
        "                                '09/23/2021 10:00', '09/24/2021 10:00', '09/25/2021 10:00',\n",
        "                                '09/25/2021 10:00'],\n",
        "                'user_id':[0, 1, 0, 0, 0, 0, 0, 0, 0, 1]})"
      ],
      "execution_count": 2,
      "outputs": []
    },
    {
      "cell_type": "code",
      "metadata": {
        "id": "_1M-b62Fw1id"
      },
      "source": [
        "df['dayofweek'] = pd.to_datetime(df.timestamp).dt.dayofweek"
      ],
      "execution_count": 11,
      "outputs": []
    },
    {
      "cell_type": "code",
      "metadata": {
        "colab": {
          "base_uri": "https://localhost:8080/"
        },
        "id": "cGUUk2ZVxX-B",
        "outputId": "c9a1e8e7-f757-45cf-ade9-f616fbe0f19d"
      },
      "source": [
        "(df.groupby('user_id').dayofweek.nunique() == 7).sum()"
      ],
      "execution_count": 25,
      "outputs": [
        {
          "output_type": "execute_result",
          "data": {
            "text/plain": [
              "1"
            ]
          },
          "metadata": {},
          "execution_count": 25
        }
      ]
    },
    {
      "cell_type": "markdown",
      "metadata": {
        "id": "jmmihrOw_hBJ"
      },
      "source": [
        "SQL Server code. Can run on https://sqliteonline.com/ (select MS SQL on the left):\n",
        "\n",
        "```\n",
        "-- create a table\n",
        "CREATE TABLE logins (\n",
        "  timestamp DATETIME NOT NULL,\n",
        "  user_id INT NOT NULL\n",
        ");\n",
        "INSERT INTO logins VALUES\n",
        "('09/19/2021 10:00', 0),\n",
        "('09/19/2021 10:00', 1),\n",
        "('09/19/2021 11:00', 0), \n",
        "('09/20/2021 10:00', 0), \n",
        "('09/21/2021 10:00', 0), \n",
        "('09/22/2021 10:00', 0),\n",
        "('09/23/2021 10:00', 0), \n",
        "('09/24/2021 10:00', 0), \n",
        "('09/25/2021 10:00', 0),\n",
        "('09/25/2021 10:00', 1);\n",
        "\n",
        "-- query\n",
        "SELECT count(*) from (\n",
        "  SELECT count(distinct datepart(dw, timestamp)) as days from logins\n",
        "  GROUP BY user_id\n",
        ") as grouped\n",
        "where grouped.days = 7\n",
        "```"
      ]
    },
    {
      "cell_type": "code",
      "metadata": {
        "id": "ERa0yHlkAARm"
      },
      "source": [
        ""
      ],
      "execution_count": null,
      "outputs": []
    }
  ]
}