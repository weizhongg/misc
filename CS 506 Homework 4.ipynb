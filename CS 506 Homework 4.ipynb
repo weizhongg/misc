{
 "cells": [
  {
   "cell_type": "markdown",
   "metadata": {},
   "source": [
    "Report: https://docs.google.com/document/d/1xDP_mJxwfrVfA2fm8wvBsaL2tg1oUL1IbIXLtrkPpCQ/edit#<br />\n",
    "Suggestions: weizhong.goh at gmail.com"
   ]
  },
  {
   "cell_type": "code",
   "execution_count": 3,
   "metadata": {
    "collapsed": true
   },
   "outputs": [],
   "source": [
    "import numpy as np\n",
    "import pandas as pd\n",
    "import matplotlib.pyplot as plt\n",
    "from sklearn.metrics import mean_squared_error"
   ]
  },
  {
   "cell_type": "code",
   "execution_count": 73,
   "metadata": {
    "collapsed": true
   },
   "outputs": [],
   "source": [
    "c_big = pd.read_csv('train.csv')"
   ]
  },
  {
   "cell_type": "code",
   "execution_count": 888,
   "metadata": {},
   "outputs": [
    {
     "data": {
      "text/plain": [
       "Int64Index([460804, 460805, 460806, 460807, 460808, 460809, 460810, 460811,\n",
       "            460812, 460813,\n",
       "            ...\n",
       "            560794, 560795, 560796, 560797, 560798, 560799, 560800, 560801,\n",
       "            560802, 560803],\n",
       "           dtype='int64', length=100000)"
      ]
     },
     "execution_count": 888,
     "metadata": {},
     "output_type": "execute_result"
    }
   ],
   "source": [
    "c_big[c_big.Score.isnull()].index"
   ]
  },
  {
   "cell_type": "code",
   "execution_count": 3,
   "metadata": {},
   "outputs": [
    {
     "data": {
      "text/plain": [
       "['HelpfulnessDenominator',\n",
       " 'HelpfulnessNumerator',\n",
       " 'Id',\n",
       " 'ProductId',\n",
       " 'Score',\n",
       " 'Summary',\n",
       " 'Text',\n",
       " 'Time',\n",
       " 'UserId']"
      ]
     },
     "execution_count": 3,
     "metadata": {},
     "output_type": "execute_result"
    }
   ],
   "source": [
    "list(c_big.columns)"
   ]
  },
  {
   "cell_type": "code",
   "execution_count": 64,
   "metadata": {
    "collapsed": true
   },
   "outputs": [],
   "source": [
    "from sklearn.model_selection import train_test_split\n",
    "\n",
    "train, test = train_test_split(c_big[c_big.Score.notnull()])"
   ]
  },
  {
   "cell_type": "markdown",
   "metadata": {},
   "source": [
    "## Other reviews of the same product (if std is small): Not included in final classifier"
   ]
  },
  {
   "cell_type": "code",
   "execution_count": 701,
   "metadata": {},
   "outputs": [
    {
     "data": {
      "text/plain": [
       "count    3809.000000\n",
       "mean        1.186103\n",
       "std         0.329943\n",
       "min         0.000000\n",
       "25%         0.973795\n",
       "50%         1.201119\n",
       "75%         1.430535\n",
       "max         1.965173\n",
       "Name: Score, dtype: float64"
      ]
     },
     "execution_count": 701,
     "metadata": {},
     "output_type": "execute_result"
    }
   ],
   "source": [
    "c_big.groupby('ProductId').Score.std()[c_big.groupby('ProductId').Score.count() > 20].describe()"
   ]
  },
  {
   "cell_type": "code",
   "execution_count": null,
   "metadata": {
    "collapsed": true
   },
   "outputs": [],
   "source": [
    "d = c_big[c_big.Score.notnull()]"
   ]
  },
  {
   "cell_type": "code",
   "execution_count": 83,
   "metadata": {},
   "outputs": [
    {
     "data": {
      "image/png": "[encoded data removed]",
      "text/plain": [
       "<matplotlib.figure.Figure at 0x2036e4199e8>"
      ]
     },
     "metadata": {},
     "output_type": "display_data"
    }
   ],
   "source": [
    "d[d.ProductId.isin(d.ProductId.value_counts()[d.ProductId.value_counts() > 200].index)].groupby('ProductId').Score.mean().hist()\n",
    "plt.show()"
   ]
  },
  {
   "cell_type": "code",
   "execution_count": 32,
   "metadata": {},
   "outputs": [
    {
     "data": {
      "image/png": "[encoded data removed]",
      "text/plain": [
       "<matplotlib.figure.Figure at 0x20360e1bfd0>"
      ]
     },
     "metadata": {},
     "output_type": "display_data"
    }
   ],
   "source": [
    "d.Score.hist(bins=[1,2,3,4,5,6])\n",
    "plt.show()"
   ]
  },
  {
   "cell_type": "code",
   "execution_count": 64,
   "metadata": {},
   "outputs": [
    {
     "data": {
      "image/png": "[encoded data removed]",
      "text/plain": [
       "<matplotlib.figure.Figure at 0x20360e54860>"
      ]
     },
     "metadata": {},
     "output_type": "display_data"
    }
   ],
   "source": [
    "d[d.HelpfulnessNumerator>10].Score.hist(bins=[1,2,3,4,5,6])\n",
    "plt.show()"
   ]
  },
  {
   "cell_type": "code",
   "execution_count": null,
   "metadata": {
    "collapsed": true
   },
   "outputs": [],
   "source": [
    "prod_counts = c_big.loc[train.index].groupby('ProductId').Score.count()"
   ]
  },
  {
   "cell_type": "code",
   "execution_count": 607,
   "metadata": {},
   "outputs": [
    {
     "data": {
      "text/plain": [
       "ProductId\n",
       "0006641040    105.0\n",
       "141278509X      5.0\n",
       "2734888454      7.0\n",
       "2841233731      5.0\n",
       "7310172001    534.0\n",
       "7310172101    494.0\n",
       "7800648702      3.0\n",
       "B00002N8SM     44.0\n",
       "B00002NCJC      5.0\n",
       "B00002Z754      5.0\n",
       "B00004CI84    525.0\n",
       "B00004CXX9    513.0\n",
       "B00004RAMS     84.0\n",
       "B00004RAMV     12.0\n",
       "B00004RAMX     58.0\n",
       "B00004RAMY    410.0\n",
       "B00004RBDU    225.0\n",
       "B00004RBDW     81.0\n",
       "B00004RBDZ    131.0\n",
       "B00004RYGX    462.0\n",
       "B00004S1C5     53.0\n",
       "B00004S1C6    187.0\n",
       "B000052Y74     13.0\n",
       "B00005344V     30.0\n",
       "B0000537KC     36.0\n",
       "B00005C2M2    149.0\n",
       "B00005C2M3     12.0\n",
       "B00005IX96     32.0\n",
       "B00005IX97     29.0\n",
       "B00005IX98     25.0\n",
       "              ...  \n",
       "B009M6W5UQ      5.0\n",
       "B009MRNOR8      1.0\n",
       "B009NEQAHQ      4.0\n",
       "B009NIF7BM     10.0\n",
       "B009NTCO4O     34.0\n",
       "B009NTCP6Q      4.0\n",
       "B009NWIF3A     10.0\n",
       "B009NY1MC4     78.0\n",
       "B009O0U2SW     10.0\n",
       "B009O753WA      5.0\n",
       "B009O7B1I0      1.0\n",
       "B009O7DGEW      5.0\n",
       "B009OM65GI      5.0\n",
       "B009OM65H2     10.0\n",
       "B009OM66IU      5.0\n",
       "B009OY38SY      5.0\n",
       "B009PCDDO4      5.0\n",
       "B009PFJUF2     10.0\n",
       "B009PG8MVO      5.0\n",
       "B009QEBGIQ     40.0\n",
       "B009QNJRSS     20.0\n",
       "B009RB4GO4    560.0\n",
       "B009RSR8HO     55.0\n",
       "B009SA5NNW     57.0\n",
       "B009SMKESO      4.0\n",
       "B009UOFTUI      1.0\n",
       "B009UOFU20      1.0\n",
       "B009UUS05I      5.0\n",
       "B009WSNWC4      5.0\n",
       "B009WVB40S      5.0\n",
       "Name: Score, dtype: float64"
      ]
     },
     "execution_count": 607,
     "metadata": {},
     "output_type": "execute_result"
    }
   ],
   "source": [
    "prod_sums = c_big.loc[train.index].groupby('ProductId').Score.sum()"
   ]
  },
  {
   "cell_type": "code",
   "execution_count": 613,
   "metadata": {
    "collapsed": true
   },
   "outputs": [],
   "source": [
    "prod_sum_squares = c_big.loc[train.index].groupby('ProductId').Score.agg(lambda x: sum(np.square(x)))"
   ]
  },
  {
   "cell_type": "code",
   "execution_count": 671,
   "metadata": {
    "collapsed": true
   },
   "outputs": [],
   "source": [
    "def calculate_mean_other_reviews_same_product_nt(ProductId):\n",
    "    try:\n",
    "        return (prod_sums.loc[ProductId])/(prod_counts.loc[ProductId])\n",
    "    except KeyError:\n",
    "        return np.nan\n",
    "    \n",
    "def calculate_std_other_reviews_same_product_nt(ProductId):\n",
    "    try:\n",
    "        mean_other_reviews = (prod_sums.loc[ProductId])/(prod_counts.loc[ProductId])\n",
    "        return np.sqrt((prod_sum_squares.loc[ProductId] - mean_other_reviews**2*(prod_counts.loc[ProductId]))/(prod_counts.loc[ProductId] - 1))\n",
    "    except KeyError:\n",
    "        return np.nan\n",
    "\n",
    "def calculate_mean_other_reviews_same_product_t(ProductId, Score):\n",
    "    try:\n",
    "        return (prod_sums.loc[ProductId] - Score)/(prod_counts.loc[ProductId] - 1)\n",
    "    except KeyError:\n",
    "        return np.nan\n",
    "    \n",
    "def calculate_std_other_reviews_same_product_t(ProductId, Score):\n",
    "    try:\n",
    "        mean_other_reviews = (prod_sums.loc[ProductId] - Score)/(prod_counts.loc[ProductId] - 1)\n",
    "        return np.sqrt((prod_sum_squares.loc[ProductId] - Score**2 - mean_other_reviews**2*(prod_counts.loc[ProductId] - 1))/(prod_counts.loc[ProductId] - 1 - 1))\n",
    "    except KeyError:\n",
    "        return np.nan"
   ]
  },
  {
   "cell_type": "code",
   "execution_count": 703,
   "metadata": {
    "collapsed": true
   },
   "outputs": [],
   "source": [
    "def calculate_count_other_reviews_same_product(ProductId, is_train):\n",
    "    try:\n",
    "        return prod_counts.loc[ProductId] - is_train\n",
    "    except KeyError:\n",
    "        return np.nan\n",
    "\n",
    "c_big['count_other_reviews_same_product'] = c_big.ProductId.apply(lambda ProductId: calculate_count_other_reviews_same_product(ProductId, 0))\n",
    "c_big.loc[train.index]['count_other_reviews_same_product'] = c_big.loc[train.index].ProductId.apply(lambda ProductId: calculate_count_other_reviews_same_product(ProductId, 1))"
   ]
  },
  {
   "cell_type": "code",
   "execution_count": 687,
   "metadata": {},
   "outputs": [
    {
     "name": "stderr",
     "output_type": "stream",
     "text": [
      "C:\\Users\\WeiZhong\\Anaconda3\\lib\\site-packages\\ipykernel\\__main__.py:16: RuntimeWarning: invalid value encountered in double_scalars\n",
      "C:\\Users\\WeiZhong\\Anaconda3\\lib\\site-packages\\ipykernel\\__main__.py:22: RuntimeWarning: invalid value encountered in double_scalars\n",
      "C:\\Users\\WeiZhong\\Anaconda3\\lib\\site-packages\\ipykernel\\__main__.py:23: RuntimeWarning: invalid value encountered in double_scalars\n"
     ]
    }
   ],
   "source": [
    "c_big['mean_other_reviews_same_product'] = c_big.ProductId.apply(calculate_mean_other_reviews_same_product_nt)\n",
    "c_big['std_other_reviews_same_product'] = c_big.ProductId.apply(calculate_std_other_reviews_same_product_nt)\n",
    "c_big.loc[train.index]['mean_other_reviews_same_product'] = c_big.loc[train.index].apply(lambda row: calculate_mean_other_reviews_same_product_t(row.ProductId, row.Score), axis=1)\n",
    "c_big.loc[train.index]['std_other_reviews_same_product'] = c_big.loc[train.index].apply(lambda row: calculate_std_other_reviews_same_product_t(row.ProductId, row.Score), axis=1)"
   ]
  },
  {
   "cell_type": "code",
   "execution_count": 721,
   "metadata": {
    "collapsed": true
   },
   "outputs": [],
   "source": [
    "c_big['adj_mean_other_reviews_same_product'] = c_big.apply(lambda row: row.mean_other_reviews_same_product \n",
    "    if ((row.count_other_reviews_same_product > 20) & (row.std_other_reviews_same_product < 0.8)) else 4.170267, axis=1)"
   ]
  },
  {
   "cell_type": "code",
   "execution_count": 723,
   "metadata": {
    "collapsed": true
   },
   "outputs": [],
   "source": [
    "c_big['adj_std_other_reviews_same_product'] = c_big.apply(lambda row: row.std_other_reviews_same_product \n",
    "    if ((row.count_other_reviews_same_product > 20) & (row.std_other_reviews_same_product < 0.8)) else 4, axis=1)"
   ]
  },
  {
   "cell_type": "code",
   "execution_count": 689,
   "metadata": {
    "collapsed": true
   },
   "outputs": [],
   "source": [
    "c_big['mean_other_reviews_same_product'].fillna(4.170267, inplace=True) # 4.17 is c_big.groupby('ProductId').Score.mean().describe()\n",
    "c_big['std_other_reviews_same_product'].fillna(4, inplace=True)"
   ]
  },
  {
   "cell_type": "markdown",
   "metadata": {},
   "source": [
    "## Review length"
   ]
  },
  {
   "cell_type": "code",
   "execution_count": 65,
   "metadata": {},
   "outputs": [
    {
     "ename": "AttributeError",
     "evalue": "'DataFrame' object has no attribute 'Text'",
     "output_type": "error",
     "traceback": [
      "\u001b[0;31m---------------------------------------------------------------------------\u001b[0m",
      "\u001b[0;31mAttributeError\u001b[0m                            Traceback (most recent call last)",
      "\u001b[0;32m<ipython-input-65-3d11e873e45b>\u001b[0m in \u001b[0;36m<module>\u001b[0;34m()\u001b[0m\n\u001b[0;32m----> 1\u001b[0;31m \u001b[0mc_big\u001b[0m\u001b[1;33m[\u001b[0m\u001b[1;34m'review_length'\u001b[0m\u001b[1;33m]\u001b[0m \u001b[1;33m=\u001b[0m \u001b[0mc_big\u001b[0m\u001b[1;33m.\u001b[0m\u001b[0mText\u001b[0m\u001b[1;33m.\u001b[0m\u001b[0mapply\u001b[0m\u001b[1;33m(\u001b[0m\u001b[0mlen\u001b[0m\u001b[1;33m)\u001b[0m\u001b[1;33m\u001b[0m\u001b[0m\n\u001b[0m\u001b[1;32m      2\u001b[0m \u001b[0mtrain\u001b[0m\u001b[1;33m[\u001b[0m\u001b[1;34m'review_length'\u001b[0m\u001b[1;33m]\u001b[0m \u001b[1;33m=\u001b[0m \u001b[0mtrain\u001b[0m\u001b[1;33m.\u001b[0m\u001b[0mText\u001b[0m\u001b[1;33m.\u001b[0m\u001b[0mapply\u001b[0m\u001b[1;33m(\u001b[0m\u001b[0mlen\u001b[0m\u001b[1;33m)\u001b[0m\u001b[1;33m\u001b[0m\u001b[0m\n",
      "\u001b[0;32mC:\\Users\\WeiZhong\\Anaconda3\\lib\\site-packages\\pandas\\core\\generic.py\u001b[0m in \u001b[0;36m__getattr__\u001b[0;34m(self, name)\u001b[0m\n\u001b[1;32m   2742\u001b[0m             \u001b[1;32mif\u001b[0m \u001b[0mname\u001b[0m \u001b[1;32min\u001b[0m \u001b[0mself\u001b[0m\u001b[1;33m.\u001b[0m\u001b[0m_info_axis\u001b[0m\u001b[1;33m:\u001b[0m\u001b[1;33m\u001b[0m\u001b[0m\n\u001b[1;32m   2743\u001b[0m                 \u001b[1;32mreturn\u001b[0m \u001b[0mself\u001b[0m\u001b[1;33m[\u001b[0m\u001b[0mname\u001b[0m\u001b[1;33m]\u001b[0m\u001b[1;33m\u001b[0m\u001b[0m\n\u001b[0;32m-> 2744\u001b[0;31m             \u001b[1;32mreturn\u001b[0m \u001b[0mobject\u001b[0m\u001b[1;33m.\u001b[0m\u001b[0m__getattribute__\u001b[0m\u001b[1;33m(\u001b[0m\u001b[0mself\u001b[0m\u001b[1;33m,\u001b[0m \u001b[0mname\u001b[0m\u001b[1;33m)\u001b[0m\u001b[1;33m\u001b[0m\u001b[0m\n\u001b[0m\u001b[1;32m   2745\u001b[0m \u001b[1;33m\u001b[0m\u001b[0m\n\u001b[1;32m   2746\u001b[0m     \u001b[1;32mdef\u001b[0m \u001b[0m__setattr__\u001b[0m\u001b[1;33m(\u001b[0m\u001b[0mself\u001b[0m\u001b[1;33m,\u001b[0m \u001b[0mname\u001b[0m\u001b[1;33m,\u001b[0m \u001b[0mvalue\u001b[0m\u001b[1;33m)\u001b[0m\u001b[1;33m:\u001b[0m\u001b[1;33m\u001b[0m\u001b[0m\n",
      "\u001b[0;31mAttributeError\u001b[0m: 'DataFrame' object has no attribute 'Text'"
     ]
    }
   ],
   "source": [
    "c_big['review_length'] = c_big.Text.apply(len)\n",
    "train['review_length'] = train.Text.apply(len)"
   ]
  },
  {
   "cell_type": "code",
   "execution_count": 53,
   "metadata": {},
   "outputs": [
    {
     "data": {
      "image/png": "[encoded data removed]",
      "text/plain": [
       "<matplotlib.figure.Figure at 0x23711d1db00>"
      ]
     },
     "metadata": {},
     "output_type": "display_data"
    }
   ],
   "source": [
    "c_big.boxplot(column='review_length', by='Score')\n",
    "plt.ylim([0,2000])\n",
    "plt.show()"
   ]
  },
  {
   "cell_type": "markdown",
   "metadata": {},
   "source": [
    "## Process review text"
   ]
  },
  {
   "cell_type": "code",
   "execution_count": 6,
   "metadata": {
    "collapsed": true
   },
   "outputs": [],
   "source": [
    "tophalf, bottomhalf = train_test_split(train.index, test_size=0.5)\n",
    "indexpool = [[], [], [], []]\n",
    "indexpool[0], indexpool[1] = train_test_split(tophalf, test_size=0.5)\n",
    "indexpool[2], indexpool[3] = train_test_split(bottomhalf, test_size=0.5)"
   ]
  },
  {
   "cell_type": "code",
   "execution_count": 374,
   "metadata": {
    "collapsed": true
   },
   "outputs": [],
   "source": [
    "from nltk.stem.snowball import SnowballStemmer\n",
    "from nltk.tokenize import word_tokenize, sent_tokenize\n",
    "\n",
    "stemmer = SnowballStemmer(\"english\")"
   ]
  },
  {
   "cell_type": "markdown",
   "metadata": {},
   "source": [
    "Go get some coffee. The following step takes a while. "
   ]
  },
  {
   "cell_type": "code",
   "execution_count": 266,
   "metadata": {
    "collapsed": true
   },
   "outputs": [],
   "source": [
    "c_big['review_stemmed'] = c_big.Text.apply(lambda text: \" \".join([stemmer.stem(x) for x in word_tokenize(text)]))"
   ]
  },
  {
   "cell_type": "code",
   "execution_count": 377,
   "metadata": {
    "collapsed": true
   },
   "outputs": [],
   "source": [
    "c_big['summary_stemmed'] = c_big[c_big.Summary.notnull()].Summary.apply(lambda text: \" \".join([stemmer.stem(x) for x in word_tokenize(text)]))"
   ]
  },
  {
   "cell_type": "code",
   "execution_count": 290,
   "metadata": {},
   "outputs": [
    {
     "name": "stderr",
     "output_type": "stream",
     "text": [
      "C:\\Users\\WeiZhong\\Anaconda3\\lib\\site-packages\\ipykernel\\__main__.py:4: UserWarning: Boolean Series key will be reindexed to match DataFrame index.\n",
      "C:\\Users\\WeiZhong\\Anaconda3\\lib\\site-packages\\ipykernel\\__main__.py:5: UserWarning: Boolean Series key will be reindexed to match DataFrame index.\n"
     ]
    }
   ],
   "source": [
    "good_v_bad = [[], [], [], []]\n",
    "\n",
    "for i in range(4):\n",
    "    good_review_onegrams = ' '.join(c_big.loc[indexpool[i]][c_big.Score == 5].review_stemmed).split()\n",
    "    bad_review_onegrams = ' '.join(c_big.loc[indexpool[i]][c_big.Score <= 2].review_stemmed).split()\n",
    "    good_review_words = pd.Series(good_review_onegrams).value_counts(normalize=True)\n",
    "    bad_review_words = pd.Series(bad_review_onegrams).value_counts(normalize=True)\n",
    "    good_v_bad[i] = pd.concat([good_review_words, bad_review_words], axis=1, join='outer').fillna(0)\n",
    "    good_v_bad[i]['ratio'] = (good_v_bad[i][0]+1e-6)/(good_v_bad[i][1]+1e-6)"
   ]
  },
  {
   "cell_type": "code",
   "execution_count": 397,
   "metadata": {},
   "outputs": [
    {
     "name": "stderr",
     "output_type": "stream",
     "text": [
      "C:\\Users\\WeiZhong\\Anaconda3\\lib\\site-packages\\ipykernel\\__main__.py:1: SettingWithCopyWarning: \n",
      "A value is trying to be set on a copy of a slice from a DataFrame\n",
      "\n",
      "See the caveats in the documentation: http://pandas.pydata.org/pandas-docs/stable/indexing.html#indexing-view-versus-copy\n",
      "  if __name__ == '__main__':\n"
     ]
    }
   ],
   "source": [
    "c_big.summary_stemmed[c_big.summary_stemmed.isnull()] = ''"
   ]
  },
  {
   "cell_type": "code",
   "execution_count": 398,
   "metadata": {},
   "outputs": [
    {
     "name": "stderr",
     "output_type": "stream",
     "text": [
      "C:\\Users\\WeiZhong\\Anaconda3\\lib\\site-packages\\ipykernel\\__main__.py:4: UserWarning: Boolean Series key will be reindexed to match DataFrame index.\n",
      "C:\\Users\\WeiZhong\\Anaconda3\\lib\\site-packages\\ipykernel\\__main__.py:5: UserWarning: Boolean Series key will be reindexed to match DataFrame index.\n"
     ]
    }
   ],
   "source": [
    "s_good_v_bad = [[], [], [], []]\n",
    "\n",
    "for i in range(4):\n",
    "    good_review_onegrams = ' '.join(c_big.loc[indexpool[i]][c_big.Score == 5].summary_stemmed).split()\n",
    "    bad_review_onegrams = ' '.join(c_big.loc[indexpool[i]][c_big.Score <= 2].summary_stemmed).split()\n",
    "    good_review_words = pd.Series(good_review_onegrams).value_counts(normalize=True)\n",
    "    bad_review_words = pd.Series(bad_review_onegrams).value_counts(normalize=True)\n",
    "    s_good_v_bad[i] = pd.concat([good_review_words, bad_review_words], axis=1, join='outer').fillna(0)\n",
    "    s_good_v_bad[i]['ratio'] = (s_good_v_bad[i][0]+1e-6)/(s_good_v_bad[i][1]+1e-6)"
   ]
  },
  {
   "cell_type": "code",
   "execution_count": 264,
   "metadata": {},
   "outputs": [
    {
     "name": "stderr",
     "output_type": "stream",
     "text": [
      "C:\\Users\\WeiZhong\\Anaconda3\\lib\\site-packages\\ipykernel\\__main__.py:6: UserWarning: Boolean Series key will be reindexed to match DataFrame index.\n",
      "C:\\Users\\WeiZhong\\Anaconda3\\lib\\site-packages\\ipykernel\\__main__.py:7: UserWarning: Boolean Series key will be reindexed to match DataFrame index.\n"
     ]
    }
   ],
   "source": [
    "from nltk.util import ngrams\n",
    "\n",
    "td_good_v_bad = [[], [], [], []]\n",
    "\n",
    "for i in range(4):\n",
    "    x = c_big.loc[indexpool[i]][c_big.Score == 5].review_stemmed.str.split().apply(lambda x: list(ngrams(x, 2))).ravel()\n",
    "    y = c_big.loc[indexpool[i]][c_big.Score <= 2].review_stemmed.str.split().apply(lambda x: list(ngrams(x, 2))).ravel()\n",
    "    good_review_words = pd.Series([item for sublist in x for item in sublist]).value_counts(normalize=True)\n",
    "    bad_review_words = pd.Series([item for sublist in y for item in sublist]).value_counts(normalize=True)\n",
    "    td_good_v_bad[i] = pd.concat([good_review_words, bad_review_words], axis=1, join='outer').fillna(0)\n",
    "    td_good_v_bad[i]['ratio'] = (td_good_v_bad[i][0]+1e-6)/(td_good_v_bad[i][1]+1e-6)"
   ]
  },
  {
   "cell_type": "code",
   "execution_count": 929,
   "metadata": {},
   "outputs": [
    {
     "name": "stderr",
     "output_type": "stream",
     "text": [
      "C:\\Users\\WeiZhong\\Anaconda3\\lib\\site-packages\\ipykernel\\__main__.py:4: UserWarning: Boolean Series key will be reindexed to match DataFrame index.\n",
      "C:\\Users\\WeiZhong\\Anaconda3\\lib\\site-packages\\ipykernel\\__main__.py:5: UserWarning: Boolean Series key will be reindexed to match DataFrame index.\n"
     ]
    }
   ],
   "source": [
    "td_middle_v_rest = [[], [], [], []]\n",
    "\n",
    "for i in range(4):\n",
    "    x = c_big.loc[indexpool[i]][(c_big.Score == 3) | (c_big.Score == 4)].review_stemmed.str.split().apply(lambda x: list(ngrams(x, 2))).ravel()\n",
    "    y = c_big.loc[indexpool[i]][(c_big.Score <= 2) | (c_big.Score == 5)].review_stemmed.str.split().apply(lambda x: list(ngrams(x, 2))).ravel()\n",
    "    middle_review_words = pd.Series([item for sublist in x for item in sublist]).value_counts(normalize=True)\n",
    "    rest_review_words = pd.Series([item for sublist in y for item in sublist]).value_counts(normalize=True)\n",
    "    td_middle_v_rest[i] = pd.concat([middle_review_words, rest_review_words], axis=1, join='outer').fillna(0)\n",
    "    td_middle_v_rest[i]['ratio'] = (td_middle_v_rest[i][0]+1e-6)/(td_middle_v_rest[i][1]+1e-6)"
   ]
  },
  {
   "cell_type": "code",
   "execution_count": 71,
   "metadata": {},
   "outputs": [
    {
     "name": "stderr",
     "output_type": "stream",
     "text": [
      "C:\\Users\\WeiZhong\\Anaconda3\\lib\\site-packages\\ipykernel\\__main__.py:11: UserWarning: Boolean Series key will be reindexed to match DataFrame index.\n",
      "C:\\Users\\WeiZhong\\Anaconda3\\lib\\site-packages\\ipykernel\\__main__.py:12: UserWarning: Boolean Series key will be reindexed to match DataFrame index.\n",
      "C:\\Users\\WeiZhong\\Anaconda3\\lib\\site-packages\\ipykernel\\__main__.py:13: UserWarning: Boolean Series key will be reindexed to match DataFrame index.\n",
      "C:\\Users\\WeiZhong\\Anaconda3\\lib\\site-packages\\ipykernel\\__main__.py:14: UserWarning: Boolean Series key will be reindexed to match DataFrame index.\n",
      "C:\\Users\\WeiZhong\\Anaconda3\\lib\\site-packages\\ipykernel\\__main__.py:15: UserWarning: Boolean Series key will be reindexed to match DataFrame index.\n"
     ]
    }
   ],
   "source": [
    "from nltk.util import ngrams\n",
    "\n",
    "td_freq = [[], [], [], [], [], []]\n",
    "\n",
    "from sklearn.model_selection import KFold\n",
    "\n",
    "kf = KFold(n_splits=6)\n",
    "\n",
    "for i, (_, indices) in enumerate(kf.split(train.index)):\n",
    "\n",
    "    a = c_big.loc[indices][c_big.Score == 1].review_stemmed.str.split().apply(lambda x: list(ngrams(x, 2))).ravel()\n",
    "    b = c_big.loc[indices][c_big.Score == 2].review_stemmed.str.split().apply(lambda x: list(ngrams(x, 2))).ravel()\n",
    "    c = c_big.loc[indices][c_big.Score == 3].review_stemmed.str.split().apply(lambda x: list(ngrams(x, 2))).ravel()\n",
    "    d = c_big.loc[indices][c_big.Score == 4].review_stemmed.str.split().apply(lambda x: list(ngrams(x, 2))).ravel()\n",
    "    e = c_big.loc[indices][c_big.Score == 5].review_stemmed.str.split().apply(lambda x: list(ngrams(x, 2))).ravel()\n",
    "    a_count = pd.Series([item for sublist in a for item in sublist]).count()\n",
    "    b_count = pd.Series([item for sublist in b for item in sublist]).count()\n",
    "    c_count = pd.Series([item for sublist in c for item in sublist]).count()\n",
    "    d_count = pd.Series([item for sublist in d for item in sublist]).count()\n",
    "    e_count = pd.Series([item for sublist in e for item in sublist]).count()\n",
    "    a_freq = pd.Series([item for sublist in a for item in sublist]).value_counts()\n",
    "    b_freq = pd.Series([item for sublist in b for item in sublist]).value_counts()\n",
    "    c_freq = pd.Series([item for sublist in c for item in sublist]).value_counts()\n",
    "    d_freq = pd.Series([item for sublist in d for item in sublist]).value_counts()\n",
    "    e_freq = pd.Series([item for sublist in e for item in sublist]).value_counts()\n",
    "    td_freq[i] = pd.concat([a_freq, b_freq, c_freq, d_freq, e_freq], axis=1, join='outer').fillna(0)\n",
    "    td_freq[i]['ratio_1_rest'] = (td_freq[i][0]/a_count+1e-4)/((td_freq[i][1]+td_freq[i][2]+td_freq[i][3]+td_freq[i][4])/(b_count+c_count+d_count+e_count)+1e-4)\n",
    "    td_freq[i]['ratio_2_rest'] = (td_freq[i][1]/b_count+1e-4)/((td_freq[i][0]+td_freq[i][2]+td_freq[i][3]+td_freq[i][4])/(a_count+c_count+d_count+e_count)+1e-4)\n",
    "    td_freq[i]['ratio_3_rest'] = (td_freq[i][2]/c_count+1e-4)/((td_freq[i][0]+td_freq[i][1]+td_freq[i][3]+td_freq[i][4])/(a_count+b_count+d_count+e_count)+1e-4)\n",
    "    td_freq[i]['ratio_4_rest'] = (td_freq[i][3]/d_count+1e-4)/((td_freq[i][0]+td_freq[i][1]+td_freq[i][2]+td_freq[i][4])/(a_count+b_count+c_count+e_count)+1e-4)\n",
    "    td_freq[i]['ratio_5_rest'] = (td_freq[i][4]/e_count+1e-4)/((td_freq[i][0]+td_freq[i][1]+td_freq[i][2]+td_freq[i][3])/(a_count+b_count+c_count+d_count)+1e-4)\n",
    "    td_freq[i]['ratio_1_rest_ms'] = (td_freq[i][0]/a_count+1e-6)/((td_freq[i][1]+td_freq[i][2]+td_freq[i][3]+td_freq[i][4])/(b_count+c_count+d_count+e_count)+1e-6)\n",
    "    td_freq[i]['ratio_2_rest_ms'] = (td_freq[i][1]/b_count+1e-6)/((td_freq[i][0]+td_freq[i][2]+td_freq[i][3]+td_freq[i][4])/(b_count+c_count+d_count+e_count)+1e-6)\n",
    "    td_freq[i]['ratio_3_rest_ms'] = (td_freq[i][2]/c_count+1e-6)/((td_freq[i][0]+td_freq[i][1]+td_freq[i][3]+td_freq[i][4])/(b_count+c_count+d_count+e_count)+1e-6)\n",
    "    td_freq[i]['ratio_4_rest_ms'] = (td_freq[i][3]/d_count+1e-6)/((td_freq[i][0]+td_freq[i][1]+td_freq[i][2]+td_freq[i][4])/(b_count+c_count+d_count+e_count)+1e-6)\n",
    "    td_freq[i]['ratio_5_rest_ms'] = (td_freq[i][4]/e_count+1e-6)/((td_freq[i][0]+td_freq[i][1]+td_freq[i][2]+td_freq[i][3])/(b_count+c_count+d_count+e_count)+1e-6)"
   ]
  },
  {
   "cell_type": "code",
   "execution_count": 504,
   "metadata": {},
   "outputs": [
    {
     "name": "stderr",
     "output_type": "stream",
     "text": [
      "C:\\Users\\WeiZhong\\Anaconda3\\lib\\site-packages\\ipykernel\\__main__.py:4: UserWarning: Boolean Series key will be reindexed to match DataFrame index.\n",
      "C:\\Users\\WeiZhong\\Anaconda3\\lib\\site-packages\\ipykernel\\__main__.py:5: UserWarning: Boolean Series key will be reindexed to match DataFrame index.\n",
      "C:\\Users\\WeiZhong\\Anaconda3\\lib\\site-packages\\ipykernel\\__main__.py:5: DeprecationWarning: generator 'ngrams' raised StopIteration\n"
     ]
    }
   ],
   "source": [
    "from nltk.util import ngrams\n",
    "\n",
    "sd_good_v_bad = [[], [], [], []]\n",
    "\n",
    "for i in range(4):\n",
    "    x = c_big.loc[indexpool[i]][c_big.Score == 5].summary_stemmed.str.split().apply(lambda x: list(ngrams(x, 2))).ravel()\n",
    "    y = c_big.loc[indexpool[i]][c_big.Score <= 2].summary_stemmed.str.split().apply(lambda x: list(ngrams(x, 2))).ravel()\n",
    "    good_review_words = pd.Series([item for sublist in x for item in sublist]).value_counts(normalize=True)\n",
    "    bad_review_words = pd.Series([item for sublist in y for item in sublist]).value_counts(normalize=True)\n",
    "    sd_good_v_bad[i] = pd.concat([good_review_words, bad_review_words], axis=1, join='outer').fillna(0)\n",
    "    sd_good_v_bad[i]['ratio'] = (sd_good_v_bad[i][0]+1e-6)/(sd_good_v_bad[i][1]+1e-6)"
   ]
  },
  {
   "cell_type": "code",
   "execution_count": 750,
   "metadata": {},
   "outputs": [
    {
     "name": "stderr",
     "output_type": "stream",
     "text": [
      "C:\\Users\\WeiZhong\\Anaconda3\\lib\\site-packages\\ipykernel\\__main__.py:6: UserWarning: Boolean Series key will be reindexed to match DataFrame index.\n",
      "C:\\Users\\WeiZhong\\Anaconda3\\lib\\site-packages\\ipykernel\\__main__.py:7: UserWarning: Boolean Series key will be reindexed to match DataFrame index.\n"
     ]
    }
   ],
   "source": [
    "from nltk.util import ngrams\n",
    "\n",
    "tt_good_v_bad = [[], [], [], []]\n",
    "\n",
    "for i in range(4):\n",
    "    x = c_big.loc[indexpool[i]][c_big.Score == 5].review_stemmed.str.split().apply(lambda x: list(ngrams(x, 3))).ravel()\n",
    "    y = c_big.loc[indexpool[i]][c_big.Score <= 2].review_stemmed.str.split().apply(lambda x: list(ngrams(x, 3))).ravel()\n",
    "    good_review_words = pd.Series([item for sublist in x for item in sublist]).value_counts(normalize=True)\n",
    "    bad_review_words = pd.Series([item for sublist in y for item in sublist]).value_counts(normalize=True)\n",
    "    tt_good_v_bad[i] = pd.concat([good_review_words, bad_review_words], axis=1, join='outer').fillna(0)\n",
    "    tt_good_v_bad[i]['ratio'] = (tt_good_v_bad[i][0]+1e-6)/(tt_good_v_bad[i][1]+1e-6)"
   ]
  },
  {
   "cell_type": "code",
   "execution_count": 916,
   "metadata": {},
   "outputs": [
    {
     "name": "stderr",
     "output_type": "stream",
     "text": [
      "C:\\Users\\WeiZhong\\Anaconda3\\lib\\site-packages\\ipykernel\\__main__.py:6: UserWarning: Boolean Series key will be reindexed to match DataFrame index.\n",
      "C:\\Users\\WeiZhong\\Anaconda3\\lib\\site-packages\\ipykernel\\__main__.py:7: UserWarning: Boolean Series key will be reindexed to match DataFrame index.\n"
     ]
    }
   ],
   "source": [
    "import gc\n",
    "gc.collect()\n",
    "\n",
    "tf_good_v_bad = [[], [], [], []]\n",
    "\n",
    "for i in range(4):\n",
    "    x = c_big.loc[indexpool[i]][c_big.Score == 5].review_stemmed.str.split().apply(lambda x: list(ngrams(x, 4))).ravel()\n",
    "    y = c_big.loc[indexpool[i]][c_big.Score <= 2].review_stemmed.str.split().apply(lambda x: list(ngrams(x, 4))).ravel()\n",
    "    good_review_words = pd.Series([item for sublist in x for item in sublist]).value_counts(normalize=True)\n",
    "    bad_review_words = pd.Series([item for sublist in y for item in sublist]).value_counts(normalize=True)\n",
    "    del x\n",
    "    del y\n",
    "    gc.collect()\n",
    "    tf_good_v_bad[i] = pd.concat([good_review_words[good_review_words>0.000001], bad_review_words[bad_review_words>0.000001]], axis=1, join='outer').fillna(0)\n",
    "    tf_good_v_bad[i]['ratio'] = (tf_good_v_bad[i][0]+1e-6)/(tf_good_v_bad[i][1]+1e-6)"
   ]
  },
  {
   "cell_type": "code",
   "execution_count": null,
   "metadata": {
    "collapsed": true
   },
   "outputs": [],
   "source": [
    "good_v_bad_all = pd.concat([good_v_bad[i]['ratio'] for i in range(4)], axis=1)\n",
    "good_v_bad_all.columns = ['r1', 'r2', 'r3', 'r4']\n",
    "selection = ((good_v_bad_all.r1 > 1) & (good_v_bad_all.r2 > 1) & (good_v_bad_all.r3 > 1) & (good_v_bad_all.r4 > 1)) | ((good_v_bad_all.r1 < 1) & (good_v_bad_all.r2 < 1) & (good_v_bad_all.r3 < 1) & (good_v_bad_all.r4 < 1))\n",
    "good_v_bad_all = good_v_bad_all[selection]\n",
    "good_v_bad_all['weight'] = good_v_bad_all.mean(axis=1)"
   ]
  },
  {
   "cell_type": "code",
   "execution_count": 399,
   "metadata": {
    "collapsed": true
   },
   "outputs": [],
   "source": [
    "s_good_v_bad_all = pd.concat([s_good_v_bad[i]['ratio'] for i in range(4)], axis=1)\n",
    "s_good_v_bad_all.columns = ['r1', 'r2', 'r3', 'r4']\n",
    "selection = ((s_good_v_bad_all.r1 > 1) & (s_good_v_bad_all.r2 > 1) & (s_good_v_bad_all.r3 > 1) & (s_good_v_bad_all.r4 > 1)) | ((s_good_v_bad_all.r1 < 1) & (s_good_v_bad_all.r2 < 1) & (s_good_v_bad_all.r3 < 1) & (s_good_v_bad_all.r4 < 1))\n",
    "s_good_v_bad_all = s_good_v_bad_all[selection]\n",
    "s_good_v_bad_all['weight'] = s_good_v_bad_all.mean(axis=1)"
   ]
  },
  {
   "cell_type": "code",
   "execution_count": 505,
   "metadata": {
    "collapsed": true
   },
   "outputs": [],
   "source": [
    "sd_good_v_bad_all = pd.concat([sd_good_v_bad[i]['ratio'] for i in range(4)], axis=1)\n",
    "sd_good_v_bad_all.columns = ['r1', 'r2', 'r3', 'r4']\n",
    "selection = ((sd_good_v_bad_all.r1 > 1) & (sd_good_v_bad_all.r2 > 1) & (sd_good_v_bad_all.r3 > 1) & (sd_good_v_bad_all.r4 > 1)) | ((sd_good_v_bad_all.r1 < 1) & (sd_good_v_bad_all.r2 < 1) & (sd_good_v_bad_all.r3 < 1) & (sd_good_v_bad_all.r4 < 1))\n",
    "sd_good_v_bad_all = sd_good_v_bad_all[selection]\n",
    "sd_good_v_bad_all['weight'] = sd_good_v_bad_all.mean(axis=1)"
   ]
  },
  {
   "cell_type": "code",
   "execution_count": 265,
   "metadata": {
    "collapsed": true
   },
   "outputs": [],
   "source": [
    "td_good_v_bad_all = pd.concat([td_good_v_bad[i]['ratio'] for i in range(4)], axis=1)\n",
    "td_good_v_bad_all.columns = ['r1', 'r2', 'r3', 'r4']\n",
    "selection = ((td_good_v_bad_all.r1 > 1) & (td_good_v_bad_all.r2 > 1) & (td_good_v_bad_all.r3 > 1) & (td_good_v_bad_all.r4 > 1)) | ((td_good_v_bad_all.r1 < 1) & (td_good_v_bad_all.r2 < 1) & (td_good_v_bad_all.r3 < 1) & (td_good_v_bad_all.r4 < 1))\n",
    "td_good_v_bad_all = td_good_v_bad_all[selection]\n",
    "td_good_v_bad_all['weight'] = td_good_v_bad_all.mean(axis=1)"
   ]
  },
  {
   "cell_type": "code",
   "execution_count": 931,
   "metadata": {
    "collapsed": true
   },
   "outputs": [],
   "source": [
    "td_middle_v_rest_all = pd.concat([td_middle_v_rest[i]['ratio'] for i in range(4)], axis=1)\n",
    "td_middle_v_rest_all.columns = ['r1', 'r2', 'r3', 'r4']\n",
    "selection = ((td_middle_v_rest_all.r1 > 1) & (td_middle_v_rest_all.r2 > 1) & (td_middle_v_rest_all.r3 > 1) & (td_middle_v_rest_all.r4 > 1)) | ((td_middle_v_rest_all.r1 < 1) & (td_middle_v_rest_all.r2 < 1) & (td_middle_v_rest_all.r3 < 1) & (td_middle_v_rest_all.r4 < 1))\n",
    "td_middle_v_rest_all = td_middle_v_rest_all[selection]\n",
    "td_middle_v_rest_all['weight'] = td_middle_v_rest_all.mean(axis=1)"
   ]
  },
  {
   "cell_type": "code",
   "execution_count": 72,
   "metadata": {
    "collapsed": true
   },
   "outputs": [],
   "source": [
    "td_freq_all = [[], [], [], [], [], [], [], [], [], []]\n",
    "for j, col_name in enumerate(['ratio_1_rest', 'ratio_2_rest', 'ratio_3_rest', 'ratio_4_rest', 'ratio_5_rest',\n",
    "                             'ratio_1_rest_ms', 'ratio_2_rest_ms', 'ratio_3_rest_ms', 'ratio_4_rest_ms', 'ratio_5_rest_ms']):\n",
    "    td_freq_all[j] = pd.concat([td_freq[i][col_name] for i in range(6)], axis=1)\n",
    "    td_freq_all[j].columns = ['r1', 'r2', 'r3', 'r4', 'r5', 'r6']\n",
    "    selection =   (td_freq_all[j].r1 > 1) & (td_freq_all[j].r2 > 1) & (td_freq_all[j].r3 > 1) \\\n",
    "                & (td_freq_all[j].r4 > 1) & (td_freq_all[j].r5 > 1) & (td_freq_all[j].r6 > 1)\n",
    "    td_freq_all[j] = td_freq_all[j][selection]\n",
    "    td_freq_all[j]['weight'] = td_freq_all[j].mean(axis=1)"
   ]
  },
  {
   "cell_type": "code",
   "execution_count": 12,
   "metadata": {
    "collapsed": true
   },
   "outputs": [],
   "source": [
    "td_freq_combined = pd.concat([td_freq_all[i]['weight'] for i in range(10)], axis=1)\n",
    "td_freq_combined.columns = ['weight_1', 'weight_2', 'weight_3', 'weight_4', 'weight_5', 'weight_1_ms', 'weight_2_ms', 'weight_3_ms', 'weight_4_ms', 'weight_5_ms']\n",
    "td_freq_combined.fillna(0, inplace=True)"
   ]
  },
  {
   "cell_type": "code",
   "execution_count": 751,
   "metadata": {
    "collapsed": true
   },
   "outputs": [],
   "source": [
    "tt_good_v_bad_all = pd.concat([tt_good_v_bad[i]['ratio'] for i in range(4)], axis=1)\n",
    "tt_good_v_bad_all.columns = ['r1', 'r2', 'r3', 'r4']\n",
    "selection = ((tt_good_v_bad_all.r1 > 1) & (tt_good_v_bad_all.r2 > 1) & (tt_good_v_bad_all.r3 > 1) & (tt_good_v_bad_all.r4 > 1)) | ((tt_good_v_bad_all.r1 < 1) & (tt_good_v_bad_all.r2 < 1) & (tt_good_v_bad_all.r3 < 1) & (tt_good_v_bad_all.r4 < 1))\n",
    "tt_good_v_bad_all = tt_good_v_bad_all[selection]\n",
    "tt_good_v_bad_all['weight'] = tt_good_v_bad_all.mean(axis=1)"
   ]
  },
  {
   "cell_type": "code",
   "execution_count": 917,
   "metadata": {
    "collapsed": true
   },
   "outputs": [],
   "source": [
    "tf_good_v_bad_all = pd.concat([tf_good_v_bad[i]['ratio'] for i in range(4)], axis=1)\n",
    "tf_good_v_bad_all.columns = ['r1', 'r2', 'r3', 'r4']\n",
    "selection = ((tf_good_v_bad_all.r1 > 1) & (tf_good_v_bad_all.r2 > 1) & (tf_good_v_bad_all.r3 > 1) & (tf_good_v_bad_all.r4 > 1)) | ((tf_good_v_bad_all.r1 < 1) & (tf_good_v_bad_all.r2 < 1) & (tf_good_v_bad_all.r3 < 1) & (tf_good_v_bad_all.r4 < 1))\n",
    "tf_good_v_bad_all = tf_good_v_bad_all[selection]\n",
    "tf_good_v_bad_all['weight'] = tf_good_v_bad_all.mean(axis=1)"
   ]
  },
  {
   "cell_type": "code",
   "execution_count": 320,
   "metadata": {
    "collapsed": true
   },
   "outputs": [],
   "source": [
    "good_v_bad_all['pos_weight'] = good_v_bad_all[good_v_bad_all['weight']>1]['weight']\n",
    "good_v_bad_all['neg_weight'] = -1/good_v_bad_all[good_v_bad_all['weight']<1]['weight']\n",
    "good_v_bad_all.fillna(0, inplace=True)"
   ]
  },
  {
   "cell_type": "code",
   "execution_count": 400,
   "metadata": {
    "collapsed": true
   },
   "outputs": [],
   "source": [
    "s_good_v_bad_all['pos_weight'] = s_good_v_bad_all[s_good_v_bad_all['weight']>1]['weight']\n",
    "s_good_v_bad_all['neg_weight'] = -1/s_good_v_bad_all[s_good_v_bad_all['weight']<1]['weight']\n",
    "s_good_v_bad_all.fillna(0, inplace=True)"
   ]
  },
  {
   "cell_type": "code",
   "execution_count": 507,
   "metadata": {
    "collapsed": true
   },
   "outputs": [],
   "source": [
    "sd_good_v_bad_all['pos_weight'] = sd_good_v_bad_all[sd_good_v_bad_all['weight']>1]['weight']\n",
    "sd_good_v_bad_all['neg_weight'] = -1/sd_good_v_bad_all[sd_good_v_bad_all['weight']<1]['weight']\n",
    "sd_good_v_bad_all.fillna(0, inplace=True)"
   ]
  },
  {
   "cell_type": "code",
   "execution_count": 736,
   "metadata": {
    "collapsed": true
   },
   "outputs": [],
   "source": [
    "td_good_v_bad_all['pos_weight'] = td_good_v_bad_all[td_good_v_bad_all['weight']>1]['weight']\n",
    "td_good_v_bad_all['neg_weight'] = -1/td_good_v_bad_all[td_good_v_bad_all['weight']<1]['weight']\n",
    "td_good_v_bad_all.fillna(0, inplace=True)"
   ]
  },
  {
   "cell_type": "code",
   "execution_count": 932,
   "metadata": {
    "collapsed": true
   },
   "outputs": [],
   "source": [
    "td_middle_v_rest_all['middle_weight'] = td_middle_v_rest_all[td_middle_v_rest_all['weight']>1]['weight']\n",
    "td_middle_v_rest_all['rest_weight'] = -1/td_middle_v_rest_all[td_middle_v_rest_all['weight']<1]['weight']\n",
    "td_middle_v_rest_all.fillna(0, inplace=True)"
   ]
  },
  {
   "cell_type": "code",
   "execution_count": 752,
   "metadata": {
    "collapsed": true
   },
   "outputs": [],
   "source": [
    "tt_good_v_bad_all['pos_weight'] = tt_good_v_bad_all[tt_good_v_bad_all['weight']>1]['weight']\n",
    "tt_good_v_bad_all['neg_weight'] = -1/tt_good_v_bad_all[tt_good_v_bad_all['weight']<1]['weight']\n",
    "tt_good_v_bad_all.fillna(0, inplace=True)"
   ]
  },
  {
   "cell_type": "code",
   "execution_count": 918,
   "metadata": {
    "collapsed": true
   },
   "outputs": [],
   "source": [
    "tf_good_v_bad_all['pos_weight'] = tf_good_v_bad_all[tf_good_v_bad_all['weight']>1]['weight']\n",
    "tf_good_v_bad_all['neg_weight'] = -1/tf_good_v_bad_all[tf_good_v_bad_all['weight']<1]['weight']\n",
    "tf_good_v_bad_all.fillna(0, inplace=True)"
   ]
  },
  {
   "cell_type": "code",
   "execution_count": 286,
   "metadata": {
    "collapsed": true
   },
   "outputs": [],
   "source": [
    "good_v_bad = pd.concat([good_review_words, bad_review_words], axis=1, join='outer').fillna(0)\n",
    "good_v_bad['ratio'] = (good_v_bad[0]+1e-6)/(good_v_bad[1]+1e-6)\n",
    "good_v_bad['sum'] = good_v_bad[0]+good_v_bad[1]\n",
    "good_v_bad['weight'] = good_v_bad['ratio'].apply(lambda x: x if x > 1 else 1/(x)) "
   ]
  },
  {
   "cell_type": "code",
   "execution_count": 322,
   "metadata": {
    "collapsed": true
   },
   "outputs": [],
   "source": [
    "from sklearn.feature_extraction.text import CountVectorizer\n",
    "\n",
    "vectorizer = CountVectorizer(ngram_range=(1, 2), vocabulary=good_v_bad_all.index)\n",
    "#vectorizer.fit(c_big.review_stemmed.loc[train.index])\n",
    "dtm_text = vectorizer.transform(c_big.review_stemmed)"
   ]
  },
  {
   "cell_type": "code",
   "execution_count": 402,
   "metadata": {
    "collapsed": true
   },
   "outputs": [],
   "source": [
    "s_vectorizer = CountVectorizer(vocabulary=s_good_v_bad_all.index)\n",
    "#vectorizer.fit(c_big.review_stemmed.loc[train.index])\n",
    "s_dtm_text = s_vectorizer.transform(c_big.summary_stemmed)"
   ]
  },
  {
   "cell_type": "code",
   "execution_count": 523,
   "metadata": {
    "collapsed": true
   },
   "outputs": [],
   "source": [
    "sd_vectorizer = CountVectorizer(ngram_range=(2,2), vocabulary=[' '.join(x) for x in list(sd_good_v_bad_all.index)])\n",
    "#vectorizer.fit(c_big.review_stemmed.loc[train.index])\n",
    "sd_dtm_text = sd_vectorizer.transform(c_big.summary_stemmed)"
   ]
  },
  {
   "cell_type": "code",
   "execution_count": 740,
   "metadata": {
    "collapsed": true
   },
   "outputs": [],
   "source": [
    "td_vectorizer = CountVectorizer(ngram_range=(2,2), vocabulary=[' '.join(x) for x in list(td_good_v_bad_all.index)])\n",
    "#vectorizer.fit(c_big.review_stemmed.loc[train.index])\n",
    "td_dtm_text = td_vectorizer.transform(c_big.review_stemmed)"
   ]
  },
  {
   "cell_type": "code",
   "execution_count": 935,
   "metadata": {
    "collapsed": true
   },
   "outputs": [],
   "source": [
    "tdm_vectorizer = CountVectorizer(ngram_range=(2,2), vocabulary=[' '.join(x) for x in list(td_middle_v_rest_all.index)])\n",
    "#vectorizer.fit(c_big.review_stemmed.loc[train.index])\n",
    "tdm_dtm_text = tdm_vectorizer.transform(c_big.review_stemmed)"
   ]
  },
  {
   "cell_type": "code",
   "execution_count": 73,
   "metadata": {
    "collapsed": true
   },
   "outputs": [],
   "source": [
    "from sklearn.feature_extraction.text import CountVectorizer\n",
    "tds_vectorizer = CountVectorizer(ngram_range=(2,2), vocabulary=[' '.join(x) for x in list(td_freq_combined.index)])\n",
    "#vectorizer.fit(c_big.review_stemmed.loc[train.index])\n",
    "tds_dtm_text = tds_vectorizer.transform(c_big.review_stemmed)"
   ]
  },
  {
   "cell_type": "code",
   "execution_count": 79,
   "metadata": {
    "collapsed": true
   },
   "outputs": [],
   "source": [
    "from sklearn.feature_extraction.text import CountVectorizer\n",
    "tde_vectorizer = CountVectorizer(ngram_range=(2,2), vocabulary=['two star', '2 star', 'three star', '3 star', 'four star', '4 star', 'star off'])\n",
    "#vectorizer.fit(c_big.review_stemmed.loc[train.index])\n",
    "tde_dtm_text = tde_vectorizer.transform(c_big.review_stemmed)"
   ]
  },
  {
   "cell_type": "code",
   "execution_count": 759,
   "metadata": {
    "collapsed": true
   },
   "outputs": [],
   "source": [
    "tt_vectorizer = CountVectorizer(ngram_range=(3,3), vocabulary=[' '.join(x) for x in list(tt_good_v_bad_all.index)])\n",
    "#vectorizer.fit(c_big.review_stemmed.loc[train.index])\n",
    "tt_dtm_text = tt_vectorizer.transform(c_big.review_stemmed)"
   ]
  },
  {
   "cell_type": "code",
   "execution_count": null,
   "metadata": {
    "collapsed": true
   },
   "outputs": [],
   "source": [
    "tf_vectorizer = CountVectorizer(ngram_range=(3,3), vocabulary=[' '.join(x) for x in list(tf_good_v_bad_all.index)])\n",
    "#vectorizer.fit(c_big.review_stemmed.loc[train.index])\n",
    "tf_dtm_text = tf_vectorizer.transform(c_big.review_stemmed)"
   ]
  },
  {
   "cell_type": "code",
   "execution_count": 325,
   "metadata": {
    "collapsed": true
   },
   "outputs": [],
   "source": [
    "c_big['pos_score'] = dtm_text.dot(good_v_bad_all.pos_weight)\n",
    "c_big['neg_score'] = dtm_text.dot(good_v_bad_all.neg_weight)"
   ]
  },
  {
   "cell_type": "code",
   "execution_count": 403,
   "metadata": {
    "collapsed": true
   },
   "outputs": [],
   "source": [
    "c_big['s_pos_score'] = s_dtm_text.dot(s_good_v_bad_all.pos_weight)\n",
    "c_big['s_neg_score'] = s_dtm_text.dot(s_good_v_bad_all.neg_weight)"
   ]
  },
  {
   "cell_type": "code",
   "execution_count": 525,
   "metadata": {
    "collapsed": true
   },
   "outputs": [],
   "source": [
    "c_big['sd_pos_score'] = sd_dtm_text.dot(sd_good_v_bad_all.pos_weight)\n",
    "c_big['sd_neg_score'] = sd_dtm_text.dot(sd_good_v_bad_all.neg_weight)"
   ]
  },
  {
   "cell_type": "code",
   "execution_count": 741,
   "metadata": {
    "collapsed": true
   },
   "outputs": [],
   "source": [
    "c_big['td_pos_score'] = td_dtm_text.dot(td_good_v_bad_all.pos_weight)\n",
    "c_big['td_neg_score'] = td_dtm_text.dot(td_good_v_bad_all.neg_weight)"
   ]
  },
  {
   "cell_type": "code",
   "execution_count": 937,
   "metadata": {
    "collapsed": true
   },
   "outputs": [],
   "source": [
    "c_big['td_middle_score'] = tdm_dtm_text.dot(td_middle_v_rest_all.middle_weight)\n",
    "c_big['td_rest_score'] = tdm_dtm_text.dot(td_middle_v_rest_all.rest_weight)"
   ]
  },
  {
   "cell_type": "code",
   "execution_count": 80,
   "metadata": {
    "collapsed": true
   },
   "outputs": [],
   "source": [
    "c_big['score_2_explicit_text'] = tde_dtm_text.dot([1, 1, 0, 0, 0, 0, 0])\n",
    "c_big['score_3_explicit_text'] = tde_dtm_text.dot([0, 0, 1, 1, 0, 0, 0])\n",
    "c_big['score_4_explicit_text'] = tde_dtm_text.dot([0, 0, 0, 0, 1, 1, 1])"
   ]
  },
  {
   "cell_type": "code",
   "execution_count": 129,
   "metadata": {},
   "outputs": [
    {
     "data": {
      "text/html": [
       "<div>\n",
       "<table border=\"1\" class=\"dataframe\">\n",
       "  <thead>\n",
       "    <tr style=\"text-align: right;\">\n",
       "      <th></th>\n",
       "      <th>score_2_explicit_text</th>\n",
       "      <th>score_3_explicit_text</th>\n",
       "      <th>score_4_explicit_text</th>\n",
       "    </tr>\n",
       "    <tr>\n",
       "      <th>Score</th>\n",
       "      <th></th>\n",
       "      <th></th>\n",
       "      <th></th>\n",
       "    </tr>\n",
       "  </thead>\n",
       "  <tbody>\n",
       "    <tr>\n",
       "      <th>1.0</th>\n",
       "      <td>0.000503</td>\n",
       "      <td>0.000220</td>\n",
       "      <td>0.000503</td>\n",
       "    </tr>\n",
       "    <tr>\n",
       "      <th>2.0</th>\n",
       "      <td>0.016101</td>\n",
       "      <td>0.000989</td>\n",
       "      <td>0.000714</td>\n",
       "    </tr>\n",
       "    <tr>\n",
       "      <th>3.0</th>\n",
       "      <td>0.002163</td>\n",
       "      <td>0.014176</td>\n",
       "      <td>0.002240</td>\n",
       "    </tr>\n",
       "    <tr>\n",
       "      <th>4.0</th>\n",
       "      <td>0.000123</td>\n",
       "      <td>0.000880</td>\n",
       "      <td>0.014403</td>\n",
       "    </tr>\n",
       "    <tr>\n",
       "      <th>5.0</th>\n",
       "      <td>0.000059</td>\n",
       "      <td>0.000045</td>\n",
       "      <td>0.000317</td>\n",
       "    </tr>\n",
       "  </tbody>\n",
       "</table>\n",
       "</div>"
      ],
      "text/plain": [
       "       score_2_explicit_text  score_3_explicit_text  score_4_explicit_text\n",
       "Score                                                                     \n",
       "1.0                 0.000503               0.000220               0.000503\n",
       "2.0                 0.016101               0.000989               0.000714\n",
       "3.0                 0.002163               0.014176               0.002240\n",
       "4.0                 0.000123               0.000880               0.014403\n",
       "5.0                 0.000059               0.000045               0.000317"
      ]
     },
     "execution_count": 129,
     "metadata": {},
     "output_type": "execute_result"
    }
   ],
   "source": [
    "c_big.loc[train.index][['score_2_explicit_text', 'score_3_explicit_text', 'score_4_explicit_text', 'Score']].groupby('Score').agg(lambda x: sum(x>0)/len(x))"
   ]
  },
  {
   "cell_type": "code",
   "execution_count": 74,
   "metadata": {
    "collapsed": true
   },
   "outputs": [],
   "source": [
    "c_big['score_1'] = tds_dtm_text.dot(td_freq_combined.weight_1)\n",
    "c_big['score_2'] = tds_dtm_text.dot(td_freq_combined.weight_2)\n",
    "c_big['score_3'] = tds_dtm_text.dot(td_freq_combined.weight_3)\n",
    "c_big['score_4'] = tds_dtm_text.dot(td_freq_combined.weight_4)\n",
    "c_big['score_5'] = tds_dtm_text.dot(td_freq_combined.weight_5)\n",
    "c_big['score_1_norm'] = c_big['score_1']/c_big['review_length']\n",
    "c_big['score_2_norm'] = c_big['score_2']/c_big['review_length']\n",
    "c_big['score_3_norm'] = c_big['score_3']/c_big['review_length']\n",
    "c_big['score_4_norm'] = c_big['score_4']/c_big['review_length']\n",
    "c_big['score_5_norm'] = c_big['score_5']/c_big['review_length']\n",
    "c_big['score_1_ms'] = tds_dtm_text.dot(td_freq_combined.weight_1_ms)\n",
    "c_big['score_2_ms'] = tds_dtm_text.dot(td_freq_combined.weight_2_ms)\n",
    "c_big['score_3_ms'] = tds_dtm_text.dot(td_freq_combined.weight_3_ms)\n",
    "c_big['score_4_ms'] = tds_dtm_text.dot(td_freq_combined.weight_4_ms)\n",
    "c_big['score_5_ms'] = tds_dtm_text.dot(td_freq_combined.weight_5_ms)\n",
    "c_big['score_1_ms_norm'] = c_big['score_1_ms']/c_big['review_length']\n",
    "c_big['score_2_ms_norm'] = c_big['score_2_ms']/c_big['review_length']\n",
    "c_big['score_3_ms_norm'] = c_big['score_3_ms']/c_big['review_length']\n",
    "c_big['score_4_ms_norm'] = c_big['score_4_ms']/c_big['review_length']\n",
    "c_big['score_5_ms_norm'] = c_big['score_5_ms']/c_big['review_length']"
   ]
  },
  {
   "cell_type": "code",
   "execution_count": 760,
   "metadata": {
    "collapsed": true
   },
   "outputs": [],
   "source": [
    "c_big['tt_pos_score'] = tt_dtm_text.dot(tt_good_v_bad_all.pos_weight)\n",
    "c_big['tt_neg_score'] = tt_dtm_text.dot(tt_good_v_bad_all.neg_weight)"
   ]
  },
  {
   "cell_type": "code",
   "execution_count": null,
   "metadata": {
    "collapsed": true
   },
   "outputs": [],
   "source": [
    "c_big['tf_pos_score'] = tf_dtm_text.dot(tf_good_v_bad_all.pos_weight)\n",
    "c_big['tf_neg_score'] = tf_dtm_text.dot(tf_good_v_bad_all.neg_weight)"
   ]
  },
  {
   "cell_type": "code",
   "execution_count": 383,
   "metadata": {
    "collapsed": true
   },
   "outputs": [],
   "source": [
    "c_big['pos_score_norm'] = c_big['pos_score']/c_big['review_length']\n",
    "c_big['neg_score_norm'] = c_big['neg_score']/c_big['review_length']"
   ]
  },
  {
   "cell_type": "code",
   "execution_count": 406,
   "metadata": {
    "collapsed": true
   },
   "outputs": [],
   "source": [
    "c_big['summary_length'] = c_big.summary_stemmed.apply(len)"
   ]
  },
  {
   "cell_type": "code",
   "execution_count": 743,
   "metadata": {
    "collapsed": true
   },
   "outputs": [],
   "source": [
    "c_big['s_pos_score_norm'] = c_big['s_pos_score']/c_big['summary_length']\n",
    "c_big['s_neg_score_norm'] = c_big['s_neg_score']/c_big['summary_length']"
   ]
  },
  {
   "cell_type": "code",
   "execution_count": 742,
   "metadata": {
    "collapsed": true
   },
   "outputs": [],
   "source": [
    "c_big['td_pos_score_norm'] = c_big['td_pos_score']/c_big['review_length']\n",
    "c_big['td_neg_score_norm'] = c_big['td_neg_score']/c_big['review_length']"
   ]
  },
  {
   "cell_type": "code",
   "execution_count": 16,
   "metadata": {},
   "outputs": [
    {
     "data": {
      "text/html": [
       "<div>\n",
       "<table border=\"1\" class=\"dataframe\">\n",
       "  <thead>\n",
       "    <tr style=\"text-align: right;\">\n",
       "      <th></th>\n",
       "      <th></th>\n",
       "      <th>score_1_ms_norm</th>\n",
       "      <th>score_2_ms_norm</th>\n",
       "      <th>score_3_ms_norm</th>\n",
       "      <th>score_4_ms_norm</th>\n",
       "      <th>score_5_ms_norm</th>\n",
       "    </tr>\n",
       "    <tr>\n",
       "      <th>Score</th>\n",
       "      <th></th>\n",
       "      <th></th>\n",
       "      <th></th>\n",
       "      <th></th>\n",
       "      <th></th>\n",
       "      <th></th>\n",
       "    </tr>\n",
       "  </thead>\n",
       "  <tbody>\n",
       "    <tr>\n",
       "      <th rowspan=\"8\" valign=\"top\">1.0</th>\n",
       "      <th>count</th>\n",
       "      <td>31589.000000</td>\n",
       "      <td>31589.000000</td>\n",
       "      <td>31589.000000</td>\n",
       "      <td>31589.000000</td>\n",
       "      <td>31589.000000</td>\n",
       "    </tr>\n",
       "    <tr>\n",
       "      <th>mean</th>\n",
       "      <td>0.166367</td>\n",
       "      <td>0.072613</td>\n",
       "      <td>0.056547</td>\n",
       "      <td>0.047531</td>\n",
       "      <td>0.204436</td>\n",
       "    </tr>\n",
       "    <tr>\n",
       "      <th>std</th>\n",
       "      <td>0.093803</td>\n",
       "      <td>0.035856</td>\n",
       "      <td>0.027242</td>\n",
       "      <td>0.022220</td>\n",
       "      <td>0.055958</td>\n",
       "    </tr>\n",
       "    <tr>\n",
       "      <th>min</th>\n",
       "      <td>0.000000</td>\n",
       "      <td>0.000000</td>\n",
       "      <td>0.000000</td>\n",
       "      <td>0.000000</td>\n",
       "      <td>0.000000</td>\n",
       "    </tr>\n",
       "    <tr>\n",
       "      <th>25%</th>\n",
       "      <td>0.102501</td>\n",
       "      <td>0.047736</td>\n",
       "      <td>0.037899</td>\n",
       "      <td>0.032330</td>\n",
       "      <td>0.167390</td>\n",
       "    </tr>\n",
       "    <tr>\n",
       "      <th>50%</th>\n",
       "      <td>0.146128</td>\n",
       "      <td>0.067305</td>\n",
       "      <td>0.053161</td>\n",
       "      <td>0.045335</td>\n",
       "      <td>0.202291</td>\n",
       "    </tr>\n",
       "    <tr>\n",
       "      <th>75%</th>\n",
       "      <td>0.207634</td>\n",
       "      <td>0.091505</td>\n",
       "      <td>0.071411</td>\n",
       "      <td>0.059921</td>\n",
       "      <td>0.238311</td>\n",
       "    </tr>\n",
       "    <tr>\n",
       "      <th>max</th>\n",
       "      <td>0.971524</td>\n",
       "      <td>0.388277</td>\n",
       "      <td>0.264950</td>\n",
       "      <td>0.248509</td>\n",
       "      <td>0.708242</td>\n",
       "    </tr>\n",
       "    <tr>\n",
       "      <th rowspan=\"8\" valign=\"top\">2.0</th>\n",
       "      <th>count</th>\n",
       "      <td>18186.000000</td>\n",
       "      <td>18186.000000</td>\n",
       "      <td>18186.000000</td>\n",
       "      <td>18186.000000</td>\n",
       "      <td>18186.000000</td>\n",
       "    </tr>\n",
       "    <tr>\n",
       "      <th>mean</th>\n",
       "      <td>0.099368</td>\n",
       "      <td>0.098533</td>\n",
       "      <td>0.072137</td>\n",
       "      <td>0.061621</td>\n",
       "      <td>0.214465</td>\n",
       "    </tr>\n",
       "    <tr>\n",
       "      <th>std</th>\n",
       "      <td>0.052987</td>\n",
       "      <td>0.061643</td>\n",
       "      <td>0.032611</td>\n",
       "      <td>0.025176</td>\n",
       "      <td>0.054493</td>\n",
       "    </tr>\n",
       "    <tr>\n",
       "      <th>min</th>\n",
       "      <td>0.000000</td>\n",
       "      <td>0.000000</td>\n",
       "      <td>0.000000</td>\n",
       "      <td>0.000000</td>\n",
       "      <td>0.000000</td>\n",
       "    </tr>\n",
       "    <tr>\n",
       "      <th>25%</th>\n",
       "      <td>0.063546</td>\n",
       "      <td>0.060748</td>\n",
       "      <td>0.049887</td>\n",
       "      <td>0.044570</td>\n",
       "      <td>0.178806</td>\n",
       "    </tr>\n",
       "    <tr>\n",
       "      <th>50%</th>\n",
       "      <td>0.089063</td>\n",
       "      <td>0.084169</td>\n",
       "      <td>0.067365</td>\n",
       "      <td>0.059314</td>\n",
       "      <td>0.211259</td>\n",
       "    </tr>\n",
       "    <tr>\n",
       "      <th>75%</th>\n",
       "      <td>0.124135</td>\n",
       "      <td>0.116529</td>\n",
       "      <td>0.088689</td>\n",
       "      <td>0.075899</td>\n",
       "      <td>0.246964</td>\n",
       "    </tr>\n",
       "    <tr>\n",
       "      <th>max</th>\n",
       "      <td>0.714504</td>\n",
       "      <td>0.564669</td>\n",
       "      <td>0.397605</td>\n",
       "      <td>0.256892</td>\n",
       "      <td>0.539393</td>\n",
       "    </tr>\n",
       "    <tr>\n",
       "      <th rowspan=\"8\" valign=\"top\">3.0</th>\n",
       "      <th>count</th>\n",
       "      <td>25919.000000</td>\n",
       "      <td>25919.000000</td>\n",
       "      <td>25919.000000</td>\n",
       "      <td>25919.000000</td>\n",
       "      <td>25919.000000</td>\n",
       "    </tr>\n",
       "    <tr>\n",
       "      <th>mean</th>\n",
       "      <td>0.072662</td>\n",
       "      <td>0.064250</td>\n",
       "      <td>0.092255</td>\n",
       "      <td>0.072620</td>\n",
       "      <td>0.228324</td>\n",
       "    </tr>\n",
       "    <tr>\n",
       "      <th>std</th>\n",
       "      <td>0.041180</td>\n",
       "      <td>0.031534</td>\n",
       "      <td>0.049556</td>\n",
       "      <td>0.028653</td>\n",
       "      <td>0.059501</td>\n",
       "    </tr>\n",
       "    <tr>\n",
       "      <th>min</th>\n",
       "      <td>0.000000</td>\n",
       "      <td>0.000000</td>\n",
       "      <td>0.000000</td>\n",
       "      <td>0.000000</td>\n",
       "      <td>0.000000</td>\n",
       "    </tr>\n",
       "    <tr>\n",
       "      <th>25%</th>\n",
       "      <td>0.045226</td>\n",
       "      <td>0.042723</td>\n",
       "      <td>0.060038</td>\n",
       "      <td>0.053110</td>\n",
       "      <td>0.189090</td>\n",
       "    </tr>\n",
       "    <tr>\n",
       "      <th>50%</th>\n",
       "      <td>0.064944</td>\n",
       "      <td>0.059335</td>\n",
       "      <td>0.081417</td>\n",
       "      <td>0.069751</td>\n",
       "      <td>0.223724</td>\n",
       "    </tr>\n",
       "    <tr>\n",
       "      <th>75%</th>\n",
       "      <td>0.091223</td>\n",
       "      <td>0.080216</td>\n",
       "      <td>0.111458</td>\n",
       "      <td>0.088864</td>\n",
       "      <td>0.262348</td>\n",
       "    </tr>\n",
       "    <tr>\n",
       "      <th>max</th>\n",
       "      <td>0.498259</td>\n",
       "      <td>0.405019</td>\n",
       "      <td>0.458804</td>\n",
       "      <td>0.444295</td>\n",
       "      <td>0.604200</td>\n",
       "    </tr>\n",
       "    <tr>\n",
       "      <th rowspan=\"8\" valign=\"top\">4.0</th>\n",
       "      <th>count</th>\n",
       "      <td>48887.000000</td>\n",
       "      <td>48887.000000</td>\n",
       "      <td>48887.000000</td>\n",
       "      <td>48887.000000</td>\n",
       "      <td>48887.000000</td>\n",
       "    </tr>\n",
       "    <tr>\n",
       "      <th>mean</th>\n",
       "      <td>0.049048</td>\n",
       "      <td>0.041253</td>\n",
       "      <td>0.052767</td>\n",
       "      <td>0.085874</td>\n",
       "      <td>0.276156</td>\n",
       "    </tr>\n",
       "    <tr>\n",
       "      <th>std</th>\n",
       "      <td>0.030390</td>\n",
       "      <td>0.023126</td>\n",
       "      <td>0.027924</td>\n",
       "      <td>0.039037</td>\n",
       "      <td>0.079556</td>\n",
       "    </tr>\n",
       "    <tr>\n",
       "      <th>min</th>\n",
       "      <td>0.000000</td>\n",
       "      <td>0.000000</td>\n",
       "      <td>0.000000</td>\n",
       "      <td>0.000000</td>\n",
       "      <td>0.000000</td>\n",
       "    </tr>\n",
       "    <tr>\n",
       "      <th>25%</th>\n",
       "      <td>0.028904</td>\n",
       "      <td>0.025822</td>\n",
       "      <td>0.034234</td>\n",
       "      <td>0.059877</td>\n",
       "      <td>0.222000</td>\n",
       "    </tr>\n",
       "    <tr>\n",
       "      <th>50%</th>\n",
       "      <td>0.044421</td>\n",
       "      <td>0.038754</td>\n",
       "      <td>0.049721</td>\n",
       "      <td>0.080377</td>\n",
       "      <td>0.265981</td>\n",
       "    </tr>\n",
       "    <tr>\n",
       "      <th>75%</th>\n",
       "      <td>0.063484</td>\n",
       "      <td>0.053445</td>\n",
       "      <td>0.067783</td>\n",
       "      <td>0.104894</td>\n",
       "      <td>0.319142</td>\n",
       "    </tr>\n",
       "    <tr>\n",
       "      <th>max</th>\n",
       "      <td>0.375571</td>\n",
       "      <td>0.225915</td>\n",
       "      <td>0.339934</td>\n",
       "      <td>0.521461</td>\n",
       "      <td>0.749155</td>\n",
       "    </tr>\n",
       "    <tr>\n",
       "      <th rowspan=\"8\" valign=\"top\">5.0</th>\n",
       "      <th>count</th>\n",
       "      <td>221022.000000</td>\n",
       "      <td>221022.000000</td>\n",
       "      <td>221022.000000</td>\n",
       "      <td>221022.000000</td>\n",
       "      <td>221022.000000</td>\n",
       "    </tr>\n",
       "    <tr>\n",
       "      <th>mean</th>\n",
       "      <td>0.042495</td>\n",
       "      <td>0.029250</td>\n",
       "      <td>0.032898</td>\n",
       "      <td>0.051470</td>\n",
       "      <td>0.351220</td>\n",
       "    </tr>\n",
       "    <tr>\n",
       "      <th>std</th>\n",
       "      <td>0.027274</td>\n",
       "      <td>0.018912</td>\n",
       "      <td>0.020508</td>\n",
       "      <td>0.025545</td>\n",
       "      <td>0.096429</td>\n",
       "    </tr>\n",
       "    <tr>\n",
       "      <th>min</th>\n",
       "      <td>0.000000</td>\n",
       "      <td>0.000000</td>\n",
       "      <td>0.000000</td>\n",
       "      <td>0.000000</td>\n",
       "      <td>0.000000</td>\n",
       "    </tr>\n",
       "    <tr>\n",
       "      <th>25%</th>\n",
       "      <td>0.023664</td>\n",
       "      <td>0.015902</td>\n",
       "      <td>0.018353</td>\n",
       "      <td>0.033586</td>\n",
       "      <td>0.283755</td>\n",
       "    </tr>\n",
       "    <tr>\n",
       "      <th>50%</th>\n",
       "      <td>0.038631</td>\n",
       "      <td>0.027112</td>\n",
       "      <td>0.030559</td>\n",
       "      <td>0.048674</td>\n",
       "      <td>0.341872</td>\n",
       "    </tr>\n",
       "    <tr>\n",
       "      <th>75%</th>\n",
       "      <td>0.056490</td>\n",
       "      <td>0.039715</td>\n",
       "      <td>0.044304</td>\n",
       "      <td>0.066088</td>\n",
       "      <td>0.408144</td>\n",
       "    </tr>\n",
       "    <tr>\n",
       "      <th>max</th>\n",
       "      <td>0.491495</td>\n",
       "      <td>0.246416</td>\n",
       "      <td>0.301384</td>\n",
       "      <td>0.244912</td>\n",
       "      <td>1.252244</td>\n",
       "    </tr>\n",
       "  </tbody>\n",
       "</table>\n",
       "</div>"
      ],
      "text/plain": [
       "             score_1_ms_norm  score_2_ms_norm  score_3_ms_norm  \\\n",
       "Score                                                            \n",
       "1.0   count     31589.000000     31589.000000     31589.000000   \n",
       "      mean          0.166367         0.072613         0.056547   \n",
       "      std           0.093803         0.035856         0.027242   \n",
       "      min           0.000000         0.000000         0.000000   \n",
       "      25%           0.102501         0.047736         0.037899   \n",
       "      50%           0.146128         0.067305         0.053161   \n",
       "      75%           0.207634         0.091505         0.071411   \n",
       "      max           0.971524         0.388277         0.264950   \n",
       "2.0   count     18186.000000     18186.000000     18186.000000   \n",
       "      mean          0.099368         0.098533         0.072137   \n",
       "      std           0.052987         0.061643         0.032611   \n",
       "      min           0.000000         0.000000         0.000000   \n",
       "      25%           0.063546         0.060748         0.049887   \n",
       "      50%           0.089063         0.084169         0.067365   \n",
       "      75%           0.124135         0.116529         0.088689   \n",
       "      max           0.714504         0.564669         0.397605   \n",
       "3.0   count     25919.000000     25919.000000     25919.000000   \n",
       "      mean          0.072662         0.064250         0.092255   \n",
       "      std           0.041180         0.031534         0.049556   \n",
       "      min           0.000000         0.000000         0.000000   \n",
       "      25%           0.045226         0.042723         0.060038   \n",
       "      50%           0.064944         0.059335         0.081417   \n",
       "      75%           0.091223         0.080216         0.111458   \n",
       "      max           0.498259         0.405019         0.458804   \n",
       "4.0   count     48887.000000     48887.000000     48887.000000   \n",
       "      mean          0.049048         0.041253         0.052767   \n",
       "      std           0.030390         0.023126         0.027924   \n",
       "      min           0.000000         0.000000         0.000000   \n",
       "      25%           0.028904         0.025822         0.034234   \n",
       "      50%           0.044421         0.038754         0.049721   \n",
       "      75%           0.063484         0.053445         0.067783   \n",
       "      max           0.375571         0.225915         0.339934   \n",
       "5.0   count    221022.000000    221022.000000    221022.000000   \n",
       "      mean          0.042495         0.029250         0.032898   \n",
       "      std           0.027274         0.018912         0.020508   \n",
       "      min           0.000000         0.000000         0.000000   \n",
       "      25%           0.023664         0.015902         0.018353   \n",
       "      50%           0.038631         0.027112         0.030559   \n",
       "      75%           0.056490         0.039715         0.044304   \n",
       "      max           0.491495         0.246416         0.301384   \n",
       "\n",
       "             score_4_ms_norm  score_5_ms_norm  \n",
       "Score                                          \n",
       "1.0   count     31589.000000     31589.000000  \n",
       "      mean          0.047531         0.204436  \n",
       "      std           0.022220         0.055958  \n",
       "      min           0.000000         0.000000  \n",
       "      25%           0.032330         0.167390  \n",
       "      50%           0.045335         0.202291  \n",
       "      75%           0.059921         0.238311  \n",
       "      max           0.248509         0.708242  \n",
       "2.0   count     18186.000000     18186.000000  \n",
       "      mean          0.061621         0.214465  \n",
       "      std           0.025176         0.054493  \n",
       "      min           0.000000         0.000000  \n",
       "      25%           0.044570         0.178806  \n",
       "      50%           0.059314         0.211259  \n",
       "      75%           0.075899         0.246964  \n",
       "      max           0.256892         0.539393  \n",
       "3.0   count     25919.000000     25919.000000  \n",
       "      mean          0.072620         0.228324  \n",
       "      std           0.028653         0.059501  \n",
       "      min           0.000000         0.000000  \n",
       "      25%           0.053110         0.189090  \n",
       "      50%           0.069751         0.223724  \n",
       "      75%           0.088864         0.262348  \n",
       "      max           0.444295         0.604200  \n",
       "4.0   count     48887.000000     48887.000000  \n",
       "      mean          0.085874         0.276156  \n",
       "      std           0.039037         0.079556  \n",
       "      min           0.000000         0.000000  \n",
       "      25%           0.059877         0.222000  \n",
       "      50%           0.080377         0.265981  \n",
       "      75%           0.104894         0.319142  \n",
       "      max           0.521461         0.749155  \n",
       "5.0   count    221022.000000    221022.000000  \n",
       "      mean          0.051470         0.351220  \n",
       "      std           0.025545         0.096429  \n",
       "      min           0.000000         0.000000  \n",
       "      25%           0.033586         0.283755  \n",
       "      50%           0.048674         0.341872  \n",
       "      75%           0.066088         0.408144  \n",
       "      max           0.244912         1.252244  "
      ]
     },
     "execution_count": 16,
     "metadata": {},
     "output_type": "execute_result"
    }
   ],
   "source": [
    "c_big.loc[test.index][['score_1_ms_norm', 'score_2_ms_norm', 'score_3_ms_norm', 'score_4_ms_norm', 'score_5_ms_norm','Score']].groupby('Score').describe()"
   ]
  },
  {
   "cell_type": "code",
   "execution_count": 76,
   "metadata": {
    "scrolled": true
   },
   "outputs": [
    {
     "data": {
      "image/png": "[encoded data removed]",
      "text/plain": [
       "<matplotlib.figure.Figure at 0x1ed31858860>"
      ]
     },
     "metadata": {},
     "output_type": "display_data"
    },
    {
     "data": {
      "image/png": "[encoded data removed]",
      "text/plain": [
       "<matplotlib.figure.Figure at 0x1ed25efbd68>"
      ]
     },
     "metadata": {},
     "output_type": "display_data"
    }
   ],
   "source": [
    "c_big.loc[test.index].boxplot(column='score_3_norm', by='Score')\n",
    "plt.show()\n",
    "c_big.loc[test.index].boxplot(column='td_middle_score_norm', by='Score')\n",
    "plt.show()"
   ]
  },
  {
   "cell_type": "code",
   "execution_count": 938,
   "metadata": {
    "collapsed": true
   },
   "outputs": [],
   "source": [
    "c_big['td_middle_score_norm'] = c_big['td_middle_score']/c_big['review_length']\n",
    "c_big['td_rest_score_norm'] = c_big['td_rest_score']/c_big['review_length']"
   ]
  },
  {
   "cell_type": "code",
   "execution_count": 761,
   "metadata": {
    "collapsed": true
   },
   "outputs": [],
   "source": [
    "c_big['tt_pos_score_norm'] = c_big['tt_pos_score']/c_big['review_length']\n",
    "c_big['tt_neg_score_norm'] = c_big['tt_neg_score']/c_big['review_length']"
   ]
  },
  {
   "cell_type": "code",
   "execution_count": null,
   "metadata": {
    "collapsed": true
   },
   "outputs": [],
   "source": [
    "c_big['tf_pos_score_norm'] = c_big['tf_pos_score']/c_big['review_length']\n",
    "c_big['tf_neg_score_norm'] = c_big['tf_neg_score']/c_big['review_length']"
   ]
  },
  {
   "cell_type": "code",
   "execution_count": null,
   "metadata": {
    "collapsed": true
   },
   "outputs": [],
   "source": [
    "dtm_text_columns = ['o' + str(x) for x in np.arange(dtm_text.shape[1])]\n",
    "df_dtm_text = pd.DataFrame(dtm_text.todense(), index=c_big.index, \n",
    "                                   columns=dtm_text_columns)"
   ]
  },
  {
   "cell_type": "code",
   "execution_count": 229,
   "metadata": {
    "collapsed": true
   },
   "outputs": [],
   "source": [
    "c_big[dtm_text_columns] = df_dtm_text"
   ]
  },
  {
   "cell_type": "code",
   "execution_count": 19,
   "metadata": {
    "collapsed": true
   },
   "outputs": [],
   "source": [
    "from sklearn.decomposition import TruncatedSVD\n",
    "\n",
    "svd = TruncatedSVD(n_components=50)\n",
    "svd.fit(dtm_text)\n",
    "dtm_text_reduced = svd.transform(dtm_text)"
   ]
  },
  {
   "cell_type": "code",
   "execution_count": 20,
   "metadata": {
    "collapsed": true
   },
   "outputs": [],
   "source": [
    "dtm_text_reduced_columns = ['t' + str(x) for x in np.arange(dtm_text_reduced.shape[1])]\n",
    "df_dtm_text_reduced = pd.DataFrame(dtm_text_reduced, index=c_big.index, \n",
    "                                   columns=dtm_text_reduced_columns)"
   ]
  },
  {
   "cell_type": "markdown",
   "metadata": {},
   "source": [
    "## Process review summary"
   ]
  },
  {
   "cell_type": "code",
   "execution_count": 15,
   "metadata": {},
   "outputs": [
    {
     "name": "stderr",
     "output_type": "stream",
     "text": [
      "C:\\Users\\WeiZhong\\Anaconda3\\lib\\site-packages\\ipykernel\\__main__.py:1: SettingWithCopyWarning: \n",
      "A value is trying to be set on a copy of a slice from a DataFrame\n",
      "\n",
      "See the caveats in the documentation: http://pandas.pydata.org/pandas-docs/stable/indexing.html#indexing-view-versus-copy\n",
      "  if __name__ == '__main__':\n"
     ]
    }
   ],
   "source": [
    "c_big.Summary[c_big.Summary.isnull()] = \"\"\n",
    "train.Summary[train.Summary.isnull()] = \"\""
   ]
  },
  {
   "cell_type": "code",
   "execution_count": 16,
   "metadata": {
    "collapsed": true
   },
   "outputs": [],
   "source": [
    "vectorizer_summary = CountVectorizer()\n",
    "vectorizer_summary.fit(train.Summary)\n",
    "dtm_summary = vectorizer_summary.transform(c_big.Summary)"
   ]
  },
  {
   "cell_type": "code",
   "execution_count": 17,
   "metadata": {
    "collapsed": true
   },
   "outputs": [],
   "source": [
    "svd_summary = TruncatedSVD(n_components=20)\n",
    "svd_summary.fit(dtm_summary)\n",
    "dtm_summary_reduced = svd_summary.transform(dtm_summary)"
   ]
  },
  {
   "cell_type": "code",
   "execution_count": 18,
   "metadata": {
    "collapsed": true
   },
   "outputs": [],
   "source": [
    "dtm_summary_reduced_columns = ['s' + str(x) for x in np.arange(dtm_summary_reduced.shape[1])]\n",
    "df_dtm_summary_reduced = pd.DataFrame(dtm_summary_reduced, index=c_big.index, \n",
    "                                   columns=dtm_summary_reduced_columns)"
   ]
  },
  {
   "cell_type": "markdown",
   "metadata": {},
   "source": [
    "## Do one-hot encoding of popular products (not included in final forest)"
   ]
  },
  {
   "cell_type": "code",
   "execution_count": 11,
   "metadata": {
    "collapsed": true
   },
   "outputs": [],
   "source": [
    "train.ProductId[~train.ProductId.isin(train.ProductId.value_counts()[train.ProductId.value_counts() > 200].index)] = '0'"
   ]
  },
  {
   "cell_type": "code",
   "execution_count": 12,
   "metadata": {
    "collapsed": true
   },
   "outputs": [],
   "source": [
    "from sklearn.preprocessing import LabelBinarizer\n",
    "\n",
    "encoder = LabelBinarizer()\n",
    "encoder.fit(train.ProductId)\n",
    "ProductId_one_hot = encoder.transform(c_big.ProductId)"
   ]
  },
  {
   "cell_type": "code",
   "execution_count": 23,
   "metadata": {
    "collapsed": true
   },
   "outputs": [],
   "source": [
    "ProductId_one_hot_columns = ['p' + str(x) for x in np.arange(ProductId_one_hot.shape[1])]\n",
    "df_ProductId_one_hot = pd.DataFrame(ProductId_one_hot, index=c_big.index, \n",
    "                                    columns=ProductId_one_hot_columns)"
   ]
  },
  {
   "cell_type": "markdown",
   "metadata": {},
   "source": [
    "## Perform classification"
   ]
  },
  {
   "cell_type": "code",
   "execution_count": 592,
   "metadata": {
    "collapsed": true
   },
   "outputs": [],
   "source": [
    "c_big = pd.concat([c_big, df_dtm_text, df_ProductId_one_hot, df_dtm_summary_reduced, df_dtm_text_reduced], axis=1)"
   ]
  },
  {
   "cell_type": "markdown",
   "metadata": {},
   "source": [
    "This cell is for saving the results into a CSV."
   ]
  },
  {
   "cell_type": "code",
   "execution_count": 1,
   "metadata": {},
   "outputs": [
    {
     "ename": "NameError",
     "evalue": "name 'c_big' is not defined",
     "output_type": "error",
     "traceback": [
      "\u001b[0;31m---------------------------------------------------------------------------\u001b[0m",
      "\u001b[0;31mNameError\u001b[0m                                 Traceback (most recent call last)",
      "\u001b[0;32m<ipython-input-1-f6c5162b08d8>\u001b[0m in \u001b[0;36m<module>\u001b[0;34m()\u001b[0m\n\u001b[1;32m      1\u001b[0m \u001b[1;32mimport\u001b[0m \u001b[0mcsv\u001b[0m\u001b[1;33m\u001b[0m\u001b[0m\n\u001b[0;32m----> 2\u001b[0;31m \u001b[0mc_big\u001b[0m\u001b[1;33m.\u001b[0m\u001b[0mto_csv\u001b[0m\u001b[1;33m(\u001b[0m\u001b[1;34m'c_big.csv'\u001b[0m\u001b[1;33m,\u001b[0m \u001b[0mquoting\u001b[0m\u001b[1;33m=\u001b[0m\u001b[0mcsv\u001b[0m\u001b[1;33m.\u001b[0m\u001b[0mQUOTE_ALL\u001b[0m\u001b[1;33m)\u001b[0m\u001b[1;33m\u001b[0m\u001b[0m\n\u001b[0m",
      "\u001b[0;31mNameError\u001b[0m: name 'c_big' is not defined"
     ]
    }
   ],
   "source": [
    "import csv\n",
    "c_big.to_csv('c_big.csv', quoting=csv.QUOTE_ALL)"
   ]
  },
  {
   "cell_type": "markdown",
   "metadata": {},
   "source": [
    "This cell is for importing where you left off."
   ]
  },
  {
   "cell_type": "code",
   "execution_count": 4,
   "metadata": {
    "collapsed": true
   },
   "outputs": [],
   "source": [
    "c_big = pd.read_csv('c_big.csv', encoding='latin-1')\n",
    "c_big.summary_stemmed.fillna(\"\", inplace=True)"
   ]
  },
  {
   "cell_type": "code",
   "execution_count": 81,
   "metadata": {
    "collapsed": true
   },
   "outputs": [],
   "source": [
    "rel_columns = ['HelpfulnessDenominator', 'HelpfulnessNumerator', 's_neg_score', 's_pos_score', 'neg_score_norm', \n",
    "               'pos_score_norm', 'sd_neg_score', 'sd_pos_score',\n",
    "               'td_pos_score_norm', 'td_neg_score_norm', 'tt_pos_score_norm', 'tt_neg_score_norm',\n",
    "               'td_rest_score_norm', 'td_middle_score_norm',\n",
    "               'score_1_ms_norm', 'score_5_ms_norm',\n",
    "               'score_2_ms_norm', 'score_3_ms_norm', 'score_4_ms_norm',\n",
    "               's0', 's1', 's2', 's3', 's4', 's5', 's6', 's7', 's8', 's9', \n",
    "               's10', 's11', 's12', 's13', 's14', 's15','s16', 's17', 's18', 's19', 'review_length',\n",
    "               't0', 't1', 't2', 't3',\n",
    "               't4', 't5', 't6', 't7', 't8', 't9', 't10', 't11', 't12', 't13', 't14']"
   ]
  },
  {
   "cell_type": "code",
   "execution_count": 20,
   "metadata": {
    "collapsed": true
   },
   "outputs": [],
   "source": [
    "train_big = c_big.loc[train.index]"
   ]
  },
  {
   "cell_type": "code",
   "execution_count": 265,
   "metadata": {},
   "outputs": [
    {
     "name": "stdout",
     "output_type": "stream",
     "text": [
      "train\n",
      "0.854949589946\n",
      "test\n",
      "0.871284939341\n"
     ]
    }
   ],
   "source": [
    "from sklearn.neural_network import MLPRegressor\n",
    "\n",
    "mlp = MLPRegressor()\n",
    "mlp.fit(train_big[rel_columns], train.Score)\n",
    "c_big['prediction_mlp'] = mlp.predict(c_big[rel_columns])\n",
    "print('train')\n",
    "print(np.sqrt(mean_squared_error(c_big.Score.loc[train.index], c_big.prediction_mlp.loc[train.index])))\n",
    "print('test')\n",
    "print(np.sqrt(mean_squared_error(c_big.Score.loc[test.index], c_big.prediction_mlp.loc[test.index])))"
   ]
  },
  {
   "cell_type": "code",
   "execution_count": null,
   "metadata": {
    "collapsed": true
   },
   "outputs": [],
   "source": [
    "\"\"\"\n",
    "# This takes very long!!!\n",
    "from sklearn.neighbors import KNeighborsClassifier\n",
    "\n",
    "knn = KNeighborsClassifier(n_neighbors=9)\n",
    "knn.fit(train_big[rel_columns], train.Score)\n",
    "c['prediction_knn'] = knn.predict(c_big[rel_columns])\n",
    "print('train')\n",
    "print(np.sqrt(mean_squared_error(c_big.Score.loc[train.index], c_big.prediction_knn.loc[train.index])))\n",
    "print('test')\n",
    "print(np.sqrt(mean_squared_error(c_big.Score.loc[test.index], c_big.prediction_knn.loc[test.index])))\n",
    "\"\"\""
   ]
  },
  {
   "cell_type": "code",
   "execution_count": 78,
   "metadata": {
    "collapsed": true
   },
   "outputs": [],
   "source": [
    "def discretize(x):\n",
    "    if x > 4.43:\n",
    "        return 5\n",
    "    elif x > 3.40:\n",
    "        return 4\n",
    "    elif x > 2.62:\n",
    "        return 3\n",
    "    elif x > 1.61:\n",
    "        return 2\n",
    "    else:\n",
    "        return 1"
   ]
  },
  {
   "cell_type": "markdown",
   "metadata": {},
   "source": [
    "## Here is the random forest that puts everything together:"
   ]
  },
  {
   "cell_type": "code",
   "execution_count": 84,
   "metadata": {},
   "outputs": [
    {
     "name": "stdout",
     "output_type": "stream",
     "text": [
      "n_estimators = 15\n",
      "min_samples_leaf = 2\n",
      "train\n",
      "0.230550371467\n",
      "test\n",
      "0.655145040564\n"
     ]
    }
   ],
   "source": [
    "from sklearn.ensemble import RandomForestClassifier\n",
    "\n",
    "# with 6-fold validation: still .582\n",
    "# the k-scores do not seem to help\n",
    "# with only 1 and 5 k-scores: .585\n",
    "# without any k-scores: .582\n",
    "# with k-scores_ms: .584, with k-scores .583\n",
    "# 200 iter: 0.558\n",
    "# with score_ms, additional text columns, .5773(91, 88) for all, adjusted threshold\n",
    "# with explicit scores, 5772(83)\n",
    "# with score_ms columns, .5772(82) casually - 1 & 5 were impt, no additional text columns\n",
    "# with middle columns, .6047 casually\n",
    "# .5967 | 75% train error, 200 iter\n",
    "# with twograms and threegrams .62 casually ~ .619, .6188 | .61699 with rev texts | 0.6131(55) with text lsas 15 \n",
    "# with twograms .66 casually... .661 without text LSAs, .674 with text LSAs. \n",
    "#  with scores .74\n",
    "#  without scores .755\n",
    "#for n_estimators in [5]:#[5,15,20,40,70]:\n",
    " #   for min_samples_leaf in [3]:#[1,3,10,20,50]:\n",
    "cls = RandomForestClassifier(n_estimators = 15, n_jobs = -1,\n",
    "                                     max_features = 30, min_samples_leaf = 2) # No. of estimators should be 50\n",
    "cls.fit(c_big.loc[train.index][rel_columns], c_big.loc[train.index].Score)\n",
    "c_big['prediction_cls'] = cls.predict(c_big[rel_columns])\n",
    "#c_big['prediction_regressor'] = c_big.prediction_regressor_orig.apply(discretize)\n",
    "print('n_estimators = {}'.format(15))\n",
    "print('min_samples_leaf = {}'.format(2))\n",
    "print('train')\n",
    "print(np.sqrt(mean_squared_error(c_big.Score.loc[train.index], c_big.prediction_cls.loc[train.index])))\n",
    "print('test')\n",
    "print(np.sqrt(mean_squared_error(c_big.Score.loc[test.index], c_big.prediction_cls.loc[test.index])))"
   ]
  },
  {
   "cell_type": "code",
   "execution_count": 85,
   "metadata": {},
   "outputs": [
    {
     "data": {
      "text/html": [
       "<div>\n",
       "<table border=\"1\" class=\"dataframe\">\n",
       "  <thead>\n",
       "    <tr style=\"text-align: right;\">\n",
       "      <th></th>\n",
       "      <th>0</th>\n",
       "      <th>1</th>\n",
       "    </tr>\n",
       "  </thead>\n",
       "  <tbody>\n",
       "    <tr>\n",
       "      <th>9</th>\n",
       "      <td>td_neg_score_norm</td>\n",
       "      <td>0.101967</td>\n",
       "    </tr>\n",
       "    <tr>\n",
       "      <th>8</th>\n",
       "      <td>td_pos_score_norm</td>\n",
       "      <td>0.097165</td>\n",
       "    </tr>\n",
       "    <tr>\n",
       "      <th>13</th>\n",
       "      <td>td_middle_score_norm</td>\n",
       "      <td>0.068487</td>\n",
       "    </tr>\n",
       "    <tr>\n",
       "      <th>12</th>\n",
       "      <td>td_rest_score_norm</td>\n",
       "      <td>0.058214</td>\n",
       "    </tr>\n",
       "    <tr>\n",
       "      <th>14</th>\n",
       "      <td>score_1_ms_norm</td>\n",
       "      <td>0.043696</td>\n",
       "    </tr>\n",
       "    <tr>\n",
       "      <th>10</th>\n",
       "      <td>tt_pos_score_norm</td>\n",
       "      <td>0.043445</td>\n",
       "    </tr>\n",
       "    <tr>\n",
       "      <th>2</th>\n",
       "      <td>s_neg_score</td>\n",
       "      <td>0.042250</td>\n",
       "    </tr>\n",
       "    <tr>\n",
       "      <th>17</th>\n",
       "      <td>score_3_ms_norm</td>\n",
       "      <td>0.037254</td>\n",
       "    </tr>\n",
       "    <tr>\n",
       "      <th>18</th>\n",
       "      <td>score_4_ms_norm</td>\n",
       "      <td>0.033368</td>\n",
       "    </tr>\n",
       "    <tr>\n",
       "      <th>11</th>\n",
       "      <td>tt_neg_score_norm</td>\n",
       "      <td>0.027907</td>\n",
       "    </tr>\n",
       "    <tr>\n",
       "      <th>16</th>\n",
       "      <td>score_2_ms_norm</td>\n",
       "      <td>0.025072</td>\n",
       "    </tr>\n",
       "    <tr>\n",
       "      <th>3</th>\n",
       "      <td>s_pos_score</td>\n",
       "      <td>0.019814</td>\n",
       "    </tr>\n",
       "    <tr>\n",
       "      <th>15</th>\n",
       "      <td>score_5_ms_norm</td>\n",
       "      <td>0.018039</td>\n",
       "    </tr>\n",
       "    <tr>\n",
       "      <th>6</th>\n",
       "      <td>sd_neg_score</td>\n",
       "      <td>0.012491</td>\n",
       "    </tr>\n",
       "    <tr>\n",
       "      <th>39</th>\n",
       "      <td>review_length</td>\n",
       "      <td>0.012460</td>\n",
       "    </tr>\n",
       "    <tr>\n",
       "      <th>33</th>\n",
       "      <td>s14</td>\n",
       "      <td>0.012380</td>\n",
       "    </tr>\n",
       "    <tr>\n",
       "      <th>43</th>\n",
       "      <td>t3</td>\n",
       "      <td>0.011771</td>\n",
       "    </tr>\n",
       "    <tr>\n",
       "      <th>44</th>\n",
       "      <td>t4</td>\n",
       "      <td>0.011347</td>\n",
       "    </tr>\n",
       "    <tr>\n",
       "      <th>4</th>\n",
       "      <td>neg_score_norm</td>\n",
       "      <td>0.011279</td>\n",
       "    </tr>\n",
       "    <tr>\n",
       "      <th>7</th>\n",
       "      <td>sd_pos_score</td>\n",
       "      <td>0.010958</td>\n",
       "    </tr>\n",
       "    <tr>\n",
       "      <th>48</th>\n",
       "      <td>t8</td>\n",
       "      <td>0.010864</td>\n",
       "    </tr>\n",
       "    <tr>\n",
       "      <th>53</th>\n",
       "      <td>t13</td>\n",
       "      <td>0.010792</td>\n",
       "    </tr>\n",
       "    <tr>\n",
       "      <th>5</th>\n",
       "      <td>pos_score_norm</td>\n",
       "      <td>0.010757</td>\n",
       "    </tr>\n",
       "    <tr>\n",
       "      <th>40</th>\n",
       "      <td>t0</td>\n",
       "      <td>0.010154</td>\n",
       "    </tr>\n",
       "    <tr>\n",
       "      <th>45</th>\n",
       "      <td>t5</td>\n",
       "      <td>0.010117</td>\n",
       "    </tr>\n",
       "    <tr>\n",
       "      <th>52</th>\n",
       "      <td>t12</td>\n",
       "      <td>0.010088</td>\n",
       "    </tr>\n",
       "    <tr>\n",
       "      <th>42</th>\n",
       "      <td>t2</td>\n",
       "      <td>0.010023</td>\n",
       "    </tr>\n",
       "    <tr>\n",
       "      <th>54</th>\n",
       "      <td>t14</td>\n",
       "      <td>0.009984</td>\n",
       "    </tr>\n",
       "    <tr>\n",
       "      <th>47</th>\n",
       "      <td>t7</td>\n",
       "      <td>0.009889</td>\n",
       "    </tr>\n",
       "    <tr>\n",
       "      <th>46</th>\n",
       "      <td>t6</td>\n",
       "      <td>0.009795</td>\n",
       "    </tr>\n",
       "    <tr>\n",
       "      <th>49</th>\n",
       "      <td>t9</td>\n",
       "      <td>0.009633</td>\n",
       "    </tr>\n",
       "    <tr>\n",
       "      <th>50</th>\n",
       "      <td>t10</td>\n",
       "      <td>0.009474</td>\n",
       "    </tr>\n",
       "    <tr>\n",
       "      <th>51</th>\n",
       "      <td>t11</td>\n",
       "      <td>0.009448</td>\n",
       "    </tr>\n",
       "    <tr>\n",
       "      <th>21</th>\n",
       "      <td>s2</td>\n",
       "      <td>0.009412</td>\n",
       "    </tr>\n",
       "    <tr>\n",
       "      <th>41</th>\n",
       "      <td>t1</td>\n",
       "      <td>0.009383</td>\n",
       "    </tr>\n",
       "    <tr>\n",
       "      <th>38</th>\n",
       "      <td>s19</td>\n",
       "      <td>0.008860</td>\n",
       "    </tr>\n",
       "    <tr>\n",
       "      <th>19</th>\n",
       "      <td>s0</td>\n",
       "      <td>0.008542</td>\n",
       "    </tr>\n",
       "    <tr>\n",
       "      <th>23</th>\n",
       "      <td>s4</td>\n",
       "      <td>0.008467</td>\n",
       "    </tr>\n",
       "    <tr>\n",
       "      <th>37</th>\n",
       "      <td>s18</td>\n",
       "      <td>0.008321</td>\n",
       "    </tr>\n",
       "    <tr>\n",
       "      <th>25</th>\n",
       "      <td>s6</td>\n",
       "      <td>0.008315</td>\n",
       "    </tr>\n",
       "    <tr>\n",
       "      <th>24</th>\n",
       "      <td>s5</td>\n",
       "      <td>0.008195</td>\n",
       "    </tr>\n",
       "    <tr>\n",
       "      <th>29</th>\n",
       "      <td>s10</td>\n",
       "      <td>0.007980</td>\n",
       "    </tr>\n",
       "    <tr>\n",
       "      <th>28</th>\n",
       "      <td>s9</td>\n",
       "      <td>0.007924</td>\n",
       "    </tr>\n",
       "    <tr>\n",
       "      <th>20</th>\n",
       "      <td>s1</td>\n",
       "      <td>0.007902</td>\n",
       "    </tr>\n",
       "    <tr>\n",
       "      <th>22</th>\n",
       "      <td>s3</td>\n",
       "      <td>0.007891</td>\n",
       "    </tr>\n",
       "    <tr>\n",
       "      <th>26</th>\n",
       "      <td>s7</td>\n",
       "      <td>0.007886</td>\n",
       "    </tr>\n",
       "    <tr>\n",
       "      <th>31</th>\n",
       "      <td>s12</td>\n",
       "      <td>0.007840</td>\n",
       "    </tr>\n",
       "    <tr>\n",
       "      <th>35</th>\n",
       "      <td>s16</td>\n",
       "      <td>0.007714</td>\n",
       "    </tr>\n",
       "    <tr>\n",
       "      <th>27</th>\n",
       "      <td>s8</td>\n",
       "      <td>0.007656</td>\n",
       "    </tr>\n",
       "    <tr>\n",
       "      <th>32</th>\n",
       "      <td>s13</td>\n",
       "      <td>0.007652</td>\n",
       "    </tr>\n",
       "    <tr>\n",
       "      <th>34</th>\n",
       "      <td>s15</td>\n",
       "      <td>0.007443</td>\n",
       "    </tr>\n",
       "    <tr>\n",
       "      <th>36</th>\n",
       "      <td>s17</td>\n",
       "      <td>0.007192</td>\n",
       "    </tr>\n",
       "    <tr>\n",
       "      <th>30</th>\n",
       "      <td>s11</td>\n",
       "      <td>0.006942</td>\n",
       "    </tr>\n",
       "    <tr>\n",
       "      <th>0</th>\n",
       "      <td>HelpfulnessDenominator</td>\n",
       "      <td>0.005207</td>\n",
       "    </tr>\n",
       "    <tr>\n",
       "      <th>1</th>\n",
       "      <td>HelpfulnessNumerator</td>\n",
       "      <td>0.002893</td>\n",
       "    </tr>\n",
       "  </tbody>\n",
       "</table>\n",
       "</div>"
      ],
      "text/plain": [
       "                         0         1\n",
       "9        td_neg_score_norm  0.101967\n",
       "8        td_pos_score_norm  0.097165\n",
       "13    td_middle_score_norm  0.068487\n",
       "12      td_rest_score_norm  0.058214\n",
       "14         score_1_ms_norm  0.043696\n",
       "10       tt_pos_score_norm  0.043445\n",
       "2              s_neg_score  0.042250\n",
       "17         score_3_ms_norm  0.037254\n",
       "18         score_4_ms_norm  0.033368\n",
       "11       tt_neg_score_norm  0.027907\n",
       "16         score_2_ms_norm  0.025072\n",
       "3              s_pos_score  0.019814\n",
       "15         score_5_ms_norm  0.018039\n",
       "6             sd_neg_score  0.012491\n",
       "39           review_length  0.012460\n",
       "33                     s14  0.012380\n",
       "43                      t3  0.011771\n",
       "44                      t4  0.011347\n",
       "4           neg_score_norm  0.011279\n",
       "7             sd_pos_score  0.010958\n",
       "48                      t8  0.010864\n",
       "53                     t13  0.010792\n",
       "5           pos_score_norm  0.010757\n",
       "40                      t0  0.010154\n",
       "45                      t5  0.010117\n",
       "52                     t12  0.010088\n",
       "42                      t2  0.010023\n",
       "54                     t14  0.009984\n",
       "47                      t7  0.009889\n",
       "46                      t6  0.009795\n",
       "49                      t9  0.009633\n",
       "50                     t10  0.009474\n",
       "51                     t11  0.009448\n",
       "21                      s2  0.009412\n",
       "41                      t1  0.009383\n",
       "38                     s19  0.008860\n",
       "19                      s0  0.008542\n",
       "23                      s4  0.008467\n",
       "37                     s18  0.008321\n",
       "25                      s6  0.008315\n",
       "24                      s5  0.008195\n",
       "29                     s10  0.007980\n",
       "28                      s9  0.007924\n",
       "20                      s1  0.007902\n",
       "22                      s3  0.007891\n",
       "26                      s7  0.007886\n",
       "31                     s12  0.007840\n",
       "35                     s16  0.007714\n",
       "27                      s8  0.007656\n",
       "32                     s13  0.007652\n",
       "34                     s15  0.007443\n",
       "36                     s17  0.007192\n",
       "30                     s11  0.006942\n",
       "0   HelpfulnessDenominator  0.005207\n",
       "1     HelpfulnessNumerator  0.002893"
      ]
     },
     "execution_count": 85,
     "metadata": {},
     "output_type": "execute_result"
    }
   ],
   "source": [
    "df_feature_importances = pd.DataFrame(np.transpose([rel_columns, cls.feature_importances_]))\n",
    "df_feature_importances[1] = df_feature_importances[1].astype(float)\n",
    "df_feature_importances.sort_values(1, ascending=False)"
   ]
  },
  {
   "cell_type": "code",
   "execution_count": 82,
   "metadata": {},
   "outputs": [
    {
     "name": "stdout",
     "output_type": "stream",
     "text": [
      "n_estimators = 15\n",
      "min_samples_leaf = 2\n",
      "train\n",
      "0.273045327703\n",
      "test\n",
      "0.582154024405\n"
     ]
    }
   ],
   "source": [
    "from sklearn.ensemble import RandomForestRegressor\n",
    "\n",
    "# with 6-fold validation: still .582\n",
    "# the k-scores do not seem to help\n",
    "# with only 1 and 5 k-scores: .585\n",
    "# without any k-scores: .582\n",
    "# with k-scores_ms: .584, with k-scores .583\n",
    "# 200 iter: 0.558\n",
    "# with score_ms, additional text columns, .5773(91, 88) for all, adjusted threshold\n",
    "# with explicit scores, 5772(83)\n",
    "# with score_ms columns, .5772(82) casually - 1 & 5 were impt, no additional text columns\n",
    "# with middle columns, .6047 casually\n",
    "# .5967 | 75% train error, 200 iter\n",
    "# with twograms and threegrams .62 casually ~ .619, .6188 | .61699 with rev texts | 0.6131(55) with text lsas 15 \n",
    "# with twograms .66 casually... .661 without text LSAs, .674 with text LSAs. \n",
    "#  with scores .74\n",
    "#  without scores .755\n",
    "#for n_estimators in [5]:#[5,15,20,40,70]:\n",
    " #   for min_samples_leaf in [3]:#[1,3,10,20,50]:\n",
    "regressor = RandomForestRegressor(n_estimators = 15, n_jobs = -1,\n",
    "                                     max_features = 30, min_samples_leaf = 2) # No. of estimators should be 50\n",
    "regressor.fit(c_big.loc[train.index][rel_columns], c_big.loc[train.index].Score)\n",
    "c_big['prediction_regressor_orig'] = regressor.predict(c_big[rel_columns])\n",
    "c_big['prediction_regressor'] = c_big.prediction_regressor_orig.apply(discretize)\n",
    "print('n_estimators = {}'.format(15))\n",
    "print('min_samples_leaf = {}'.format(2))\n",
    "print('train')\n",
    "print(np.sqrt(mean_squared_error(c_big.Score.loc[train.index], c_big.prediction_regressor.loc[train.index])))\n",
    "print('test')\n",
    "print(np.sqrt(mean_squared_error(c_big.Score.loc[test.index], c_big.prediction_regressor.loc[test.index])))"
   ]
  },
  {
   "cell_type": "code",
   "execution_count": 83,
   "metadata": {},
   "outputs": [
    {
     "data": {
      "text/html": [
       "<div>\n",
       "<table border=\"1\" class=\"dataframe\">\n",
       "  <thead>\n",
       "    <tr style=\"text-align: right;\">\n",
       "      <th></th>\n",
       "      <th>0</th>\n",
       "      <th>1</th>\n",
       "    </tr>\n",
       "  </thead>\n",
       "  <tbody>\n",
       "    <tr>\n",
       "      <th>9</th>\n",
       "      <td>td_neg_score_norm</td>\n",
       "      <td>0.228953</td>\n",
       "    </tr>\n",
       "    <tr>\n",
       "      <th>8</th>\n",
       "      <td>td_pos_score_norm</td>\n",
       "      <td>0.178353</td>\n",
       "    </tr>\n",
       "    <tr>\n",
       "      <th>10</th>\n",
       "      <td>tt_pos_score_norm</td>\n",
       "      <td>0.102631</td>\n",
       "    </tr>\n",
       "    <tr>\n",
       "      <th>11</th>\n",
       "      <td>tt_neg_score_norm</td>\n",
       "      <td>0.078663</td>\n",
       "    </tr>\n",
       "    <tr>\n",
       "      <th>2</th>\n",
       "      <td>s_neg_score</td>\n",
       "      <td>0.071932</td>\n",
       "    </tr>\n",
       "    <tr>\n",
       "      <th>14</th>\n",
       "      <td>score_1_ms_norm</td>\n",
       "      <td>0.047476</td>\n",
       "    </tr>\n",
       "    <tr>\n",
       "      <th>3</th>\n",
       "      <td>s_pos_score</td>\n",
       "      <td>0.024884</td>\n",
       "    </tr>\n",
       "    <tr>\n",
       "      <th>6</th>\n",
       "      <td>sd_neg_score</td>\n",
       "      <td>0.023842</td>\n",
       "    </tr>\n",
       "    <tr>\n",
       "      <th>13</th>\n",
       "      <td>td_middle_score_norm</td>\n",
       "      <td>0.021177</td>\n",
       "    </tr>\n",
       "    <tr>\n",
       "      <th>7</th>\n",
       "      <td>sd_pos_score</td>\n",
       "      <td>0.018828</td>\n",
       "    </tr>\n",
       "    <tr>\n",
       "      <th>12</th>\n",
       "      <td>td_rest_score_norm</td>\n",
       "      <td>0.017601</td>\n",
       "    </tr>\n",
       "    <tr>\n",
       "      <th>17</th>\n",
       "      <td>score_3_ms_norm</td>\n",
       "      <td>0.017202</td>\n",
       "    </tr>\n",
       "    <tr>\n",
       "      <th>18</th>\n",
       "      <td>score_4_ms_norm</td>\n",
       "      <td>0.008235</td>\n",
       "    </tr>\n",
       "    <tr>\n",
       "      <th>16</th>\n",
       "      <td>score_2_ms_norm</td>\n",
       "      <td>0.007067</td>\n",
       "    </tr>\n",
       "    <tr>\n",
       "      <th>33</th>\n",
       "      <td>s14</td>\n",
       "      <td>0.006697</td>\n",
       "    </tr>\n",
       "    <tr>\n",
       "      <th>15</th>\n",
       "      <td>score_5_ms_norm</td>\n",
       "      <td>0.005876</td>\n",
       "    </tr>\n",
       "    <tr>\n",
       "      <th>4</th>\n",
       "      <td>neg_score_norm</td>\n",
       "      <td>0.005058</td>\n",
       "    </tr>\n",
       "    <tr>\n",
       "      <th>44</th>\n",
       "      <td>t4</td>\n",
       "      <td>0.004589</td>\n",
       "    </tr>\n",
       "    <tr>\n",
       "      <th>0</th>\n",
       "      <td>HelpfulnessDenominator</td>\n",
       "      <td>0.004517</td>\n",
       "    </tr>\n",
       "    <tr>\n",
       "      <th>39</th>\n",
       "      <td>review_length</td>\n",
       "      <td>0.004461</td>\n",
       "    </tr>\n",
       "    <tr>\n",
       "      <th>53</th>\n",
       "      <td>t13</td>\n",
       "      <td>0.004409</td>\n",
       "    </tr>\n",
       "    <tr>\n",
       "      <th>19</th>\n",
       "      <td>s0</td>\n",
       "      <td>0.004355</td>\n",
       "    </tr>\n",
       "    <tr>\n",
       "      <th>43</th>\n",
       "      <td>t3</td>\n",
       "      <td>0.004301</td>\n",
       "    </tr>\n",
       "    <tr>\n",
       "      <th>5</th>\n",
       "      <td>pos_score_norm</td>\n",
       "      <td>0.004278</td>\n",
       "    </tr>\n",
       "    <tr>\n",
       "      <th>23</th>\n",
       "      <td>s4</td>\n",
       "      <td>0.003973</td>\n",
       "    </tr>\n",
       "    <tr>\n",
       "      <th>48</th>\n",
       "      <td>t8</td>\n",
       "      <td>0.003904</td>\n",
       "    </tr>\n",
       "    <tr>\n",
       "      <th>47</th>\n",
       "      <td>t7</td>\n",
       "      <td>0.003884</td>\n",
       "    </tr>\n",
       "    <tr>\n",
       "      <th>20</th>\n",
       "      <td>s1</td>\n",
       "      <td>0.003805</td>\n",
       "    </tr>\n",
       "    <tr>\n",
       "      <th>42</th>\n",
       "      <td>t2</td>\n",
       "      <td>0.003792</td>\n",
       "    </tr>\n",
       "    <tr>\n",
       "      <th>40</th>\n",
       "      <td>t0</td>\n",
       "      <td>0.003777</td>\n",
       "    </tr>\n",
       "    <tr>\n",
       "      <th>52</th>\n",
       "      <td>t12</td>\n",
       "      <td>0.003753</td>\n",
       "    </tr>\n",
       "    <tr>\n",
       "      <th>21</th>\n",
       "      <td>s2</td>\n",
       "      <td>0.003713</td>\n",
       "    </tr>\n",
       "    <tr>\n",
       "      <th>45</th>\n",
       "      <td>t5</td>\n",
       "      <td>0.003704</td>\n",
       "    </tr>\n",
       "    <tr>\n",
       "      <th>54</th>\n",
       "      <td>t14</td>\n",
       "      <td>0.003685</td>\n",
       "    </tr>\n",
       "    <tr>\n",
       "      <th>46</th>\n",
       "      <td>t6</td>\n",
       "      <td>0.003579</td>\n",
       "    </tr>\n",
       "    <tr>\n",
       "      <th>50</th>\n",
       "      <td>t10</td>\n",
       "      <td>0.003517</td>\n",
       "    </tr>\n",
       "    <tr>\n",
       "      <th>22</th>\n",
       "      <td>s3</td>\n",
       "      <td>0.003497</td>\n",
       "    </tr>\n",
       "    <tr>\n",
       "      <th>41</th>\n",
       "      <td>t1</td>\n",
       "      <td>0.003466</td>\n",
       "    </tr>\n",
       "    <tr>\n",
       "      <th>38</th>\n",
       "      <td>s19</td>\n",
       "      <td>0.003434</td>\n",
       "    </tr>\n",
       "    <tr>\n",
       "      <th>51</th>\n",
       "      <td>t11</td>\n",
       "      <td>0.003431</td>\n",
       "    </tr>\n",
       "    <tr>\n",
       "      <th>49</th>\n",
       "      <td>t9</td>\n",
       "      <td>0.003383</td>\n",
       "    </tr>\n",
       "    <tr>\n",
       "      <th>32</th>\n",
       "      <td>s13</td>\n",
       "      <td>0.003358</td>\n",
       "    </tr>\n",
       "    <tr>\n",
       "      <th>25</th>\n",
       "      <td>s6</td>\n",
       "      <td>0.003347</td>\n",
       "    </tr>\n",
       "    <tr>\n",
       "      <th>24</th>\n",
       "      <td>s5</td>\n",
       "      <td>0.003296</td>\n",
       "    </tr>\n",
       "    <tr>\n",
       "      <th>37</th>\n",
       "      <td>s18</td>\n",
       "      <td>0.003254</td>\n",
       "    </tr>\n",
       "    <tr>\n",
       "      <th>35</th>\n",
       "      <td>s16</td>\n",
       "      <td>0.003249</td>\n",
       "    </tr>\n",
       "    <tr>\n",
       "      <th>34</th>\n",
       "      <td>s15</td>\n",
       "      <td>0.003161</td>\n",
       "    </tr>\n",
       "    <tr>\n",
       "      <th>26</th>\n",
       "      <td>s7</td>\n",
       "      <td>0.003115</td>\n",
       "    </tr>\n",
       "    <tr>\n",
       "      <th>28</th>\n",
       "      <td>s9</td>\n",
       "      <td>0.003102</td>\n",
       "    </tr>\n",
       "    <tr>\n",
       "      <th>31</th>\n",
       "      <td>s12</td>\n",
       "      <td>0.003063</td>\n",
       "    </tr>\n",
       "    <tr>\n",
       "      <th>29</th>\n",
       "      <td>s10</td>\n",
       "      <td>0.003060</td>\n",
       "    </tr>\n",
       "    <tr>\n",
       "      <th>27</th>\n",
       "      <td>s8</td>\n",
       "      <td>0.003035</td>\n",
       "    </tr>\n",
       "    <tr>\n",
       "      <th>36</th>\n",
       "      <td>s17</td>\n",
       "      <td>0.002880</td>\n",
       "    </tr>\n",
       "    <tr>\n",
       "      <th>30</th>\n",
       "      <td>s11</td>\n",
       "      <td>0.002837</td>\n",
       "    </tr>\n",
       "    <tr>\n",
       "      <th>1</th>\n",
       "      <td>HelpfulnessNumerator</td>\n",
       "      <td>0.001561</td>\n",
       "    </tr>\n",
       "  </tbody>\n",
       "</table>\n",
       "</div>"
      ],
      "text/plain": [
       "                         0         1\n",
       "9        td_neg_score_norm  0.228953\n",
       "8        td_pos_score_norm  0.178353\n",
       "10       tt_pos_score_norm  0.102631\n",
       "11       tt_neg_score_norm  0.078663\n",
       "2              s_neg_score  0.071932\n",
       "14         score_1_ms_norm  0.047476\n",
       "3              s_pos_score  0.024884\n",
       "6             sd_neg_score  0.023842\n",
       "13    td_middle_score_norm  0.021177\n",
       "7             sd_pos_score  0.018828\n",
       "12      td_rest_score_norm  0.017601\n",
       "17         score_3_ms_norm  0.017202\n",
       "18         score_4_ms_norm  0.008235\n",
       "16         score_2_ms_norm  0.007067\n",
       "33                     s14  0.006697\n",
       "15         score_5_ms_norm  0.005876\n",
       "4           neg_score_norm  0.005058\n",
       "44                      t4  0.004589\n",
       "0   HelpfulnessDenominator  0.004517\n",
       "39           review_length  0.004461\n",
       "53                     t13  0.004409\n",
       "19                      s0  0.004355\n",
       "43                      t3  0.004301\n",
       "5           pos_score_norm  0.004278\n",
       "23                      s4  0.003973\n",
       "48                      t8  0.003904\n",
       "47                      t7  0.003884\n",
       "20                      s1  0.003805\n",
       "42                      t2  0.003792\n",
       "40                      t0  0.003777\n",
       "52                     t12  0.003753\n",
       "21                      s2  0.003713\n",
       "45                      t5  0.003704\n",
       "54                     t14  0.003685\n",
       "46                      t6  0.003579\n",
       "50                     t10  0.003517\n",
       "22                      s3  0.003497\n",
       "41                      t1  0.003466\n",
       "38                     s19  0.003434\n",
       "51                     t11  0.003431\n",
       "49                      t9  0.003383\n",
       "32                     s13  0.003358\n",
       "25                      s6  0.003347\n",
       "24                      s5  0.003296\n",
       "37                     s18  0.003254\n",
       "35                     s16  0.003249\n",
       "34                     s15  0.003161\n",
       "26                      s7  0.003115\n",
       "28                      s9  0.003102\n",
       "31                     s12  0.003063\n",
       "29                     s10  0.003060\n",
       "27                      s8  0.003035\n",
       "36                     s17  0.002880\n",
       "30                     s11  0.002837\n",
       "1     HelpfulnessNumerator  0.001561"
      ]
     },
     "execution_count": 83,
     "metadata": {},
     "output_type": "execute_result"
    }
   ],
   "source": [
    "df_feature_importances = pd.DataFrame(np.transpose([rel_columns, regressor.feature_importances_]))\n",
    "df_feature_importances[1] = df_feature_importances[1].astype(float)\n",
    "df_feature_importances.sort_values(1, ascending=False)"
   ]
  },
  {
   "cell_type": "code",
   "execution_count": 58,
   "metadata": {},
   "outputs": [
    {
     "name": "stdout",
     "output_type": "stream",
     "text": [
      "n_estimators = 15\n",
      "min_samples_leaf = 2\n",
      "train\n",
      "0.236791290237\n",
      "test\n",
      "0.245973468128\n"
     ]
    }
   ],
   "source": [
    "from sklearn.ensemble import RandomForestRegressor\n",
    "\n",
    "# with score_ms columns, .5782 casually - 1 & 5 were impt\n",
    "# with middle columns, .6047 casually\n",
    "# .5967 | 75% train error, 200 iter\n",
    "# with twograms and threegrams .62 casually ~ .619, .6188 | .61699 with rev texts | 0.6131(55) with text lsas 15 \n",
    "# with twograms .66 casually... .661 without text LSAs, .674 with text LSAs. \n",
    "#  with scores .74\n",
    "#  without scores .755\n",
    "#for n_estimators in [5]:#[5,15,20,40,70]:\n",
    " #   for min_samples_leaf in [3]:#[1,3,10,20,50]:\n",
    "regressor = RandomForestRegressor(n_estimators = 200, n_jobs = -1,\n",
    "                                     max_features = 30, min_samples_leaf = 2) # No. of estimators should be 50\n",
    "regressor.fit(c_big.loc[0:460803][rel_columns], c_big.loc[0:460803].Score)\n",
    "c_big['prediction_regressor_orig'] = regressor.predict(c_big[rel_columns])\n",
    "c_big['prediction_regressor'] = c_big.prediction_regressor_orig.apply(discretize)\n",
    "print('n_estimators = {}'.format(15))\n",
    "print('min_samples_leaf = {}'.format(2))\n",
    "print('train')\n",
    "print(np.sqrt(mean_squared_error(c_big.Score.loc[train.index], c_big.prediction_regressor.loc[train.index])))\n",
    "print('test')\n",
    "print(np.sqrt(mean_squared_error(c_big.Score.loc[test.index], c_big.prediction_regressor.loc[test.index])))"
   ]
  },
  {
   "cell_type": "code",
   "execution_count": 32,
   "metadata": {},
   "outputs": [
    {
     "data": {
      "text/html": [
       "<div>\n",
       "<table border=\"1\" class=\"dataframe\">\n",
       "  <thead>\n",
       "    <tr style=\"text-align: right;\">\n",
       "      <th></th>\n",
       "      <th>0</th>\n",
       "      <th>1</th>\n",
       "    </tr>\n",
       "  </thead>\n",
       "  <tbody>\n",
       "    <tr>\n",
       "      <th>8</th>\n",
       "      <td>td_pos_score_norm</td>\n",
       "      <td>0.327626</td>\n",
       "    </tr>\n",
       "    <tr>\n",
       "      <th>9</th>\n",
       "      <td>td_neg_score_norm</td>\n",
       "      <td>0.182305</td>\n",
       "    </tr>\n",
       "    <tr>\n",
       "      <th>2</th>\n",
       "      <td>s_neg_score</td>\n",
       "      <td>0.073873</td>\n",
       "    </tr>\n",
       "    <tr>\n",
       "      <th>10</th>\n",
       "      <td>tt_pos_score_norm</td>\n",
       "      <td>0.062144</td>\n",
       "    </tr>\n",
       "    <tr>\n",
       "      <th>14</th>\n",
       "      <td>score_1_ms_norm</td>\n",
       "      <td>0.037117</td>\n",
       "    </tr>\n",
       "    <tr>\n",
       "      <th>13</th>\n",
       "      <td>td_middle_score_norm</td>\n",
       "      <td>0.024393</td>\n",
       "    </tr>\n",
       "    <tr>\n",
       "      <th>11</th>\n",
       "      <td>tt_neg_score_norm</td>\n",
       "      <td>0.024129</td>\n",
       "    </tr>\n",
       "    <tr>\n",
       "      <th>6</th>\n",
       "      <td>sd_neg_score</td>\n",
       "      <td>0.023897</td>\n",
       "    </tr>\n",
       "    <tr>\n",
       "      <th>3</th>\n",
       "      <td>s_pos_score</td>\n",
       "      <td>0.019389</td>\n",
       "    </tr>\n",
       "    <tr>\n",
       "      <th>7</th>\n",
       "      <td>sd_pos_score</td>\n",
       "      <td>0.017344</td>\n",
       "    </tr>\n",
       "    <tr>\n",
       "      <th>17</th>\n",
       "      <td>score_3_ms_norm</td>\n",
       "      <td>0.017311</td>\n",
       "    </tr>\n",
       "    <tr>\n",
       "      <th>12</th>\n",
       "      <td>td_rest_score_norm</td>\n",
       "      <td>0.014033</td>\n",
       "    </tr>\n",
       "    <tr>\n",
       "      <th>15</th>\n",
       "      <td>score_5_ms_norm</td>\n",
       "      <td>0.009618</td>\n",
       "    </tr>\n",
       "    <tr>\n",
       "      <th>18</th>\n",
       "      <td>score_4_ms_norm</td>\n",
       "      <td>0.008793</td>\n",
       "    </tr>\n",
       "    <tr>\n",
       "      <th>16</th>\n",
       "      <td>score_2_ms_norm</td>\n",
       "      <td>0.008170</td>\n",
       "    </tr>\n",
       "    <tr>\n",
       "      <th>4</th>\n",
       "      <td>neg_score_norm</td>\n",
       "      <td>0.008155</td>\n",
       "    </tr>\n",
       "    <tr>\n",
       "      <th>33</th>\n",
       "      <td>s14</td>\n",
       "      <td>0.006775</td>\n",
       "    </tr>\n",
       "    <tr>\n",
       "      <th>0</th>\n",
       "      <td>HelpfulnessDenominator</td>\n",
       "      <td>0.004479</td>\n",
       "    </tr>\n",
       "    <tr>\n",
       "      <th>44</th>\n",
       "      <td>t4</td>\n",
       "      <td>0.004466</td>\n",
       "    </tr>\n",
       "    <tr>\n",
       "      <th>39</th>\n",
       "      <td>review_length</td>\n",
       "      <td>0.004440</td>\n",
       "    </tr>\n",
       "    <tr>\n",
       "      <th>19</th>\n",
       "      <td>s0</td>\n",
       "      <td>0.004433</td>\n",
       "    </tr>\n",
       "    <tr>\n",
       "      <th>53</th>\n",
       "      <td>t13</td>\n",
       "      <td>0.004325</td>\n",
       "    </tr>\n",
       "    <tr>\n",
       "      <th>43</th>\n",
       "      <td>t3</td>\n",
       "      <td>0.004247</td>\n",
       "    </tr>\n",
       "    <tr>\n",
       "      <th>5</th>\n",
       "      <td>pos_score_norm</td>\n",
       "      <td>0.004195</td>\n",
       "    </tr>\n",
       "    <tr>\n",
       "      <th>23</th>\n",
       "      <td>s4</td>\n",
       "      <td>0.004043</td>\n",
       "    </tr>\n",
       "    <tr>\n",
       "      <th>20</th>\n",
       "      <td>s1</td>\n",
       "      <td>0.003967</td>\n",
       "    </tr>\n",
       "    <tr>\n",
       "      <th>48</th>\n",
       "      <td>t8</td>\n",
       "      <td>0.003895</td>\n",
       "    </tr>\n",
       "    <tr>\n",
       "      <th>40</th>\n",
       "      <td>t0</td>\n",
       "      <td>0.003851</td>\n",
       "    </tr>\n",
       "    <tr>\n",
       "      <th>47</th>\n",
       "      <td>t7</td>\n",
       "      <td>0.003833</td>\n",
       "    </tr>\n",
       "    <tr>\n",
       "      <th>42</th>\n",
       "      <td>t2</td>\n",
       "      <td>0.003802</td>\n",
       "    </tr>\n",
       "    <tr>\n",
       "      <th>21</th>\n",
       "      <td>s2</td>\n",
       "      <td>0.003730</td>\n",
       "    </tr>\n",
       "    <tr>\n",
       "      <th>46</th>\n",
       "      <td>t6</td>\n",
       "      <td>0.003711</td>\n",
       "    </tr>\n",
       "    <tr>\n",
       "      <th>52</th>\n",
       "      <td>t12</td>\n",
       "      <td>0.003669</td>\n",
       "    </tr>\n",
       "    <tr>\n",
       "      <th>45</th>\n",
       "      <td>t5</td>\n",
       "      <td>0.003664</td>\n",
       "    </tr>\n",
       "    <tr>\n",
       "      <th>50</th>\n",
       "      <td>t10</td>\n",
       "      <td>0.003604</td>\n",
       "    </tr>\n",
       "    <tr>\n",
       "      <th>38</th>\n",
       "      <td>s19</td>\n",
       "      <td>0.003515</td>\n",
       "    </tr>\n",
       "    <tr>\n",
       "      <th>41</th>\n",
       "      <td>t1</td>\n",
       "      <td>0.003500</td>\n",
       "    </tr>\n",
       "    <tr>\n",
       "      <th>54</th>\n",
       "      <td>t14</td>\n",
       "      <td>0.003494</td>\n",
       "    </tr>\n",
       "    <tr>\n",
       "      <th>51</th>\n",
       "      <td>t11</td>\n",
       "      <td>0.003482</td>\n",
       "    </tr>\n",
       "    <tr>\n",
       "      <th>49</th>\n",
       "      <td>t9</td>\n",
       "      <td>0.003453</td>\n",
       "    </tr>\n",
       "    <tr>\n",
       "      <th>25</th>\n",
       "      <td>s6</td>\n",
       "      <td>0.003440</td>\n",
       "    </tr>\n",
       "    <tr>\n",
       "      <th>22</th>\n",
       "      <td>s3</td>\n",
       "      <td>0.003359</td>\n",
       "    </tr>\n",
       "    <tr>\n",
       "      <th>24</th>\n",
       "      <td>s5</td>\n",
       "      <td>0.003298</td>\n",
       "    </tr>\n",
       "    <tr>\n",
       "      <th>35</th>\n",
       "      <td>s16</td>\n",
       "      <td>0.003285</td>\n",
       "    </tr>\n",
       "    <tr>\n",
       "      <th>26</th>\n",
       "      <td>s7</td>\n",
       "      <td>0.003176</td>\n",
       "    </tr>\n",
       "    <tr>\n",
       "      <th>32</th>\n",
       "      <td>s13</td>\n",
       "      <td>0.003158</td>\n",
       "    </tr>\n",
       "    <tr>\n",
       "      <th>37</th>\n",
       "      <td>s18</td>\n",
       "      <td>0.003108</td>\n",
       "    </tr>\n",
       "    <tr>\n",
       "      <th>34</th>\n",
       "      <td>s15</td>\n",
       "      <td>0.003068</td>\n",
       "    </tr>\n",
       "    <tr>\n",
       "      <th>31</th>\n",
       "      <td>s12</td>\n",
       "      <td>0.003052</td>\n",
       "    </tr>\n",
       "    <tr>\n",
       "      <th>28</th>\n",
       "      <td>s9</td>\n",
       "      <td>0.003023</td>\n",
       "    </tr>\n",
       "    <tr>\n",
       "      <th>27</th>\n",
       "      <td>s8</td>\n",
       "      <td>0.002999</td>\n",
       "    </tr>\n",
       "    <tr>\n",
       "      <th>29</th>\n",
       "      <td>s10</td>\n",
       "      <td>0.002905</td>\n",
       "    </tr>\n",
       "    <tr>\n",
       "      <th>30</th>\n",
       "      <td>s11</td>\n",
       "      <td>0.002873</td>\n",
       "    </tr>\n",
       "    <tr>\n",
       "      <th>36</th>\n",
       "      <td>s17</td>\n",
       "      <td>0.002853</td>\n",
       "    </tr>\n",
       "    <tr>\n",
       "      <th>1</th>\n",
       "      <td>HelpfulnessNumerator</td>\n",
       "      <td>0.001534</td>\n",
       "    </tr>\n",
       "  </tbody>\n",
       "</table>\n",
       "</div>"
      ],
      "text/plain": [
       "                         0         1\n",
       "8        td_pos_score_norm  0.327626\n",
       "9        td_neg_score_norm  0.182305\n",
       "2              s_neg_score  0.073873\n",
       "10       tt_pos_score_norm  0.062144\n",
       "14         score_1_ms_norm  0.037117\n",
       "13    td_middle_score_norm  0.024393\n",
       "11       tt_neg_score_norm  0.024129\n",
       "6             sd_neg_score  0.023897\n",
       "3              s_pos_score  0.019389\n",
       "7             sd_pos_score  0.017344\n",
       "17         score_3_ms_norm  0.017311\n",
       "12      td_rest_score_norm  0.014033\n",
       "15         score_5_ms_norm  0.009618\n",
       "18         score_4_ms_norm  0.008793\n",
       "16         score_2_ms_norm  0.008170\n",
       "4           neg_score_norm  0.008155\n",
       "33                     s14  0.006775\n",
       "0   HelpfulnessDenominator  0.004479\n",
       "44                      t4  0.004466\n",
       "39           review_length  0.004440\n",
       "19                      s0  0.004433\n",
       "53                     t13  0.004325\n",
       "43                      t3  0.004247\n",
       "5           pos_score_norm  0.004195\n",
       "23                      s4  0.004043\n",
       "20                      s1  0.003967\n",
       "48                      t8  0.003895\n",
       "40                      t0  0.003851\n",
       "47                      t7  0.003833\n",
       "42                      t2  0.003802\n",
       "21                      s2  0.003730\n",
       "46                      t6  0.003711\n",
       "52                     t12  0.003669\n",
       "45                      t5  0.003664\n",
       "50                     t10  0.003604\n",
       "38                     s19  0.003515\n",
       "41                      t1  0.003500\n",
       "54                     t14  0.003494\n",
       "51                     t11  0.003482\n",
       "49                      t9  0.003453\n",
       "25                      s6  0.003440\n",
       "22                      s3  0.003359\n",
       "24                      s5  0.003298\n",
       "35                     s16  0.003285\n",
       "26                      s7  0.003176\n",
       "32                     s13  0.003158\n",
       "37                     s18  0.003108\n",
       "34                     s15  0.003068\n",
       "31                     s12  0.003052\n",
       "28                      s9  0.003023\n",
       "27                      s8  0.002999\n",
       "29                     s10  0.002905\n",
       "30                     s11  0.002873\n",
       "36                     s17  0.002853\n",
       "1     HelpfulnessNumerator  0.001534"
      ]
     },
     "execution_count": 32,
     "metadata": {},
     "output_type": "execute_result"
    }
   ],
   "source": [
    "df_feature_importances = pd.DataFrame(np.transpose([rel_columns, regressor.feature_importances_]))\n",
    "df_feature_importances[1] = df_feature_importances[1].astype(float)\n",
    "df_feature_importances.sort_values(1, ascending=False)"
   ]
  },
  {
   "cell_type": "code",
   "execution_count": 55,
   "metadata": {},
   "outputs": [
    {
     "name": "stdout",
     "output_type": "stream",
     "text": [
      "                            OLS Regression Results                            \n",
      "==============================================================================\n",
      "Dep. Variable:                  Score   R-squared:                       0.411\n",
      "Model:                            OLS   Adj. R-squared:                  0.411\n",
      "Method:                 Least Squares   F-statistic:                 4.019e+04\n",
      "Date:                Sun, 03 Dec 2017   Prob (F-statistic):               0.00\n",
      "Time:                        20:46:56   Log-Likelihood:            -4.9251e+05\n",
      "No. Observations:              345603   AIC:                         9.850e+05\n",
      "Df Residuals:                  345596   BIC:                         9.851e+05\n",
      "Df Model:                           6                                         \n",
      "Covariance Type:            nonrobust                                         \n",
      "===============================================================================================\n",
      "                                  coef    std err          t      P>|t|      [95.0% Conf. Int.]\n",
      "-----------------------------------------------------------------------------------------------\n",
      "Intercept                       4.9121      0.014    359.531      0.000         4.885     4.939\n",
      "HelpfulnessDenominator         -0.0063      0.000    -30.733      0.000        -0.007    -0.006\n",
      "review_length                   0.0001   4.18e-06     26.178      0.000         0.000     0.000\n",
      "neg_score_norm                 15.9043      0.063    253.437      0.000        15.781    16.027\n",
      "pos_score_norm                  4.9164      0.058     85.160      0.000         4.803     5.030\n",
      "weighted_bad_twograms_freq     -0.8026      0.327     -2.457      0.014        -1.443    -0.162\n",
      "weighted_good_twograms_freq     5.6108      0.161     34.925      0.000         5.296     5.926\n",
      "==============================================================================\n",
      "Omnibus:                    30212.622   Durbin-Watson:                   1.997\n",
      "Prob(Omnibus):                  0.000   Jarque-Bera (JB):            40117.170\n",
      "Skew:                          -0.749   Prob(JB):                         0.00\n",
      "Kurtosis:                       3.736   Cond. No.                     1.17e+05\n",
      "==============================================================================\n",
      "\n",
      "Warnings:\n",
      "[1] Standard Errors assume that the covariance matrix of the errors is correctly specified.\n",
      "[2] The condition number is large, 1.17e+05. This might indicate that there are\n",
      "strong multicollinearity or other numerical problems.\n"
     ]
    }
   ],
   "source": [
    "from statsmodels.formula.api import ols\n",
    "\n",
    "mod = ols(\"Score ~ HelpfulnessDenominator + review_length + neg_score_norm + \\\n",
    "            pos_score_norm\", data=c_big[c_big.index.isin(train.index)])\n",
    "res = mod.fit()\n",
    "print(res.summary())"
   ]
  },
  {
   "cell_type": "code",
   "execution_count": 31,
   "metadata": {
    "collapsed": true
   },
   "outputs": [],
   "source": [
    "fractions = np.histogram(c_big.Score[c_big.Score.notnull()], bins=[1,2,3,4,5,6])[0]/sum(c_big.Score.notnull())"
   ]
  },
  {
   "cell_type": "code",
   "execution_count": 33,
   "metadata": {},
   "outputs": [
    {
     "data": {
      "text/plain": [
       "array([ 2.18      ,  2.92444444,  3.55888889,  4.24616427,  5.        ])"
      ]
     },
     "execution_count": 33,
     "metadata": {},
     "output_type": "execute_result"
    }
   ],
   "source": [
    "cutoffs = np.percentile(c_big.prediction_regressor_orig, np.cumsum(fractions)*100)\n",
    "cutoffs"
   ]
  },
  {
   "cell_type": "code",
   "execution_count": 856,
   "metadata": {},
   "outputs": [
    {
     "data": {
      "image/png": "[encoded data removed]",
      "text/plain": [
       "<matplotlib.figure.Figure at 0x1f2e4d4d6d8>"
      ]
     },
     "metadata": {},
     "output_type": "display_data"
    }
   ],
   "source": [
    "c_big.prediction_regressor_orig.hist(bins=[-.5,.5,1.5,2.5,3.5,4.5,5.5,6.5])\n",
    "plt.show()"
   ]
  },
  {
   "cell_type": "code",
   "execution_count": null,
   "metadata": {
    "collapsed": true
   },
   "outputs": [],
   "source": [
    "c_big.prediction_regressor.loc[test.index].hist(bins=[1,2,3,4,5,6], normed=True)\n",
    "plt.show()"
   ]
  },
  {
   "cell_type": "code",
   "execution_count": 769,
   "metadata": {},
   "outputs": [
    {
     "data": {
      "image/png": "[encoded data removed]",
      "text/plain": [
       "<matplotlib.figure.Figure at 0x1f4072ef470>"
      ]
     },
     "metadata": {},
     "output_type": "display_data"
    }
   ],
   "source": [
    "c_big.Score.loc[test.index].hist(bins=[1,2,3,4,5,6], normed=True)\n",
    "plt.show()"
   ]
  },
  {
   "cell_type": "markdown",
   "metadata": {},
   "source": [
    "## Final step: Output"
   ]
  },
  {
   "cell_type": "code",
   "execution_count": 59,
   "metadata": {
    "collapsed": true
   },
   "outputs": [],
   "source": [
    "c_big.iloc[-100000:][['Id','prediction_regressor']].rename(columns={'prediction_regressor': 'Score'}).to_csv('predictions.csv', index=False)"
   ]
  },
  {
   "cell_type": "markdown",
   "metadata": {
    "collapsed": true
   },
   "source": [
    "----"
   ]
  }
 ],
 "metadata": {
  "kernelspec": {
   "display_name": "Python 3",
   "language": "python",
   "name": "python3"
  },
  "language_info": {
   "codemirror_mode": {
    "name": "ipython",
    "version": 3
   },
   "file_extension": ".py",
   "mimetype": "text/x-python",
   "name": "python",
   "nbconvert_exporter": "python",
   "pygments_lexer": "ipython3",
   "version": "3.6.1"
  }
 },
 "nbformat": 4,
 "nbformat_minor": 2
}
