{
 "cells": [
  {
   "cell_type": "markdown",
   "metadata": {},
   "source": [
    "# Marriage and children, but not childless dating or cohabitation, may be immediately competitive with close friendships"
   ]
  },
  {
   "cell_type": "code",
   "execution_count": 710,
   "metadata": {},
   "outputs": [],
   "source": [
    "import numpy as np\n",
    "import pandas as pd\n",
    "import matplotlib.pyplot as plt\n",
    "from sklearn.metrics import mean_squared_error\n",
    "import scipy.stats as ss\n",
    "import statsmodels.api as sm\n",
    "\n",
    "c = pd.read_table('w4inhome_dvn.tab').rename(columns={'BIO_SEX4': 'gender', \n",
    "                                                      'H4EC2': 'income', \n",
    "                                                      'H4EC19': 'step',\n",
    "                                                      'H4ED2': 'education', \n",
    "                                                      'H4PE17': 'gregarious', \n",
    "                                                      'H4PE25': 'background',\n",
    "                                                      'H4WGT': 'weight',\n",
    "                                                      'H4HGT': 'height',\n",
    "                                                      'H4PR': 'pulse',\n",
    "                                                      'H4TR1': 'marriages',\n",
    "                                                      'H4TR9': 'pregnancies', \n",
    "                                                      'H4TR10': 'births',\n",
    "                                                      'H4MH24': 'happiness',\n",
    "                                                      'H4WS4': 'friends'})\n",
    "c = pd.concat([pd.read_table('w4weight.tab').drop('AID', axis=1), c], axis=1).sort_index() # read in weights\n",
    "c = c[c.friends < 6]\n",
    "c = pd.concat([pd.read_table('w1inhome_dvn.tab', index_col='AID', \n",
    "                         usecols=['AID','H1GI4']).loc[c.AID], c.set_index('AID')], axis=1).reset_index() # read in Hispanic origin"
   ]
  },
  {
   "cell_type": "code",
   "execution_count": 874,
   "metadata": {},
   "outputs": [],
   "source": [
    "def nfriends(friends):\n",
    "    if friends==1:\n",
    "        return 0\n",
    "    elif friends==2:\n",
    "        return 1.5 #np.random.choice([1,2])\n",
    "    elif friends==3:\n",
    "        return 4 #np.random.choice([3,4,5])\n",
    "    elif friends==4:\n",
    "        return 7.5 #np.random.choice([6,7,8,9])\n",
    "    elif friends==5:\n",
    "        return 10\n",
    "    \n",
    "def currentrelationshipyears(row):\n",
    "    if row.currentrelationshipstatus == 'single':\n",
    "        return 0\n",
    "    else:\n",
    "        return (row.H4RD2Y < 90) * row.H4RD2Y + (row.H4RD2M < 90) * row.H4RD2M/12 + (row.H4RD2D < 90) * row.H4RD2D/365\n",
    "\n",
    "def currentrelationshipstatus(row):\n",
    "    try:\n",
    "        q = p[(p.AID == row.AID) & (p.PTNR_ID == row.PTNR_ID)].iloc[0]\n",
    "    except IndexError:\n",
    "        return 'single'\n",
    "    if q.H4TR14 == 1:\n",
    "        if q.H4TR13 == 1:\n",
    "            return 'married'\n",
    "        elif q.H4TR13 == 2:\n",
    "            return 'cohabit'\n",
    "        elif q.H4TR13 == 3:\n",
    "            return 'pregnant'\n",
    "    elif q.H4TR13 == 4:\n",
    "        return 'dating'\n",
    "    else:\n",
    "        return 'single'\n",
    "    \n",
    "def youngestchildage(row):\n",
    "    try:\n",
    "        r = b[b.AID == row.AID]\n",
    "    except IndexError:\n",
    "        return np.nan\n",
    "    if r.H4KK1.min() < 90:\n",
    "        return r.H4KK1.min()\n",
    "    else:\n",
    "        return np.nan\n",
    "\n",
    "def oldestchildage(row):\n",
    "    try:\n",
    "        r = b[b.AID == row.AID]\n",
    "    except IndexError:\n",
    "        return np.nan\n",
    "    return r.H4KK1[r.H4KK1 < 90].max()\n",
    "\n",
    "def race(code):\n",
    "    if code == 1 or code == '.':\n",
    "        return 'white'\n",
    "    elif code == 2:\n",
    "        return 'black'\n",
    "    elif code == 3:\n",
    "        return 'indian'\n",
    "    elif code == 4:\n",
    "        return 'zasian'"
   ]
  },
  {
   "cell_type": "code",
   "execution_count": 583,
   "metadata": {
    "collapsed": true
   },
   "outputs": [],
   "source": [
    "p = pd.read_table('w4partner_dvn.tab')\n",
    "b = pd.read_table('w4child_dvn.tab')"
   ]
  },
  {
   "cell_type": "code",
   "execution_count": 875,
   "metadata": {},
   "outputs": [],
   "source": [
    "c['nfriends'] = c.friends.apply(nfriends)\n",
    "c['currentrelationshipstatus'] = c.apply(currentrelationshipstatus, axis=1)\n",
    "c['currentrelationshipyears'] = c.apply(currentrelationshipyears, axis=1)\n",
    "c['youngestchildage'] = c.apply(youngestchildage, axis=1)\n",
    "c['oldestchildage'] = c.apply(oldestchildage, axis=1)\n",
    "c['race'] = c.H4IR4.apply(race)\n",
    "c['ishispanic'] = c.H1GI4.apply(lambda x: x==1)"
   ]
  },
  {
   "cell_type": "code",
   "execution_count": 928,
   "metadata": {},
   "outputs": [
    {
     "data": {
      "text/plain": [
       "3    0.457758\n",
       "2    0.221279\n",
       "4    0.169957\n",
       "5    0.122385\n",
       "1    0.028622\n",
       "Name: friends, dtype: float64"
      ]
     },
     "execution_count": 928,
     "metadata": {},
     "output_type": "execute_result"
    }
   ],
   "source": [
    "c.friends.value_counts(normalize=True)"
   ]
  },
  {
   "cell_type": "code",
   "execution_count": 945,
   "metadata": {},
   "outputs": [
    {
     "data": {
      "text/plain": [
       "4.6842104462177083"
      ]
     },
     "execution_count": 945,
     "metadata": {},
     "output_type": "execute_result"
    }
   ],
   "source": [
    "np.average(c.nfriends,weights=c.freq_weights)"
   ]
  },
  {
   "cell_type": "code",
   "execution_count": 944,
   "metadata": {},
   "outputs": [
    {
     "data": {
      "text/html": [
       "<div>\n",
       "<style>\n",
       "    .dataframe thead tr:only-child th {\n",
       "        text-align: right;\n",
       "    }\n",
       "\n",
       "    .dataframe thead th {\n",
       "        text-align: left;\n",
       "    }\n",
       "\n",
       "    .dataframe tbody tr th {\n",
       "        vertical-align: top;\n",
       "    }\n",
       "</style>\n",
       "<table border=\"1\" class=\"dataframe\">\n",
       "  <thead>\n",
       "    <tr style=\"text-align: right;\">\n",
       "      <th></th>\n",
       "      <th>freq_weights</th>\n",
       "    </tr>\n",
       "    <tr>\n",
       "      <th>friends</th>\n",
       "      <th></th>\n",
       "    </tr>\n",
       "  </thead>\n",
       "  <tbody>\n",
       "    <tr>\n",
       "      <th>1</th>\n",
       "      <td>0.030200</td>\n",
       "    </tr>\n",
       "    <tr>\n",
       "      <th>2</th>\n",
       "      <td>0.219288</td>\n",
       "    </tr>\n",
       "    <tr>\n",
       "      <th>3</th>\n",
       "      <td>0.454769</td>\n",
       "    </tr>\n",
       "    <tr>\n",
       "      <th>4</th>\n",
       "      <td>0.168493</td>\n",
       "    </tr>\n",
       "    <tr>\n",
       "      <th>5</th>\n",
       "      <td>0.127251</td>\n",
       "    </tr>\n",
       "  </tbody>\n",
       "</table>\n",
       "</div>"
      ],
      "text/plain": [
       "         freq_weights\n",
       "friends              \n",
       "1            0.030200\n",
       "2            0.219288\n",
       "3            0.454769\n",
       "4            0.168493\n",
       "5            0.127251"
      ]
     },
     "execution_count": 944,
     "metadata": {},
     "output_type": "execute_result"
    }
   ],
   "source": [
    "c.groupby('friends').agg({'freq_weights': 'sum'})/c['freq_weights'].sum()"
   ]
  },
  {
   "cell_type": "code",
   "execution_count": 427,
   "metadata": {
    "collapsed": true
   },
   "outputs": [],
   "source": [
    "columns = list(c.columns)\n",
    "columns.remove('friends')\n",
    "columns.remove('H4WS5')\n",
    "columns.remove('H4LM8')\n",
    "columns.remove('H4LM18')\n",
    "columns.remove('VERSION4')\n",
    "columns.remove('BREAK_Q')\n",
    "columns.remove('GSWGT4_2')\n",
    "columns.remove('GSWGT4')\n",
    "columns.remove('GSWGT134')\n",
    "columns.remove('CLUSTER2')\n",
    "columns.remove('freq_weights')\n",
    "try:\n",
    "    columns.remove('prediction')\n",
    "except ValueError:\n",
    "    pass\n",
    "columns.remove('AID')"
   ]
  },
  {
   "cell_type": "code",
   "execution_count": 575,
   "metadata": {},
   "outputs": [
    {
     "data": {
      "text/plain": [
       "32.0"
      ]
     },
     "execution_count": 575,
     "metadata": {},
     "output_type": "execute_result"
    }
   ],
   "source": [
    "c.age.loc[0]"
   ]
  },
  {
   "cell_type": "code",
   "execution_count": 572,
   "metadata": {},
   "outputs": [
    {
     "data": {
      "text/plain": [
       "nan"
      ]
     },
     "execution_count": 572,
     "metadata": {},
     "output_type": "execute_result"
    }
   ],
   "source": [
    "c.age.loc[0]"
   ]
  },
  {
   "cell_type": "code",
   "execution_count": 574,
   "metadata": {},
   "outputs": [
    {
     "name": "stderr",
     "output_type": "stream",
     "text": [
      "C:\\Users\\WeiZhong\\Anaconda3\\lib\\site-packages\\pandas\\core\\indexing.py:179: SettingWithCopyWarning: \n",
      "A value is trying to be set on a copy of a slice from a DataFrame\n",
      "\n",
      "See the caveats in the documentation: http://pandas.pydata.org/pandas-docs/stable/indexing.html#indexing-view-versus-copy\n",
      "  self._setitem_with_indexer(indexer, value)\n"
     ]
    }
   ],
   "source": [
    "c.age.loc[0] = 32"
   ]
  },
  {
   "cell_type": "code",
   "execution_count": 714,
   "metadata": {},
   "outputs": [
    {
     "name": "stderr",
     "output_type": "stream",
     "text": [
      "C:\\Users\\WeiZhong\\Anaconda3\\lib\\site-packages\\ipykernel\\__main__.py:4: SettingWithCopyWarning: \n",
      "A value is trying to be set on a copy of a slice from a DataFrame\n",
      "\n",
      "See the caveats in the documentation: http://pandas.pydata.org/pandas-docs/stable/indexing.html#indexing-view-versus-copy\n",
      "C:\\Users\\WeiZhong\\Anaconda3\\lib\\site-packages\\ipykernel\\__main__.py:5: SettingWithCopyWarning: \n",
      "A value is trying to be set on a copy of a slice from a DataFrame\n",
      "\n",
      "See the caveats in the documentation: http://pandas.pydata.org/pandas-docs/stable/indexing.html#indexing-view-versus-copy\n",
      "C:\\Users\\WeiZhong\\Anaconda3\\lib\\site-packages\\ipykernel\\__main__.py:6: SettingWithCopyWarning: \n",
      "A value is trying to be set on a copy of a slice from a DataFrame\n",
      "\n",
      "See the caveats in the documentation: http://pandas.pydata.org/pandas-docs/stable/indexing.html#indexing-view-versus-copy\n",
      "C:\\Users\\WeiZhong\\Anaconda3\\lib\\site-packages\\ipykernel\\__main__.py:7: SettingWithCopyWarning: \n",
      "A value is trying to be set on a copy of a slice from a DataFrame\n",
      "\n",
      "See the caveats in the documentation: http://pandas.pydata.org/pandas-docs/stable/indexing.html#indexing-view-versus-copy\n",
      "C:\\Users\\WeiZhong\\Anaconda3\\lib\\site-packages\\ipykernel\\__main__.py:8: SettingWithCopyWarning: \n",
      "A value is trying to be set on a copy of a slice from a DataFrame\n",
      "\n",
      "See the caveats in the documentation: http://pandas.pydata.org/pandas-docs/stable/indexing.html#indexing-view-versus-copy\n",
      "C:\\Users\\WeiZhong\\Anaconda3\\lib\\site-packages\\ipykernel\\__main__.py:9: SettingWithCopyWarning: \n",
      "A value is trying to be set on a copy of a slice from a DataFrame\n",
      "\n",
      "See the caveats in the documentation: http://pandas.pydata.org/pandas-docs/stable/indexing.html#indexing-view-versus-copy\n",
      "C:\\Users\\WeiZhong\\Anaconda3\\lib\\site-packages\\ipykernel\\__main__.py:10: SettingWithCopyWarning: \n",
      "A value is trying to be set on a copy of a slice from a DataFrame\n",
      "\n",
      "See the caveats in the documentation: http://pandas.pydata.org/pandas-docs/stable/indexing.html#indexing-view-versus-copy\n",
      "C:\\Users\\WeiZhong\\Anaconda3\\lib\\site-packages\\ipykernel\\__main__.py:11: SettingWithCopyWarning: \n",
      "A value is trying to be set on a copy of a slice from a DataFrame\n",
      "\n",
      "See the caveats in the documentation: http://pandas.pydata.org/pandas-docs/stable/indexing.html#indexing-view-versus-copy\n",
      "C:\\Users\\WeiZhong\\Anaconda3\\lib\\site-packages\\ipykernel\\__main__.py:12: SettingWithCopyWarning: \n",
      "A value is trying to be set on a copy of a slice from a DataFrame\n",
      "\n",
      "See the caveats in the documentation: http://pandas.pydata.org/pandas-docs/stable/indexing.html#indexing-view-versus-copy\n",
      "C:\\Users\\WeiZhong\\Anaconda3\\lib\\site-packages\\ipykernel\\__main__.py:13: SettingWithCopyWarning: \n",
      "A value is trying to be set on a copy of a slice from a DataFrame\n",
      "\n",
      "See the caveats in the documentation: http://pandas.pydata.org/pandas-docs/stable/indexing.html#indexing-view-versus-copy\n",
      "C:\\Users\\WeiZhong\\Anaconda3\\lib\\site-packages\\ipykernel\\__main__.py:14: SettingWithCopyWarning: \n",
      "A value is trying to be set on a copy of a slice from a DataFrame\n",
      "\n",
      "See the caveats in the documentation: http://pandas.pydata.org/pandas-docs/stable/indexing.html#indexing-view-versus-copy\n",
      "C:\\Users\\WeiZhong\\Anaconda3\\lib\\site-packages\\ipykernel\\__main__.py:16: SettingWithCopyWarning: \n",
      "A value is trying to be set on a copy of a slice from a DataFrame\n",
      "\n",
      "See the caveats in the documentation: http://pandas.pydata.org/pandas-docs/stable/indexing.html#indexing-view-versus-copy\n",
      "C:\\Users\\WeiZhong\\Anaconda3\\lib\\site-packages\\ipykernel\\__main__.py:17: SettingWithCopyWarning: \n",
      "A value is trying to be set on a copy of a slice from a DataFrame\n",
      "\n",
      "See the caveats in the documentation: http://pandas.pydata.org/pandas-docs/stable/indexing.html#indexing-view-versus-copy\n",
      "C:\\Users\\WeiZhong\\Anaconda3\\lib\\site-packages\\ipykernel\\__main__.py:18: SettingWithCopyWarning: \n",
      "A value is trying to be set on a copy of a slice from a DataFrame\n",
      "\n",
      "See the caveats in the documentation: http://pandas.pydata.org/pandas-docs/stable/indexing.html#indexing-view-versus-copy\n",
      "C:\\Users\\WeiZhong\\Anaconda3\\lib\\site-packages\\ipykernel\\__main__.py:20: SettingWithCopyWarning: \n",
      "A value is trying to be set on a copy of a slice from a DataFrame\n",
      "\n",
      "See the caveats in the documentation: http://pandas.pydata.org/pandas-docs/stable/indexing.html#indexing-view-versus-copy\n",
      "C:\\Users\\WeiZhong\\Anaconda3\\lib\\site-packages\\ipykernel\\__main__.py:21: SettingWithCopyWarning: \n",
      "A value is trying to be set on a copy of a slice from a DataFrame\n",
      "\n",
      "See the caveats in the documentation: http://pandas.pydata.org/pandas-docs/stable/indexing.html#indexing-view-versus-copy\n"
     ]
    }
   ],
   "source": [
    "c['freq_weights'] = c['GSWGT4_2']/sum(c['GSWGT4_2'])*len(c['GSWGT4_2'])\n",
    "\n",
    "c['age'] = 2008 - c.H4OD1Y\n",
    "c['income'][c.income > 1000000] = 35126\n",
    "c['step'][c.step > 90] = c.step[c.step <= 90].mean()\n",
    "c['gregarious'][c.gregarious > 5] = c.gregarious[c.gregarious <= 5].mean()\n",
    "c['gregarious'][c.gregarious.isnull()] = c.gregarious[c.gregarious <= 5].mean()\n",
    "c['background'][c.background > 5] = c.background[c.background <= 5].mean()\n",
    "c['background'][c.background.isnull()] = c.background[c.background <= 5].mean()\n",
    "c['education'][c.education > 90] = c.education[c.education <= 90].mean()\n",
    "c['height'][c.height > 900] = c.height[c.height <= 900].mean()\n",
    "c['weight'][c.weight > 900] = c.weight[c.weight <= 900].mean()\n",
    "c['pulse'][c.pulse > 800] = c.pulse[c.pulse <= 800].mean()\n",
    "c['marriages'][c.marriages > 5] = c.marriages[c.marriages <= 5].mean()\n",
    "c['pregnanciesraw'] = c['pregnancies']\n",
    "c['pregnanciesraw'][c.pregnanciesraw > 90] = np.nan\n",
    "c['pregnancies'][c.pregnancies > 90] = c.pregnancies[c.pregnancies <= 90].mean()\n",
    "c['births'][c.births > 90] = 0\n",
    "c['fetusdeaths'] = (c.pregnanciesraw - c.births).clip(0)\n",
    "c['fetusdeaths'][c.fetusdeaths.isnull()] = c.fetusdeaths[c.fetusdeaths.notnull()].mean()\n",
    "c['happiness'][c.happiness > 5] = c.happiness[c.happiness <= 5].mean()"
   ]
  },
  {
   "cell_type": "code",
   "execution_count": 184,
   "metadata": {},
   "outputs": [
    {
     "data": {
      "image/png": "[encoded data removed]",
      "text/plain": [
       "<matplotlib.figure.Figure at 0x2202a444c18>"
      ]
     },
     "metadata": {},
     "output_type": "display_data"
    }
   ],
   "source": [
    "c['friends'].hist(bins=[1,2,3,4,5,6], normed=True)\n",
    "plt.show()"
   ]
  },
  {
   "cell_type": "code",
   "execution_count": 231,
   "metadata": {
    "collapsed": true
   },
   "outputs": [],
   "source": [
    "from sklearn.model_selection import train_test_split\n",
    "\n",
    "train, test = train_test_split(c.index)"
   ]
  },
  {
   "cell_type": "code",
   "execution_count": 428,
   "metadata": {},
   "outputs": [
    {
     "name": "stdout",
     "output_type": "stream",
     "text": [
      "train\n",
      "0.439355671318\n",
      "test\n",
      "0.91598846245\n"
     ]
    }
   ],
   "source": [
    "c.fillna(-1, inplace=True)\n",
    "\n",
    "from sklearn.ensemble import RandomForestRegressor\n",
    "\n",
    "cls = RandomForestRegressor(n_estimators = 200, n_jobs = -1,\n",
    "                                     max_features = 30, min_samples_leaf = 2) # No. of estimators should be 50\n",
    "cls.fit(c.loc[train][columns], c.loc[train].friends, sample_weight=c.loc[train].freq_weights)\n",
    "c['prediction'] = cls.predict(c[columns])\n",
    "\n",
    "print('train')\n",
    "print(np.sqrt(mean_squared_error(c.friends.loc[train], c.prediction.loc[train])))\n",
    "print('test')\n",
    "print(np.sqrt(mean_squared_error(c.friends.loc[test], c.prediction.loc[test])))"
   ]
  },
  {
   "cell_type": "code",
   "execution_count": 429,
   "metadata": {},
   "outputs": [
    {
     "data": {
      "text/html": [
       "<div>\n",
       "<style>\n",
       "    .dataframe thead tr:only-child th {\n",
       "        text-align: right;\n",
       "    }\n",
       "\n",
       "    .dataframe thead th {\n",
       "        text-align: left;\n",
       "    }\n",
       "\n",
       "    .dataframe tbody tr th {\n",
       "        vertical-align: top;\n",
       "    }\n",
       "</style>\n",
       "<table border=\"1\" class=\"dataframe\">\n",
       "  <thead>\n",
       "    <tr style=\"text-align: right;\">\n",
       "      <th></th>\n",
       "      <th>0</th>\n",
       "      <th>1</th>\n",
       "    </tr>\n",
       "  </thead>\n",
       "  <tbody>\n",
       "    <tr>\n",
       "      <th>837</th>\n",
       "      <td>gregarious</td>\n",
       "      <td>0.010091</td>\n",
       "    </tr>\n",
       "    <tr>\n",
       "      <th>845</th>\n",
       "      <td>background</td>\n",
       "      <td>0.009521</td>\n",
       "    </tr>\n",
       "    <tr>\n",
       "      <th>350</th>\n",
       "      <td>income</td>\n",
       "      <td>0.008487</td>\n",
       "    </tr>\n",
       "    <tr>\n",
       "      <th>261</th>\n",
       "      <td>education</td>\n",
       "      <td>0.008005</td>\n",
       "    </tr>\n",
       "    <tr>\n",
       "      <th>367</th>\n",
       "      <td>step</td>\n",
       "      <td>0.007893</td>\n",
       "    </tr>\n",
       "    <tr>\n",
       "      <th>289</th>\n",
       "      <td>H4ED9</td>\n",
       "      <td>0.005924</td>\n",
       "    </tr>\n",
       "    <tr>\n",
       "      <th>270</th>\n",
       "      <td>H4ED4A</td>\n",
       "      <td>0.005856</td>\n",
       "    </tr>\n",
       "    <tr>\n",
       "      <th>809</th>\n",
       "      <td>H4DA17</td>\n",
       "      <td>0.005633</td>\n",
       "    </tr>\n",
       "    <tr>\n",
       "      <th>868</th>\n",
       "      <td>H4SBP</td>\n",
       "      <td>0.005548</td>\n",
       "    </tr>\n",
       "    <tr>\n",
       "      <th>876</th>\n",
       "      <td>weight</td>\n",
       "      <td>0.005506</td>\n",
       "    </tr>\n",
       "    <tr>\n",
       "      <th>687</th>\n",
       "      <td>H4TO40</td>\n",
       "      <td>0.005434</td>\n",
       "    </tr>\n",
       "    <tr>\n",
       "      <th>873</th>\n",
       "      <td>H4PP</td>\n",
       "      <td>0.005424</td>\n",
       "    </tr>\n",
       "    <tr>\n",
       "      <th>513</th>\n",
       "      <td>pregnancies</td>\n",
       "      <td>0.005421</td>\n",
       "    </tr>\n",
       "    <tr>\n",
       "      <th>875</th>\n",
       "      <td>height</td>\n",
       "      <td>0.005362</td>\n",
       "    </tr>\n",
       "    <tr>\n",
       "      <th>880</th>\n",
       "      <td>H4WAIST</td>\n",
       "      <td>0.005250</td>\n",
       "    </tr>\n",
       "    <tr>\n",
       "      <th>416</th>\n",
       "      <td>happiness</td>\n",
       "      <td>0.005058</td>\n",
       "    </tr>\n",
       "    <tr>\n",
       "      <th>872</th>\n",
       "      <td>pulse</td>\n",
       "      <td>0.005034</td>\n",
       "    </tr>\n",
       "    <tr>\n",
       "      <th>874</th>\n",
       "      <td>H4MAP</td>\n",
       "      <td>0.004968</td>\n",
       "    </tr>\n",
       "    <tr>\n",
       "      <th>878</th>\n",
       "      <td>H4BMI</td>\n",
       "      <td>0.004898</td>\n",
       "    </tr>\n",
       "    <tr>\n",
       "      <th>383</th>\n",
       "      <td>H4MH2</td>\n",
       "      <td>0.004732</td>\n",
       "    </tr>\n",
       "    <tr>\n",
       "      <th>278</th>\n",
       "      <td>H4ED5A</td>\n",
       "      <td>0.004656</td>\n",
       "    </tr>\n",
       "    <tr>\n",
       "      <th>863</th>\n",
       "      <td>H4CDAY</td>\n",
       "      <td>0.004644</td>\n",
       "    </tr>\n",
       "    <tr>\n",
       "      <th>262</th>\n",
       "      <td>H4ED3A</td>\n",
       "      <td>0.004614</td>\n",
       "    </tr>\n",
       "    <tr>\n",
       "      <th>829</th>\n",
       "      <td>H4PE9</td>\n",
       "      <td>0.004548</td>\n",
       "    </tr>\n",
       "    <tr>\n",
       "      <th>683</th>\n",
       "      <td>H4TO36</td>\n",
       "      <td>0.004523</td>\n",
       "    </tr>\n",
       "    <tr>\n",
       "      <th>821</th>\n",
       "      <td>H4PE1</td>\n",
       "      <td>0.004521</td>\n",
       "    </tr>\n",
       "    <tr>\n",
       "      <th>556</th>\n",
       "      <td>H4KK15D</td>\n",
       "      <td>0.004516</td>\n",
       "    </tr>\n",
       "    <tr>\n",
       "      <th>428</th>\n",
       "      <td>H4SE7</td>\n",
       "      <td>0.004434</td>\n",
       "    </tr>\n",
       "    <tr>\n",
       "      <th>869</th>\n",
       "      <td>H4DBP</td>\n",
       "      <td>0.004370</td>\n",
       "    </tr>\n",
       "    <tr>\n",
       "      <th>914</th>\n",
       "      <td>currentrelationshipyears</td>\n",
       "      <td>0.004364</td>\n",
       "    </tr>\n",
       "  </tbody>\n",
       "</table>\n",
       "</div>"
      ],
      "text/plain": [
       "                            0         1\n",
       "837                gregarious  0.010091\n",
       "845                background  0.009521\n",
       "350                    income  0.008487\n",
       "261                 education  0.008005\n",
       "367                      step  0.007893\n",
       "289                     H4ED9  0.005924\n",
       "270                    H4ED4A  0.005856\n",
       "809                    H4DA17  0.005633\n",
       "868                     H4SBP  0.005548\n",
       "876                    weight  0.005506\n",
       "687                    H4TO40  0.005434\n",
       "873                      H4PP  0.005424\n",
       "513               pregnancies  0.005421\n",
       "875                    height  0.005362\n",
       "880                   H4WAIST  0.005250\n",
       "416                 happiness  0.005058\n",
       "872                     pulse  0.005034\n",
       "874                     H4MAP  0.004968\n",
       "878                     H4BMI  0.004898\n",
       "383                     H4MH2  0.004732\n",
       "278                    H4ED5A  0.004656\n",
       "863                    H4CDAY  0.004644\n",
       "262                    H4ED3A  0.004614\n",
       "829                     H4PE9  0.004548\n",
       "683                    H4TO36  0.004523\n",
       "821                     H4PE1  0.004521\n",
       "556                   H4KK15D  0.004516\n",
       "428                     H4SE7  0.004434\n",
       "869                     H4DBP  0.004370\n",
       "914  currentrelationshipyears  0.004364"
      ]
     },
     "execution_count": 429,
     "metadata": {},
     "output_type": "execute_result"
    }
   ],
   "source": [
    "df_feature_importances = pd.DataFrame(np.transpose([columns, cls.feature_importances_]))\n",
    "df_feature_importances[1] = df_feature_importances[1].astype(float)\n",
    "df_feature_importances.sort_values(1, ascending=False).head(n=30)"
   ]
  },
  {
   "cell_type": "code",
   "execution_count": 329,
   "metadata": {},
   "outputs": [
    {
     "data": {
      "text/html": [
       "<div>\n",
       "<style>\n",
       "    .dataframe thead tr:only-child th {\n",
       "        text-align: right;\n",
       "    }\n",
       "\n",
       "    .dataframe thead th {\n",
       "        text-align: left;\n",
       "    }\n",
       "\n",
       "    .dataframe tbody tr th {\n",
       "        vertical-align: top;\n",
       "    }\n",
       "</style>\n",
       "<table border=\"1\" class=\"dataframe\">\n",
       "  <thead>\n",
       "    <tr style=\"text-align: right;\">\n",
       "      <th></th>\n",
       "      <th>count</th>\n",
       "      <th>mean</th>\n",
       "      <th>std</th>\n",
       "      <th>min</th>\n",
       "      <th>25%</th>\n",
       "      <th>50%</th>\n",
       "      <th>75%</th>\n",
       "      <th>max</th>\n",
       "    </tr>\n",
       "    <tr>\n",
       "      <th>friends</th>\n",
       "      <th></th>\n",
       "      <th></th>\n",
       "      <th></th>\n",
       "      <th></th>\n",
       "      <th></th>\n",
       "      <th></th>\n",
       "      <th></th>\n",
       "      <th></th>\n",
       "    </tr>\n",
       "  </thead>\n",
       "  <tbody>\n",
       "    <tr>\n",
       "      <th>1</th>\n",
       "      <td>145.0</td>\n",
       "      <td>2.098247</td>\n",
       "      <td>1.858961</td>\n",
       "      <td>0.0</td>\n",
       "      <td>0.0</td>\n",
       "      <td>2.0</td>\n",
       "      <td>3.0</td>\n",
       "      <td>9.0</td>\n",
       "    </tr>\n",
       "    <tr>\n",
       "      <th>2</th>\n",
       "      <td>1121.0</td>\n",
       "      <td>1.846112</td>\n",
       "      <td>1.677718</td>\n",
       "      <td>0.0</td>\n",
       "      <td>0.0</td>\n",
       "      <td>2.0</td>\n",
       "      <td>3.0</td>\n",
       "      <td>10.0</td>\n",
       "    </tr>\n",
       "    <tr>\n",
       "      <th>3</th>\n",
       "      <td>2319.0</td>\n",
       "      <td>1.398513</td>\n",
       "      <td>1.563088</td>\n",
       "      <td>0.0</td>\n",
       "      <td>0.0</td>\n",
       "      <td>1.0</td>\n",
       "      <td>2.0</td>\n",
       "      <td>12.0</td>\n",
       "    </tr>\n",
       "    <tr>\n",
       "      <th>4</th>\n",
       "      <td>861.0</td>\n",
       "      <td>1.011900</td>\n",
       "      <td>1.433566</td>\n",
       "      <td>0.0</td>\n",
       "      <td>0.0</td>\n",
       "      <td>0.0</td>\n",
       "      <td>2.0</td>\n",
       "      <td>12.0</td>\n",
       "    </tr>\n",
       "    <tr>\n",
       "      <th>5</th>\n",
       "      <td>620.0</td>\n",
       "      <td>1.099453</td>\n",
       "      <td>1.485828</td>\n",
       "      <td>0.0</td>\n",
       "      <td>0.0</td>\n",
       "      <td>0.0</td>\n",
       "      <td>2.0</td>\n",
       "      <td>9.0</td>\n",
       "    </tr>\n",
       "  </tbody>\n",
       "</table>\n",
       "</div>"
      ],
      "text/plain": [
       "          count      mean       std  min  25%  50%  75%   max\n",
       "friends                                                      \n",
       "1         145.0  2.098247  1.858961  0.0  0.0  2.0  3.0   9.0\n",
       "2        1121.0  1.846112  1.677718  0.0  0.0  2.0  3.0  10.0\n",
       "3        2319.0  1.398513  1.563088  0.0  0.0  1.0  2.0  12.0\n",
       "4         861.0  1.011900  1.433566  0.0  0.0  0.0  2.0  12.0\n",
       "5         620.0  1.099453  1.485828  0.0  0.0  0.0  2.0   9.0"
      ]
     },
     "execution_count": 329,
     "metadata": {},
     "output_type": "execute_result"
    }
   ],
   "source": [
    "# Talk to different people at parties\n",
    "c.groupby('friends').pregnancies.describe()"
   ]
  },
  {
   "cell_type": "code",
   "execution_count": 181,
   "metadata": {},
   "outputs": [
    {
     "data": {
      "text/plain": [
       "0"
      ]
     },
     "execution_count": 181,
     "metadata": {},
     "output_type": "execute_result"
    }
   ],
   "source": [
    "sum(c.H4PE17.isnull())"
   ]
  },
  {
   "cell_type": "code",
   "execution_count": 179,
   "metadata": {},
   "outputs": [
    {
     "data": {
      "text/plain": [
       "990   NaN\n",
       "Name: H4PE17, dtype: float64"
      ]
     },
     "execution_count": 179,
     "metadata": {},
     "output_type": "execute_result"
    }
   ],
   "source": [
    "c.H4PE17[c.H4PE17.isnull()]"
   ]
  },
  {
   "cell_type": "code",
   "execution_count": 165,
   "metadata": {
    "scrolled": true
   },
   "outputs": [
    {
     "data": {
      "text/plain": [
       "0.0         345\n",
       "1.0           1\n",
       "2.0           1\n",
       "3.0           1\n",
       "4.0           2\n",
       "5.0           1\n",
       "7.0           1\n",
       "10.0          1\n",
       "20.0          1\n",
       "24.0          1\n",
       "25.0          1\n",
       "32.0          1\n",
       "34.0          1\n",
       "42.0          1\n",
       "44.0          1\n",
       "50.0          1\n",
       "55.0          1\n",
       "60.0          1\n",
       "70.0          1\n",
       "82.0          1\n",
       "95.0          1\n",
       "100.0         1\n",
       "175.0         1\n",
       "200.0         5\n",
       "206.0         1\n",
       "230.0         1\n",
       "250.0         1\n",
       "300.0         2\n",
       "350.0         1\n",
       "434.0         1\n",
       "           ... \n",
       "185000.0      1\n",
       "187000.0      1\n",
       "190000.0      1\n",
       "195000.0      1\n",
       "200000.0      6\n",
       "230000.0      1\n",
       "236000.0      1\n",
       "250000.0      1\n",
       "275000.0      1\n",
       "285000.0      1\n",
       "300000.0      4\n",
       "312000.0      1\n",
       "325000.0      1\n",
       "350000.0      1\n",
       "360000.0      1\n",
       "365000.0      1\n",
       "375000.0      1\n",
       "393500.0      1\n",
       "400000.0      1\n",
       "415000.0      1\n",
       "420000.0      1\n",
       "450000.0      1\n",
       "470000.0      1\n",
       "475000.0      1\n",
       "479000.0      1\n",
       "480001.0      1\n",
       "500000.0      1\n",
       "750000.0      1\n",
       "800000.0      2\n",
       "999995.0      2\n",
       "Name: H4EC2, Length: 388, dtype: int64"
      ]
     },
     "execution_count": 165,
     "metadata": {},
     "output_type": "execute_result"
    }
   ],
   "source": [
    "c.H4EC2.value_counts().sort_index()"
   ]
  },
  {
   "cell_type": "code",
   "execution_count": 151,
   "metadata": {},
   "outputs": [
    {
     "data": {
      "text/plain": [
       "2.6200277063130812"
      ]
     },
     "execution_count": 151,
     "metadata": {},
     "output_type": "execute_result"
    }
   ],
   "source": [
    "c.H4PE17[c.H4PE17 <= 5].mean()"
   ]
  },
  {
   "cell_type": "code",
   "execution_count": 120,
   "metadata": {},
   "outputs": [
    {
     "data": {
      "text/plain": [
       "MannwhitneyuResult(statistic=308368.0, pvalue=9.5883085064508626e-09)"
      ]
     },
     "execution_count": 120,
     "metadata": {},
     "output_type": "execute_result"
    }
   ],
   "source": [
    "ss.mannwhitneyu(c[(c.H4WS4==4) & (c.H4PE17 < 6)].H4PE17, c[(c.H4WS4==5) & (c.H4PE17 < 6)].H4PE17, alternative='two-sided')"
   ]
  },
  {
   "cell_type": "code",
   "execution_count": 626,
   "metadata": {},
   "outputs": [
    {
     "data": {
      "image/png": "[encoded data removed]",
      "text/plain": [
       "<matplotlib.figure.Figure at 0x22029c5a1d0>"
      ]
     },
     "metadata": {},
     "output_type": "display_data"
    }
   ],
   "source": [
    "c.boxplot(column='nfriends', by='births', notch=True, showmeans=True)\n",
    "plt.show()"
   ]
  },
  {
   "cell_type": "code",
   "execution_count": 632,
   "metadata": {},
   "outputs": [
    {
     "data": {
      "text/plain": [
       "MannwhitneyuResult(statistic=182693.5, pvalue=0.46599338221990116)"
      ]
     },
     "execution_count": 632,
     "metadata": {},
     "output_type": "execute_result"
    }
   ],
   "source": [
    "ss.mannwhitneyu(c[(c.births==2)].nfriends, c[(c.births==3)].nfriends, alternative='two-sided')"
   ]
  },
  {
   "cell_type": "code",
   "execution_count": 625,
   "metadata": {},
   "outputs": [
    {
     "data": {
      "image/png": "[encoded data removed]",
      "text/plain": [
       "<matplotlib.figure.Figure at 0x22044cd5908>"
      ]
     },
     "metadata": {},
     "output_type": "display_data"
    }
   ],
   "source": [
    "c.boxplot(column='nfriends', by='youngestchildage', notch=True, showmeans=True)\n",
    "plt.show()"
   ]
  },
  {
   "cell_type": "code",
   "execution_count": 73,
   "metadata": {},
   "outputs": [
    {
     "data": {
      "image/png": "[encoded data removed]",
      "text/plain": [
       "<matplotlib.figure.Figure at 0x220288f4198>"
      ]
     },
     "metadata": {},
     "output_type": "display_data"
    }
   ],
   "source": [
    "# Educational level\n",
    "c[c.H4ED2<14].boxplot(column='H4ED2', by='H4WS4', notch=True)\n",
    "plt.show()"
   ]
  },
  {
   "cell_type": "code",
   "execution_count": 78,
   "metadata": {},
   "outputs": [
    {
     "data": {
      "image/png": "[encoded data removed]",
      "text/plain": [
       "<matplotlib.figure.Figure at 0x2202892d588>"
      ]
     },
     "metadata": {},
     "output_type": "display_data"
    }
   ],
   "source": [
    "# Income\n",
    "c[c.H4EC2 < 9999996].boxplot(column='H4EC2', by='H4WS4', notch=True)\n",
    "plt.ylim([0,100000])\n",
    "plt.show()"
   ]
  },
  {
   "cell_type": "code",
   "execution_count": 455,
   "metadata": {},
   "outputs": [],
   "source": [
    "c['currentrelationshipyearsround'] = c.currentrelationshipyears.round()"
   ]
  },
  {
   "cell_type": "code",
   "execution_count": 600,
   "metadata": {},
   "outputs": [
    {
     "data": {
      "image/png": "[encoded data removed]",
      "text/plain": [
       "<matplotlib.figure.Figure at 0x22055d03da0>"
      ]
     },
     "metadata": {},
     "output_type": "display_data"
    }
   ],
   "source": [
    "c.boxplot(column='youngestchildage', by='nfriends', notch=True)\n",
    "plt.show()"
   ]
  },
  {
   "cell_type": "code",
   "execution_count": 773,
   "metadata": {},
   "outputs": [
    {
     "data": {
      "image/png": "[encoded data removed]",
      "text/plain": [
       "<matplotlib.figure.Figure at 0x22046b05e48>"
      ]
     },
     "metadata": {},
     "output_type": "display_data"
    }
   ],
   "source": [
    "c.boxplot(column='nfriends', by='births', notch=True)\n",
    "plt.show()"
   ]
  },
  {
   "cell_type": "code",
   "execution_count": 353,
   "metadata": {},
   "outputs": [
    {
     "data": {
      "text/html": [
       "<div>\n",
       "<style>\n",
       "    .dataframe thead tr:only-child th {\n",
       "        text-align: right;\n",
       "    }\n",
       "\n",
       "    .dataframe thead th {\n",
       "        text-align: left;\n",
       "    }\n",
       "\n",
       "    .dataframe tbody tr th {\n",
       "        vertical-align: top;\n",
       "    }\n",
       "</style>\n",
       "<table border=\"1\" class=\"dataframe\">\n",
       "  <thead>\n",
       "    <tr style=\"text-align: right;\">\n",
       "      <th></th>\n",
       "      <th>count</th>\n",
       "      <th>mean</th>\n",
       "      <th>std</th>\n",
       "      <th>min</th>\n",
       "      <th>25%</th>\n",
       "      <th>50%</th>\n",
       "      <th>75%</th>\n",
       "      <th>max</th>\n",
       "    </tr>\n",
       "    <tr>\n",
       "      <th>age</th>\n",
       "      <th></th>\n",
       "      <th></th>\n",
       "      <th></th>\n",
       "      <th></th>\n",
       "      <th></th>\n",
       "      <th></th>\n",
       "      <th></th>\n",
       "      <th></th>\n",
       "    </tr>\n",
       "  </thead>\n",
       "  <tbody>\n",
       "    <tr>\n",
       "      <th>25</th>\n",
       "      <td>7.0</td>\n",
       "      <td>2.571429</td>\n",
       "      <td>0.786796</td>\n",
       "      <td>2.0</td>\n",
       "      <td>2.0</td>\n",
       "      <td>2.0</td>\n",
       "      <td>3.0</td>\n",
       "      <td>4.0</td>\n",
       "    </tr>\n",
       "    <tr>\n",
       "      <th>26</th>\n",
       "      <td>458.0</td>\n",
       "      <td>3.211790</td>\n",
       "      <td>0.961464</td>\n",
       "      <td>1.0</td>\n",
       "      <td>3.0</td>\n",
       "      <td>3.0</td>\n",
       "      <td>4.0</td>\n",
       "      <td>5.0</td>\n",
       "    </tr>\n",
       "    <tr>\n",
       "      <th>27</th>\n",
       "      <td>719.0</td>\n",
       "      <td>3.171071</td>\n",
       "      <td>0.990173</td>\n",
       "      <td>1.0</td>\n",
       "      <td>3.0</td>\n",
       "      <td>3.0</td>\n",
       "      <td>4.0</td>\n",
       "      <td>5.0</td>\n",
       "    </tr>\n",
       "    <tr>\n",
       "      <th>28</th>\n",
       "      <td>874.0</td>\n",
       "      <td>3.156751</td>\n",
       "      <td>1.002588</td>\n",
       "      <td>1.0</td>\n",
       "      <td>3.0</td>\n",
       "      <td>3.0</td>\n",
       "      <td>4.0</td>\n",
       "      <td>5.0</td>\n",
       "    </tr>\n",
       "    <tr>\n",
       "      <th>29</th>\n",
       "      <td>903.0</td>\n",
       "      <td>3.032115</td>\n",
       "      <td>0.981011</td>\n",
       "      <td>1.0</td>\n",
       "      <td>2.0</td>\n",
       "      <td>3.0</td>\n",
       "      <td>4.0</td>\n",
       "      <td>5.0</td>\n",
       "    </tr>\n",
       "    <tr>\n",
       "      <th>30</th>\n",
       "      <td>881.0</td>\n",
       "      <td>3.172531</td>\n",
       "      <td>0.986140</td>\n",
       "      <td>1.0</td>\n",
       "      <td>3.0</td>\n",
       "      <td>3.0</td>\n",
       "      <td>4.0</td>\n",
       "      <td>5.0</td>\n",
       "    </tr>\n",
       "    <tr>\n",
       "      <th>31</th>\n",
       "      <td>870.0</td>\n",
       "      <td>3.160920</td>\n",
       "      <td>0.971084</td>\n",
       "      <td>1.0</td>\n",
       "      <td>3.0</td>\n",
       "      <td>3.0</td>\n",
       "      <td>4.0</td>\n",
       "      <td>5.0</td>\n",
       "    </tr>\n",
       "    <tr>\n",
       "      <th>32</th>\n",
       "      <td>302.0</td>\n",
       "      <td>3.052980</td>\n",
       "      <td>1.032933</td>\n",
       "      <td>1.0</td>\n",
       "      <td>2.0</td>\n",
       "      <td>3.0</td>\n",
       "      <td>4.0</td>\n",
       "      <td>5.0</td>\n",
       "    </tr>\n",
       "    <tr>\n",
       "      <th>33</th>\n",
       "      <td>45.0</td>\n",
       "      <td>2.955556</td>\n",
       "      <td>1.043498</td>\n",
       "      <td>1.0</td>\n",
       "      <td>2.0</td>\n",
       "      <td>3.0</td>\n",
       "      <td>3.0</td>\n",
       "      <td>5.0</td>\n",
       "    </tr>\n",
       "    <tr>\n",
       "      <th>34</th>\n",
       "      <td>7.0</td>\n",
       "      <td>3.142857</td>\n",
       "      <td>1.069045</td>\n",
       "      <td>2.0</td>\n",
       "      <td>2.5</td>\n",
       "      <td>3.0</td>\n",
       "      <td>3.5</td>\n",
       "      <td>5.0</td>\n",
       "    </tr>\n",
       "  </tbody>\n",
       "</table>\n",
       "</div>"
      ],
      "text/plain": [
       "     count      mean       std  min  25%  50%  75%  max\n",
       "age                                                    \n",
       "25     7.0  2.571429  0.786796  2.0  2.0  2.0  3.0  4.0\n",
       "26   458.0  3.211790  0.961464  1.0  3.0  3.0  4.0  5.0\n",
       "27   719.0  3.171071  0.990173  1.0  3.0  3.0  4.0  5.0\n",
       "28   874.0  3.156751  1.002588  1.0  3.0  3.0  4.0  5.0\n",
       "29   903.0  3.032115  0.981011  1.0  2.0  3.0  4.0  5.0\n",
       "30   881.0  3.172531  0.986140  1.0  3.0  3.0  4.0  5.0\n",
       "31   870.0  3.160920  0.971084  1.0  3.0  3.0  4.0  5.0\n",
       "32   302.0  3.052980  1.032933  1.0  2.0  3.0  4.0  5.0\n",
       "33    45.0  2.955556  1.043498  1.0  2.0  3.0  3.0  5.0\n",
       "34     7.0  3.142857  1.069045  2.0  2.5  3.0  3.5  5.0"
      ]
     },
     "execution_count": 353,
     "metadata": {},
     "output_type": "execute_result"
    }
   ],
   "source": [
    "c.groupby('age')['friends'].describe()"
   ]
  },
  {
   "cell_type": "code",
   "execution_count": 783,
   "metadata": {},
   "outputs": [
    {
     "data": {
      "text/plain": [
       "MannwhitneyuResult(statistic=35736.5, pvalue=0.0027139984426471451)"
      ]
     },
     "execution_count": 783,
     "metadata": {},
     "output_type": "execute_result"
    }
   ],
   "source": [
    "ss.mannwhitneyu(c[(c.births==3)].nfriends, c[(c.births>3)].nfriends, alternative='two-sided')"
   ]
  },
  {
   "cell_type": "code",
   "execution_count": 343,
   "metadata": {},
   "outputs": [
    {
     "data": {
      "text/plain": [
       "MannwhitneyuResult(statistic=1049710.0, pvalue=0.011177720705674403)"
      ]
     },
     "execution_count": 343,
     "metadata": {},
     "output_type": "execute_result"
    }
   ],
   "source": [
    "ss.mannwhitneyu(c[(c.friends==3)].marriages, c[(c.friends==4)].marriages, alternative='two-sided')"
   ]
  },
  {
   "cell_type": "code",
   "execution_count": 94,
   "metadata": {},
   "outputs": [
    {
     "data": {
      "image/png": "[encoded data removed]",
      "text/plain": [
       "<matplotlib.figure.Figure at 0x220285e4f28>"
      ]
     },
     "metadata": {},
     "output_type": "display_data"
    }
   ],
   "source": [
    "c[c.H4DA17 < 900].boxplot(column='H4DA17', by='H4WS4', notch=True)\n",
    "plt.show()"
   ]
  },
  {
   "cell_type": "code",
   "execution_count": 114,
   "metadata": {},
   "outputs": [
    {
     "data": {
      "text/plain": [
       "MannwhitneyuResult(statistic=228301.5, pvalue=2.2170063275227359e-05)"
      ]
     },
     "execution_count": 114,
     "metadata": {},
     "output_type": "execute_result"
    }
   ],
   "source": [
    "ss.mannwhitneyu(c[(c.H4WS4==4) & (c.H4DA17 < 900)].H4DA17, c[(c.H4WS4==5) & (c.H4DA17 < 900)].H4DA17, alternative='two-sided')"
   ]
  },
  {
   "cell_type": "code",
   "execution_count": 104,
   "metadata": {},
   "outputs": [
    {
     "data": {
      "image/png": "[encoded data removed]",
      "text/plain": [
       "<matplotlib.figure.Figure at 0x22023aa80f0>"
      ]
     },
     "metadata": {},
     "output_type": "display_data"
    }
   ],
   "source": [
    "c[c.H4DA17<900].H4DA17.hist()\n",
    "plt.show()"
   ]
  },
  {
   "cell_type": "markdown",
   "metadata": {},
   "source": [
    "## Demographic variables"
   ]
  },
  {
   "cell_type": "code",
   "execution_count": 653,
   "metadata": {},
   "outputs": [
    {
     "data": {
      "image/png": "[encoded data removed]",
      "text/plain": [
       "<matplotlib.figure.Figure at 0x220374adcc0>"
      ]
     },
     "metadata": {},
     "output_type": "display_data"
    }
   ],
   "source": [
    "c.boxplot(column='nfriends', by='gender', notch=True, showmeans=True)\n",
    "plt.show()"
   ]
  },
  {
   "cell_type": "code",
   "execution_count": 654,
   "metadata": {},
   "outputs": [
    {
     "data": {
      "image/png": "[encoded data removed]",
      "text/plain": [
       "<matplotlib.figure.Figure at 0x220378dca20>"
      ]
     },
     "metadata": {},
     "output_type": "display_data"
    }
   ],
   "source": [
    "c.boxplot(column='nfriends', by='race', notch=True, showmeans=True)\n",
    "plt.show()"
   ]
  },
  {
   "cell_type": "code",
   "execution_count": 921,
   "metadata": {},
   "outputs": [
    {
     "data": {
      "image/png": "[encoded data removed]",
      "text/plain": [
       "<matplotlib.figure.Figure at 0x2200f11e588>"
      ]
     },
     "metadata": {},
     "output_type": "display_data"
    }
   ],
   "source": [
    "import matplotlib.ticker as plticker\n",
    "\n",
    "\n",
    "fig = plt.figure(figsize=(7,11))\n",
    "ax = fig.add_subplot(421)\n",
    "c[c.gregarious.isin([1,2,3,4,5])].boxplot(column='nfriends', by='gregarious', notch=True, showmeans=True, ax=ax)\n",
    "plt.title('\"I talk to a lot of different \\npeople at parties.\" (*)')\n",
    "plt.ylabel('estimated number of friends')\n",
    "ax.xaxis.set_major_locator(plticker.MultipleLocator(1))\n",
    "\n",
    "plt.xticks([1, 2, 3, 4, 5], ['SA', 'A', 'N', 'SD', 'D'])\n",
    "#ax.xaxis.get_ticklines()[1].set_visible(False)\n",
    "plt.xlabel('ns between SD and D')\n",
    "\n",
    "ax = fig.add_subplot(422)\n",
    "c[c.background.isin([1,2,3,4,5])].boxplot(column='nfriends', by='background', notch=True, showmeans=True, ax=ax)\n",
    "plt.title('\"I keep in the background.\" (*)')\n",
    "plt.xticks([1, 2, 3, 4, 5], ['SA', 'A', 'N', 'SD', 'D'])\n",
    "plt.xlabel('')\n",
    "\n",
    "ax = fig.add_subplot(423)\n",
    "c[c.race != 'indian'].boxplot(column='nfriends', by='race', notch=True, showmeans=True, ax=ax)\n",
    "plt.title('Race (*)')\n",
    "plt.ylabel('estimated number of friends')\n",
    "plt.xticks(range(1,4), ['Black', 'White', 'Asian'])\n",
    "plt.xlabel('ns between White and Asian')\n",
    "\n",
    "ax = fig.add_subplot(424)\n",
    "c.boxplot(column='nfriends', by='ishispanic', notch=True, showmeans=True, ax=ax)\n",
    "plt.title('Hispanic origin (*)')\n",
    "plt.xticks(range(1,3), ['Not Hispanic/\\nLatino', 'Hispanic/\\nLatino'])\n",
    "plt.xlabel('')\n",
    "\n",
    "\n",
    "ax = fig.add_subplot(425)\n",
    "c.boxplot(column='nfriends', by='gender', notch=True, showmeans=True, ax=ax)\n",
    "plt.xticks(range(1,3), ['male', 'female'])\n",
    "plt.title('Gender (*)')\n",
    "plt.ylabel('estimated number of friends')\n",
    "plt.xlabel('')\n",
    "\n",
    "ax = fig.add_subplot(426)\n",
    "c.boxplot(column='nfriends', by='age', notch=True, showmeans=True, ax=ax)\n",
    "plt.title('Age')\n",
    "plt.xlabel('')\n",
    "\n",
    "ax = fig.add_subplot(427)\n",
    "c['incometertile'] = pd.qcut(c.income, 3, labels=['lower', 'middle', 'upper'])\n",
    "c.boxplot(column='nfriends', by='incometertile', notch=True, showmeans=True, ax=ax)\n",
    "plt.title('Income tertile (*)')\n",
    "plt.xlabel('')\n",
    "plt.ylabel('estimated number of friends')\n",
    "\n",
    "ax = fig.add_subplot(428)\n",
    "c['educationtertile'] = pd.cut(c.education, [0,5,6,14], labels=['no \\ncollege', 'some \\ncollege', 'completed \\ncollege'])\n",
    "c.boxplot(column='nfriends', by='educationtertile', notch=True, showmeans=True, ax=ax)\n",
    "plt.title('Educational level (*)')\n",
    "plt.xlabel('')\n",
    "\n",
    "plt.tight_layout()\n",
    "plt.subplots_adjust(top=0.89)\n",
    "plt.suptitle('Estimated number of close friends by \\npersonality indicators and major demographic variables')\n",
    "plt.savefig('FP F1 Personality and demographics.pdf')\n",
    "plt.show()"
   ]
  },
  {
   "cell_type": "markdown",
   "metadata": {},
   "source": [
    "Race - significant interactions btwn black and white, black and asian\n",
    "\n",
    "Males consider that they have more close friends than females (possibly due to higher income?)"
   ]
  },
  {
   "cell_type": "code",
   "execution_count": 916,
   "metadata": {},
   "outputs": [
    {
     "data": {
      "text/plain": [
       "MannwhitneyuResult(statistic=106630.5, pvalue=2.9298583885082959e-11)"
      ]
     },
     "execution_count": 916,
     "metadata": {},
     "output_type": "execute_result"
    }
   ],
   "source": [
    "ss.mannwhitneyu(c[(c.background == 1)].friends, c[(c.background == 4)].friends, alternative='two-sided')"
   ]
  },
  {
   "cell_type": "code",
   "execution_count": 923,
   "metadata": {},
   "outputs": [
    {
     "name": "stderr",
     "output_type": "stream",
     "text": [
      "C:\\Users\\WeiZhong\\Anaconda3\\lib\\site-packages\\statsmodels\\base\\model.py:1036: RuntimeWarning: invalid value encountered in true_divide\n",
      "  return self.params / self.bse\n",
      "C:\\Users\\WeiZhong\\Anaconda3\\lib\\site-packages\\scipy\\stats\\_distn_infrastructure.py:879: RuntimeWarning: invalid value encountered in greater\n",
      "  return (self.a < x) & (x < self.b)\n",
      "C:\\Users\\WeiZhong\\Anaconda3\\lib\\site-packages\\scipy\\stats\\_distn_infrastructure.py:879: RuntimeWarning: invalid value encountered in less\n",
      "  return (self.a < x) & (x < self.b)\n",
      "C:\\Users\\WeiZhong\\Anaconda3\\lib\\site-packages\\scipy\\stats\\_distn_infrastructure.py:1818: RuntimeWarning: invalid value encountered in less_equal\n",
      "  cond2 = cond0 & (x <= self.a)\n"
     ]
    },
    {
     "data": {
      "text/html": [
       "<table class=\"simpletable\">\n",
       "<caption>Generalized Linear Model Regression Results</caption>\n",
       "<tr>\n",
       "  <th>Dep. Variable:</th>      <td>nfriends</td>     <th>  No. Observations:  </th>     <td>  5061</td>    \n",
       "</tr>\n",
       "<tr>\n",
       "  <th>Model:</th>                 <td>GLM</td>       <th>  Df Residuals:      </th>     <td>  5039</td>    \n",
       "</tr>\n",
       "<tr>\n",
       "  <th>Model Family:</th>   <td>NegativeBinomial</td> <th>  Df Model:          </th>     <td>    21</td>    \n",
       "</tr>\n",
       "<tr>\n",
       "  <th>Link Function:</th>         <td>log</td>       <th>  Scale:             </th> <td>0.284457822804</td>\n",
       "</tr>\n",
       "<tr>\n",
       "  <th>Method:</th>               <td>IRLS</td>       <th>  Log-Likelihood:    </th>    <td> -13267.</td>   \n",
       "</tr>\n",
       "<tr>\n",
       "  <th>Date:</th>           <td>Tue, 19 Dec 2017</td> <th>  Deviance:          </th>    <td>  1714.3</td>   \n",
       "</tr>\n",
       "<tr>\n",
       "  <th>Time:</th>               <td>18:57:48</td>     <th>  Pearson chi2:      </th>    <td>1.43e+03</td>   \n",
       "</tr>\n",
       "<tr>\n",
       "  <th>No. Iterations:</th>         <td>6</td>        <th>                     </th>        <td> </td>      \n",
       "</tr>\n",
       "</table>\n",
       "<table class=\"simpletable\">\n",
       "<tr>\n",
       "                                <td></td>                                   <th>coef</th>     <th>std err</th>      <th>z</th>      <th>P>|z|</th>  <th>[0.025</th>    <th>0.975]</th>  \n",
       "</tr>\n",
       "<tr>\n",
       "  <th>Intercept</th>                                                     <td>    0.9878</td> <td>    0.275</td> <td>    3.593</td> <td> 0.000</td> <td>    0.449</td> <td>    1.527</td>\n",
       "</tr>\n",
       "<tr>\n",
       "  <th>C(race, Treatment(\"white\"))[T.black]</th>                          <td>   -0.1607</td> <td>    0.024</td> <td>   -6.663</td> <td> 0.000</td> <td>   -0.208</td> <td>   -0.113</td>\n",
       "</tr>\n",
       "<tr>\n",
       "  <th>C(race, Treatment(\"white\"))[T.indian]</th>                         <td>    0.0680</td> <td>    0.110</td> <td>    0.620</td> <td> 0.535</td> <td>   -0.147</td> <td>    0.283</td>\n",
       "</tr>\n",
       "<tr>\n",
       "  <th>C(race, Treatment(\"white\"))[T.zasian]</th>                         <td>    0.0094</td> <td>    0.053</td> <td>    0.179</td> <td> 0.858</td> <td>   -0.094</td> <td>    0.113</td>\n",
       "</tr>\n",
       "<tr>\n",
       "  <th>ishispanic[T.True]</th>                                            <td>   -0.0967</td> <td>    0.028</td> <td>   -3.508</td> <td> 0.000</td> <td>   -0.151</td> <td>   -0.043</td>\n",
       "</tr>\n",
       "<tr>\n",
       "  <th>C(currentrelationshipstatus, Treatment(\"single\"))[T.cohabit]</th>  <td>   -0.0200</td> <td>    0.036</td> <td>   -0.556</td> <td> 0.578</td> <td>   -0.090</td> <td>    0.050</td>\n",
       "</tr>\n",
       "<tr>\n",
       "  <th>C(currentrelationshipstatus, Treatment(\"single\"))[T.dating]</th>   <td>    0.0556</td> <td>    0.032</td> <td>    1.717</td> <td> 0.086</td> <td>   -0.008</td> <td>    0.119</td>\n",
       "</tr>\n",
       "<tr>\n",
       "  <th>C(currentrelationshipstatus, Treatment(\"single\"))[T.married]</th>  <td>   -0.1063</td> <td>    0.034</td> <td>   -3.097</td> <td> 0.002</td> <td>   -0.174</td> <td>   -0.039</td>\n",
       "</tr>\n",
       "<tr>\n",
       "  <th>C(currentrelationshipstatus, Treatment(\"single\"))[T.pregnant]</th> <td>   -0.0197</td> <td>    0.099</td> <td>   -0.199</td> <td> 0.842</td> <td>   -0.213</td> <td>    0.174</td>\n",
       "</tr>\n",
       "<tr>\n",
       "  <th>income</th>                                                        <td> 6.721e-07</td> <td> 1.93e-07</td> <td>    3.476</td> <td> 0.001</td> <td> 2.93e-07</td> <td> 1.05e-06</td>\n",
       "</tr>\n",
       "<tr>\n",
       "  <th>education</th>                                                     <td>    0.0414</td> <td>    0.004</td> <td>   10.189</td> <td> 0.000</td> <td>    0.033</td> <td>    0.049</td>\n",
       "</tr>\n",
       "<tr>\n",
       "  <th>gregarious</th>                                                    <td>   -0.0944</td> <td>    0.009</td> <td>  -10.703</td> <td> 0.000</td> <td>   -0.112</td> <td>   -0.077</td>\n",
       "</tr>\n",
       "<tr>\n",
       "  <th>background</th>                                                    <td>    0.0713</td> <td>    0.010</td> <td>    7.240</td> <td> 0.000</td> <td>    0.052</td> <td>    0.091</td>\n",
       "</tr>\n",
       "<tr>\n",
       "  <th>height</th>                                                        <td>    0.0022</td> <td>    0.001</td> <td>    1.911</td> <td> 0.056</td> <td>-5.69e-05</td> <td>    0.005</td>\n",
       "</tr>\n",
       "<tr>\n",
       "  <th>fetusdeaths</th>                                                   <td>   -0.0179</td> <td>    0.010</td> <td>   -1.878</td> <td> 0.060</td> <td>   -0.037</td> <td>    0.001</td>\n",
       "</tr>\n",
       "<tr>\n",
       "  <th>births</th>                                                        <td>   -0.0495</td> <td>    0.008</td> <td>   -5.858</td> <td> 0.000</td> <td>   -0.066</td> <td>   -0.033</td>\n",
       "</tr>\n",
       "<tr>\n",
       "  <th>age</th>                                                           <td>    0.0025</td> <td>    0.005</td> <td>    0.528</td> <td> 0.597</td> <td>   -0.007</td> <td>    0.012</td>\n",
       "</tr>\n",
       "<tr>\n",
       "  <th>gender</th>                                                        <td>   -0.0392</td> <td>    0.024</td> <td>   -1.641</td> <td> 0.101</td> <td>   -0.086</td> <td>    0.008</td>\n",
       "</tr>\n",
       "<tr>\n",
       "  <th>currentrelationshipstatus[cohabit]:currentrelationshipyears</th>   <td>   -0.0029</td> <td>    0.006</td> <td>   -0.478</td> <td> 0.632</td> <td>   -0.015</td> <td>    0.009</td>\n",
       "</tr>\n",
       "<tr>\n",
       "  <th>currentrelationshipstatus[dating]:currentrelationshipyears</th>    <td>   -0.0198</td> <td>    0.011</td> <td>   -1.792</td> <td> 0.073</td> <td>   -0.041</td> <td>    0.002</td>\n",
       "</tr>\n",
       "<tr>\n",
       "  <th>currentrelationshipstatus[married]:currentrelationshipyears</th>   <td>    0.0089</td> <td>    0.004</td> <td>    2.461</td> <td> 0.014</td> <td>    0.002</td> <td>    0.016</td>\n",
       "</tr>\n",
       "<tr>\n",
       "  <th>currentrelationshipstatus[pregnant]:currentrelationshipyears</th>  <td>   -0.0027</td> <td>    0.017</td> <td>   -0.156</td> <td> 0.876</td> <td>   -0.036</td> <td>    0.031</td>\n",
       "</tr>\n",
       "<tr>\n",
       "  <th>currentrelationshipstatus[single]:currentrelationshipyears</th>    <td>         0</td> <td>        0</td> <td>      nan</td> <td>   nan</td> <td>        0</td> <td>        0</td>\n",
       "</tr>\n",
       "</table>"
      ],
      "text/plain": [
       "<class 'statsmodels.iolib.summary.Summary'>\n",
       "\"\"\"\n",
       "                 Generalized Linear Model Regression Results                  \n",
       "==============================================================================\n",
       "Dep. Variable:               nfriends   No. Observations:                 5061\n",
       "Model:                            GLM   Df Residuals:                     5039\n",
       "Model Family:        NegativeBinomial   Df Model:                           21\n",
       "Link Function:                    log   Scale:                  0.284457822804\n",
       "Method:                          IRLS   Log-Likelihood:                -13267.\n",
       "Date:                Tue, 19 Dec 2017   Deviance:                       1714.3\n",
       "Time:                        18:57:48   Pearson chi2:                 1.43e+03\n",
       "No. Iterations:                     6                                         \n",
       "=================================================================================================================================\n",
       "                                                                    coef    std err          z      P>|z|      [0.025      0.975]\n",
       "---------------------------------------------------------------------------------------------------------------------------------\n",
       "Intercept                                                         0.9878      0.275      3.593      0.000       0.449       1.527\n",
       "C(race, Treatment(\"white\"))[T.black]                             -0.1607      0.024     -6.663      0.000      -0.208      -0.113\n",
       "C(race, Treatment(\"white\"))[T.indian]                             0.0680      0.110      0.620      0.535      -0.147       0.283\n",
       "C(race, Treatment(\"white\"))[T.zasian]                             0.0094      0.053      0.179      0.858      -0.094       0.113\n",
       "ishispanic[T.True]                                               -0.0967      0.028     -3.508      0.000      -0.151      -0.043\n",
       "C(currentrelationshipstatus, Treatment(\"single\"))[T.cohabit]     -0.0200      0.036     -0.556      0.578      -0.090       0.050\n",
       "C(currentrelationshipstatus, Treatment(\"single\"))[T.dating]       0.0556      0.032      1.717      0.086      -0.008       0.119\n",
       "C(currentrelationshipstatus, Treatment(\"single\"))[T.married]     -0.1063      0.034     -3.097      0.002      -0.174      -0.039\n",
       "C(currentrelationshipstatus, Treatment(\"single\"))[T.pregnant]    -0.0197      0.099     -0.199      0.842      -0.213       0.174\n",
       "income                                                         6.721e-07   1.93e-07      3.476      0.001    2.93e-07    1.05e-06\n",
       "education                                                         0.0414      0.004     10.189      0.000       0.033       0.049\n",
       "gregarious                                                       -0.0944      0.009    -10.703      0.000      -0.112      -0.077\n",
       "background                                                        0.0713      0.010      7.240      0.000       0.052       0.091\n",
       "height                                                            0.0022      0.001      1.911      0.056   -5.69e-05       0.005\n",
       "fetusdeaths                                                      -0.0179      0.010     -1.878      0.060      -0.037       0.001\n",
       "births                                                           -0.0495      0.008     -5.858      0.000      -0.066      -0.033\n",
       "age                                                               0.0025      0.005      0.528      0.597      -0.007       0.012\n",
       "gender                                                           -0.0392      0.024     -1.641      0.101      -0.086       0.008\n",
       "currentrelationshipstatus[cohabit]:currentrelationshipyears      -0.0029      0.006     -0.478      0.632      -0.015       0.009\n",
       "currentrelationshipstatus[dating]:currentrelationshipyears       -0.0198      0.011     -1.792      0.073      -0.041       0.002\n",
       "currentrelationshipstatus[married]:currentrelationshipyears       0.0089      0.004      2.461      0.014       0.002       0.016\n",
       "currentrelationshipstatus[pregnant]:currentrelationshipyears     -0.0027      0.017     -0.156      0.876      -0.036       0.031\n",
       "currentrelationshipstatus[single]:currentrelationshipyears             0          0        nan        nan           0           0\n",
       "=================================================================================================================================\n",
       "\"\"\""
      ]
     },
     "execution_count": 923,
     "metadata": {},
     "output_type": "execute_result"
    }
   ],
   "source": [
    "from statsmodels.formula.api import glm\n",
    "model = glm('nfriends ~ income + education + gregarious + background + height + fetusdeaths + births  \\\n",
    "            + age + gender + C(race,Treatment(\"white\")) + ishispanic + C(currentrelationshipstatus,Treatment(\"single\")) \\\n",
    "            + currentrelationshipstatus:currentrelationshipyears',\n",
    "            \n",
    "               family=sm.families.NegativeBinomial(),\n",
    "               freq_weights=c.freq_weights,\n",
    "           data=c) \n",
    "results = model.fit()\n",
    "results.summary()"
   ]
  },
  {
   "cell_type": "code",
   "execution_count": 942,
   "metadata": {},
   "outputs": [
    {
     "name": "stderr",
     "output_type": "stream",
     "text": [
      "C:\\Users\\WeiZhong\\Anaconda3\\lib\\site-packages\\statsmodels\\stats\\multitest.py:157: RuntimeWarning: invalid value encountered in greater\n",
      "  notreject = pvals > alphacSidak_all\n",
      "C:\\Users\\WeiZhong\\Anaconda3\\lib\\site-packages\\statsmodels\\stats\\multitest.py:251: RuntimeWarning: invalid value encountered in greater\n",
      "  pvals_corrected[pvals_corrected>1] = 1\n"
     ]
    },
    {
     "data": {
      "text/plain": [
       "C(race, Treatment(\"white\"))[T.black]                            0.851509\n",
       "ishispanic[T.True]                                              0.907784\n",
       "C(currentrelationshipstatus, Treatment(\"single\"))[T.married]    0.899118\n",
       "income                                                          1.000001\n",
       "education                                                       1.042282\n",
       "gregarious                                                      0.909956\n",
       "background                                                      1.073874\n",
       "births                                                          0.951703\n",
       "dtype: float64"
      ]
     },
     "execution_count": 942,
     "metadata": {},
     "output_type": "execute_result"
    }
   ],
   "source": [
    "(results.params[1:])"
   ]
  },
  {
   "cell_type": "code",
   "execution_count": 972,
   "metadata": {},
   "outputs": [
    {
     "data": {
      "text/html": [
       "<div>\n",
       "<style>\n",
       "    .dataframe thead tr:only-child th {\n",
       "        text-align: right;\n",
       "    }\n",
       "\n",
       "    .dataframe thead th {\n",
       "        text-align: left;\n",
       "    }\n",
       "\n",
       "    .dataframe tbody tr th {\n",
       "        vertical-align: top;\n",
       "    }\n",
       "</style>\n",
       "<table border=\"1\" class=\"dataframe\">\n",
       "  <thead>\n",
       "    <tr style=\"text-align: right;\">\n",
       "      <th></th>\n",
       "      <th>0.025</th>\n",
       "      <th>0.975</th>\n",
       "    </tr>\n",
       "  </thead>\n",
       "  <tbody>\n",
       "    <tr>\n",
       "      <th>income</th>\n",
       "      <td>1.002936</td>\n",
       "      <td>1.010566</td>\n",
       "    </tr>\n",
       "  </tbody>\n",
       "</table>\n",
       "</div>"
      ],
      "text/plain": [
       "           0.025     0.975\n",
       "income  1.002936  1.010566"
      ]
     },
     "execution_count": 972,
     "metadata": {},
     "output_type": "execute_result"
    }
   ],
   "source": [
    "pd.DataFrame(results.conf_int().loc['income']*10000).apply(np.exp).rename(index={0: 0.025, 1: 0.975}).T"
   ]
  },
  {
   "cell_type": "code",
   "execution_count": 995,
   "metadata": {},
   "outputs": [
    {
     "name": "stderr",
     "output_type": "stream",
     "text": [
      "C:\\Users\\WeiZhong\\Anaconda3\\lib\\site-packages\\statsmodels\\stats\\multitest.py:157: RuntimeWarning: invalid value encountered in greater\n",
      "  notreject = pvals > alphacSidak_all\n",
      "C:\\Users\\WeiZhong\\Anaconda3\\lib\\site-packages\\statsmodels\\stats\\multitest.py:251: RuntimeWarning: invalid value encountered in greater\n",
      "  pvals_corrected[pvals_corrected>1] = 1\n"
     ]
    }
   ],
   "source": [
    "quantiles = results.conf_int()[multipletests(results.pvalues)[0]].apply(np.exp).rename(columns={0: 0.025, 1: 0.975})[1:]\n",
    "quantiles.drop('income',inplace=True)\n",
    "quantiles = pd.concat([pd.DataFrame(results.conf_int().loc['income']*10000).apply(np.exp).rename(index={0: 0.025, 1: 0.975}).T, quantiles])\n",
    "mean_with_quantiles = pd.concat([pd.DataFrame(results.params[multipletests(results.pvalues)[0]].apply(np.exp)[1:], columns=['mean']), quantiles], axis=1)\n",
    "mean_with_quantiles.loc['income']['mean'] = np.exp(results.params['income']*10000)\n",
    "mean_with_quantiles.loc['gregarious'][['mean', 0.025, 0.975]] = 1/mean_with_quantiles.loc['gregarious'][['mean', 0.025, 0.975]]\n",
    "\n",
    "mean_with_quantiles = mean_with_quantiles.rename(\n",
    "                    index={'C(currentrelationshipstatus, Treatment(\"single\"))[T.married]': 'being married instead of single',\n",
    "                           'C(race, Treatment(\"white\"))[T.black]': 'being Black instead of White',\n",
    "                          'background': 'one-point increase in disagreeing with \\n\"I keep in the background\"',\n",
    "                          'births': 'every child',\n",
    "                          'education': 'one-point increase in educational attainment (see caption)',\n",
    "                          'gregarious': 'one-point increase in agreeing with \\n\"I talk to a lot of different people at parties\"',\n",
    "                          'income': '10k increase in yearly income',\n",
    "                          'ishispanic[T.True]': 'being Hispanic'}).sort_values(by='mean',ascending=False)\n",
    "\n",
    "\n",
    "mean_with_quantiles['lowerror'] = mean_with_quantiles['mean'] - mean_with_quantiles[0.025]\n",
    "mean_with_quantiles['higherror'] = mean_with_quantiles[0.975] - mean_with_quantiles['mean'] "
   ]
  },
  {
   "cell_type": "code",
   "execution_count": 1002,
   "metadata": {},
   "outputs": [
    {
     "data": {
      "image/png": "[encoded data removed]",
      "text/plain": [
       "<matplotlib.figure.Figure at 0x2200f737470>"
      ]
     },
     "metadata": {},
     "output_type": "display_data"
    }
   ],
   "source": [
    "plt.figure()\n",
    "change = (mean_with_quantiles['mean'] - 1)*100\n",
    "#change.loc['one-point decrease in agreeing with \"I talk to a lot of different people at parties\"'] = - change.loc['one-point decrease in agreeing with \"I talk to a lot of different people at parties\"']\n",
    "ax = change.plot.barh(xerr=[(100*mean_with_quantiles[['lowerror', 'higherror']]).values.T], capsize=4, width=0.8, color='skyblue')#, capsize=4, width=0.8, color='#98cc86')\n",
    "ax.set_axisbelow(True)\n",
    "ax.xaxis.set_major_locator(plticker.MultipleLocator(base=5))\n",
    "ax.grid()\n",
    "plt.title('Change in expected number of close friends for \\neach significant predictor in final negative binomial regression')\n",
    "plt.xlabel('Change in expected number of close friends (%)')\n",
    "ax.invert_yaxis()\n",
    "plt.savefig('F2 Change in expected number of close friends.pdf', bbox_inches='tight')\n",
    "plt.show()"
   ]
  },
  {
   "cell_type": "code",
   "execution_count": 924,
   "metadata": {},
   "outputs": [
    {
     "name": "stderr",
     "output_type": "stream",
     "text": [
      "C:\\Users\\WeiZhong\\Anaconda3\\lib\\site-packages\\statsmodels\\stats\\multitest.py:157: RuntimeWarning: invalid value encountered in greater\n",
      "  notreject = pvals > alphacSidak_all\n",
      "C:\\Users\\WeiZhong\\Anaconda3\\lib\\site-packages\\statsmodels\\stats\\multitest.py:251: RuntimeWarning: invalid value encountered in greater\n",
      "  pvals_corrected[pvals_corrected>1] = 1\n"
     ]
    },
    {
     "data": {
      "text/html": [
       "<div>\n",
       "<style>\n",
       "    .dataframe thead tr:only-child th {\n",
       "        text-align: right;\n",
       "    }\n",
       "\n",
       "    .dataframe thead th {\n",
       "        text-align: left;\n",
       "    }\n",
       "\n",
       "    .dataframe tbody tr th {\n",
       "        vertical-align: top;\n",
       "    }\n",
       "</style>\n",
       "<table border=\"1\" class=\"dataframe\">\n",
       "  <thead>\n",
       "    <tr style=\"text-align: right;\">\n",
       "      <th></th>\n",
       "      <th>0</th>\n",
       "      <th>1</th>\n",
       "    </tr>\n",
       "  </thead>\n",
       "  <tbody>\n",
       "    <tr>\n",
       "      <th>C(race, Treatment(\"white\"))[T.black]</th>\n",
       "      <td>1.0</td>\n",
       "      <td>5.087297e-10</td>\n",
       "    </tr>\n",
       "    <tr>\n",
       "      <th>C(race, Treatment(\"white\"))[T.indian]</th>\n",
       "      <td>0.0</td>\n",
       "      <td>9.978235e-01</td>\n",
       "    </tr>\n",
       "    <tr>\n",
       "      <th>C(race, Treatment(\"white\"))[T.zasian]</th>\n",
       "      <td>0.0</td>\n",
       "      <td>9.993748e-01</td>\n",
       "    </tr>\n",
       "    <tr>\n",
       "      <th>ishispanic[T.True]</th>\n",
       "      <td>1.0</td>\n",
       "      <td>7.648744e-03</td>\n",
       "    </tr>\n",
       "    <tr>\n",
       "      <th>C(currentrelationshipstatus, Treatment(\"single\"))[T.cohabit]</th>\n",
       "      <td>0.0</td>\n",
       "      <td>9.978235e-01</td>\n",
       "    </tr>\n",
       "    <tr>\n",
       "      <th>C(currentrelationshipstatus, Treatment(\"single\"))[T.dating]</th>\n",
       "      <td>0.0</td>\n",
       "      <td>5.927994e-01</td>\n",
       "    </tr>\n",
       "    <tr>\n",
       "      <th>C(currentrelationshipstatus, Treatment(\"single\"))[T.married]</th>\n",
       "      <td>1.0</td>\n",
       "      <td>2.887816e-02</td>\n",
       "    </tr>\n",
       "    <tr>\n",
       "      <th>C(currentrelationshipstatus, Treatment(\"single\"))[T.pregnant]</th>\n",
       "      <td>0.0</td>\n",
       "      <td>9.993748e-01</td>\n",
       "    </tr>\n",
       "    <tr>\n",
       "      <th>income</th>\n",
       "      <td>1.0</td>\n",
       "      <td>8.101788e-03</td>\n",
       "    </tr>\n",
       "    <tr>\n",
       "      <th>education</th>\n",
       "      <td>1.0</td>\n",
       "      <td>0.000000e+00</td>\n",
       "    </tr>\n",
       "    <tr>\n",
       "      <th>gregarious</th>\n",
       "      <td>1.0</td>\n",
       "      <td>0.000000e+00</td>\n",
       "    </tr>\n",
       "    <tr>\n",
       "      <th>background</th>\n",
       "      <td>1.0</td>\n",
       "      <td>8.986145e-12</td>\n",
       "    </tr>\n",
       "    <tr>\n",
       "      <th>height</th>\n",
       "      <td>0.0</td>\n",
       "      <td>5.268954e-01</td>\n",
       "    </tr>\n",
       "    <tr>\n",
       "      <th>fetusdeaths</th>\n",
       "      <td>0.0</td>\n",
       "      <td>5.268954e-01</td>\n",
       "    </tr>\n",
       "    <tr>\n",
       "      <th>births</th>\n",
       "      <td>1.0</td>\n",
       "      <td>8.431365e-08</td>\n",
       "    </tr>\n",
       "    <tr>\n",
       "      <th>age</th>\n",
       "      <td>0.0</td>\n",
       "      <td>9.978235e-01</td>\n",
       "    </tr>\n",
       "    <tr>\n",
       "      <th>gender</th>\n",
       "      <td>0.0</td>\n",
       "      <td>6.160124e-01</td>\n",
       "    </tr>\n",
       "    <tr>\n",
       "      <th>currentrelationshipstatus[cohabit]:currentrelationshipyears</th>\n",
       "      <td>0.0</td>\n",
       "      <td>9.978235e-01</td>\n",
       "    </tr>\n",
       "    <tr>\n",
       "      <th>currentrelationshipstatus[dating]:currentrelationshipyears</th>\n",
       "      <td>0.0</td>\n",
       "      <td>5.666463e-01</td>\n",
       "    </tr>\n",
       "    <tr>\n",
       "      <th>currentrelationshipstatus[married]:currentrelationshipyears</th>\n",
       "      <td>0.0</td>\n",
       "      <td>1.773310e-01</td>\n",
       "    </tr>\n",
       "    <tr>\n",
       "      <th>currentrelationshipstatus[pregnant]:currentrelationshipyears</th>\n",
       "      <td>0.0</td>\n",
       "      <td>9.993748e-01</td>\n",
       "    </tr>\n",
       "    <tr>\n",
       "      <th>currentrelationshipstatus[single]:currentrelationshipyears</th>\n",
       "      <td>0.0</td>\n",
       "      <td>NaN</td>\n",
       "    </tr>\n",
       "  </tbody>\n",
       "</table>\n",
       "</div>"
      ],
      "text/plain": [
       "                                                      0             1\n",
       "C(race, Treatment(\"white\"))[T.black]                1.0  5.087297e-10\n",
       "C(race, Treatment(\"white\"))[T.indian]               0.0  9.978235e-01\n",
       "C(race, Treatment(\"white\"))[T.zasian]               0.0  9.993748e-01\n",
       "ishispanic[T.True]                                  1.0  7.648744e-03\n",
       "C(currentrelationshipstatus, Treatment(\"single\"...  0.0  9.978235e-01\n",
       "C(currentrelationshipstatus, Treatment(\"single\"...  0.0  5.927994e-01\n",
       "C(currentrelationshipstatus, Treatment(\"single\"...  1.0  2.887816e-02\n",
       "C(currentrelationshipstatus, Treatment(\"single\"...  0.0  9.993748e-01\n",
       "income                                              1.0  8.101788e-03\n",
       "education                                           1.0  0.000000e+00\n",
       "gregarious                                          1.0  0.000000e+00\n",
       "background                                          1.0  8.986145e-12\n",
       "height                                              0.0  5.268954e-01\n",
       "fetusdeaths                                         0.0  5.268954e-01\n",
       "births                                              1.0  8.431365e-08\n",
       "age                                                 0.0  9.978235e-01\n",
       "gender                                              0.0  6.160124e-01\n",
       "currentrelationshipstatus[cohabit]:currentrelat...  0.0  9.978235e-01\n",
       "currentrelationshipstatus[dating]:currentrelati...  0.0  5.666463e-01\n",
       "currentrelationshipstatus[married]:currentrelat...  0.0  1.773310e-01\n",
       "currentrelationshipstatus[pregnant]:currentrela...  0.0  9.993748e-01\n",
       "currentrelationshipstatus[single]:currentrelati...  0.0           NaN"
      ]
     },
     "execution_count": 924,
     "metadata": {},
     "output_type": "execute_result"
    }
   ],
   "source": [
    "pd.DataFrame(np.transpose([multipletests(results.pvalues[1:])[0], multipletests(results.pvalues[1:])[1]]),\n",
    "             index=results.params.index[1:])"
   ]
  },
  {
   "cell_type": "code",
   "execution_count": 925,
   "metadata": {},
   "outputs": [
    {
     "name": "stderr",
     "output_type": "stream",
     "text": [
      "C:\\Users\\WeiZhong\\Anaconda3\\lib\\site-packages\\statsmodels\\base\\model.py:1036: RuntimeWarning: invalid value encountered in true_divide\n",
      "  return self.params / self.bse\n",
      "C:\\Users\\WeiZhong\\Anaconda3\\lib\\site-packages\\scipy\\stats\\_distn_infrastructure.py:879: RuntimeWarning: invalid value encountered in greater\n",
      "  return (self.a < x) & (x < self.b)\n",
      "C:\\Users\\WeiZhong\\Anaconda3\\lib\\site-packages\\scipy\\stats\\_distn_infrastructure.py:879: RuntimeWarning: invalid value encountered in less\n",
      "  return (self.a < x) & (x < self.b)\n",
      "C:\\Users\\WeiZhong\\Anaconda3\\lib\\site-packages\\scipy\\stats\\_distn_infrastructure.py:1818: RuntimeWarning: invalid value encountered in less_equal\n",
      "  cond2 = cond0 & (x <= self.a)\n"
     ]
    },
    {
     "data": {
      "text/html": [
       "<table class=\"simpletable\">\n",
       "<caption>Generalized Linear Model Regression Results</caption>\n",
       "<tr>\n",
       "  <th>Dep. Variable:</th>      <td>nfriends</td>     <th>  No. Observations:  </th>     <td>  2492</td>    \n",
       "</tr>\n",
       "<tr>\n",
       "  <th>Model:</th>                 <td>GLM</td>       <th>  Df Residuals:      </th>     <td>  2470</td>    \n",
       "</tr>\n",
       "<tr>\n",
       "  <th>Model Family:</th>   <td>NegativeBinomial</td> <th>  Df Model:          </th>     <td>    21</td>    \n",
       "</tr>\n",
       "<tr>\n",
       "  <th>Link Function:</th>         <td>log</td>       <th>  Scale:             </th> <td>0.325663037075</td>\n",
       "</tr>\n",
       "<tr>\n",
       "  <th>Method:</th>               <td>IRLS</td>       <th>  Log-Likelihood:    </th>    <td> -6270.4</td>   \n",
       "</tr>\n",
       "<tr>\n",
       "  <th>Date:</th>           <td>Tue, 19 Dec 2017</td> <th>  Deviance:          </th>    <td>  925.95</td>   \n",
       "</tr>\n",
       "<tr>\n",
       "  <th>Time:</th>               <td>19:08:18</td>     <th>  Pearson chi2:      </th>     <td>  805.</td>    \n",
       "</tr>\n",
       "<tr>\n",
       "  <th>No. Iterations:</th>         <td>6</td>        <th>                     </th>        <td> </td>      \n",
       "</tr>\n",
       "</table>\n",
       "<table class=\"simpletable\">\n",
       "<tr>\n",
       "                                <td></td>                                   <th>coef</th>     <th>std err</th>      <th>z</th>      <th>P>|z|</th>  <th>[0.025</th>    <th>0.975]</th>  \n",
       "</tr>\n",
       "<tr>\n",
       "  <th>Intercept</th>                                                     <td>    1.0258</td> <td>    0.243</td> <td>    4.227</td> <td> 0.000</td> <td>    0.550</td> <td>    1.502</td>\n",
       "</tr>\n",
       "<tr>\n",
       "  <th>C(race, Treatment(\"white\"))[T.black]</th>                          <td>   -0.1231</td> <td>    0.036</td> <td>   -3.466</td> <td> 0.001</td> <td>   -0.193</td> <td>   -0.053</td>\n",
       "</tr>\n",
       "<tr>\n",
       "  <th>C(race, Treatment(\"white\"))[T.indian]</th>                         <td>    0.0668</td> <td>    0.160</td> <td>    0.418</td> <td> 0.676</td> <td>   -0.247</td> <td>    0.381</td>\n",
       "</tr>\n",
       "<tr>\n",
       "  <th>C(race, Treatment(\"white\"))[T.zasian]</th>                         <td>   -0.0484</td> <td>    0.097</td> <td>   -0.497</td> <td> 0.619</td> <td>   -0.239</td> <td>    0.143</td>\n",
       "</tr>\n",
       "<tr>\n",
       "  <th>ishispanic[T.True]</th>                                            <td>   -0.0551</td> <td>    0.042</td> <td>   -1.313</td> <td> 0.189</td> <td>   -0.137</td> <td>    0.027</td>\n",
       "</tr>\n",
       "<tr>\n",
       "  <th>C(currentrelationshipstatus, Treatment(\"single\"))[T.cohabit]</th>  <td>   -0.0457</td> <td>    0.062</td> <td>   -0.740</td> <td> 0.459</td> <td>   -0.167</td> <td>    0.075</td>\n",
       "</tr>\n",
       "<tr>\n",
       "  <th>C(currentrelationshipstatus, Treatment(\"single\"))[T.dating]</th>   <td>    0.0702</td> <td>    0.068</td> <td>    1.029</td> <td> 0.303</td> <td>   -0.064</td> <td>    0.204</td>\n",
       "</tr>\n",
       "<tr>\n",
       "  <th>C(currentrelationshipstatus, Treatment(\"single\"))[T.married]</th>  <td>   -0.1071</td> <td>    0.056</td> <td>   -1.913</td> <td> 0.056</td> <td>   -0.217</td> <td>    0.003</td>\n",
       "</tr>\n",
       "<tr>\n",
       "  <th>C(currentrelationshipstatus, Treatment(\"single\"))[T.pregnant]</th> <td>    0.0505</td> <td>    0.148</td> <td>    0.342</td> <td> 0.732</td> <td>   -0.239</td> <td>    0.340</td>\n",
       "</tr>\n",
       "<tr>\n",
       "  <th>income</th>                                                        <td> 1.365e-06</td> <td> 4.25e-07</td> <td>    3.208</td> <td> 0.001</td> <td> 5.31e-07</td> <td>  2.2e-06</td>\n",
       "</tr>\n",
       "<tr>\n",
       "  <th>education</th>                                                     <td>    0.0368</td> <td>    0.007</td> <td>    5.264</td> <td> 0.000</td> <td>    0.023</td> <td>    0.051</td>\n",
       "</tr>\n",
       "<tr>\n",
       "  <th>gregarious</th>                                                    <td>   -0.1116</td> <td>    0.013</td> <td>   -8.344</td> <td> 0.000</td> <td>   -0.138</td> <td>   -0.085</td>\n",
       "</tr>\n",
       "<tr>\n",
       "  <th>background</th>                                                    <td>    0.0703</td> <td>    0.015</td> <td>    4.588</td> <td> 0.000</td> <td>    0.040</td> <td>    0.100</td>\n",
       "</tr>\n",
       "<tr>\n",
       "  <th>fetusdeaths</th>                                                   <td>   -0.0073</td> <td>    0.014</td> <td>   -0.535</td> <td> 0.593</td> <td>   -0.034</td> <td>    0.019</td>\n",
       "</tr>\n",
       "<tr>\n",
       "  <th>births</th>                                                        <td>   -0.0260</td> <td>    0.015</td> <td>   -1.790</td> <td> 0.073</td> <td>   -0.055</td> <td>    0.002</td>\n",
       "</tr>\n",
       "<tr>\n",
       "  <th>age</th>                                                           <td>    0.0147</td> <td>    0.008</td> <td>    1.898</td> <td> 0.058</td> <td>   -0.000</td> <td>    0.030</td>\n",
       "</tr>\n",
       "<tr>\n",
       "  <th>gender</th>                                                        <td>   -0.0438</td> <td>    0.028</td> <td>   -1.556</td> <td> 0.120</td> <td>   -0.099</td> <td>    0.011</td>\n",
       "</tr>\n",
       "<tr>\n",
       "  <th>youngestchildage</th>                                              <td>   -0.0140</td> <td>    0.005</td> <td>   -2.886</td> <td> 0.004</td> <td>   -0.024</td> <td>   -0.004</td>\n",
       "</tr>\n",
       "<tr>\n",
       "  <th>currentrelationshipstatus[cohabit]:currentrelationshipyears</th>   <td>    0.0031</td> <td>    0.009</td> <td>    0.368</td> <td> 0.713</td> <td>   -0.014</td> <td>    0.020</td>\n",
       "</tr>\n",
       "<tr>\n",
       "  <th>currentrelationshipstatus[dating]:currentrelationshipyears</th>    <td>   -0.0837</td> <td>    0.025</td> <td>   -3.369</td> <td> 0.001</td> <td>   -0.132</td> <td>   -0.035</td>\n",
       "</tr>\n",
       "<tr>\n",
       "  <th>currentrelationshipstatus[married]:currentrelationshipyears</th>   <td>    0.0108</td> <td>    0.005</td> <td>    2.253</td> <td> 0.024</td> <td>    0.001</td> <td>    0.020</td>\n",
       "</tr>\n",
       "<tr>\n",
       "  <th>currentrelationshipstatus[pregnant]:currentrelationshipyears</th>  <td>    0.0032</td> <td>    0.024</td> <td>    0.137</td> <td> 0.891</td> <td>   -0.043</td> <td>    0.050</td>\n",
       "</tr>\n",
       "<tr>\n",
       "  <th>currentrelationshipstatus[single]:currentrelationshipyears</th>    <td>         0</td> <td>        0</td> <td>      nan</td> <td>   nan</td> <td>        0</td> <td>        0</td>\n",
       "</tr>\n",
       "</table>"
      ],
      "text/plain": [
       "<class 'statsmodels.iolib.summary.Summary'>\n",
       "\"\"\"\n",
       "                 Generalized Linear Model Regression Results                  \n",
       "==============================================================================\n",
       "Dep. Variable:               nfriends   No. Observations:                 2492\n",
       "Model:                            GLM   Df Residuals:                     2470\n",
       "Model Family:        NegativeBinomial   Df Model:                           21\n",
       "Link Function:                    log   Scale:                  0.325663037075\n",
       "Method:                          IRLS   Log-Likelihood:                -6270.4\n",
       "Date:                Tue, 19 Dec 2017   Deviance:                       925.95\n",
       "Time:                        19:08:18   Pearson chi2:                     805.\n",
       "No. Iterations:                     6                                         \n",
       "=================================================================================================================================\n",
       "                                                                    coef    std err          z      P>|z|      [0.025      0.975]\n",
       "---------------------------------------------------------------------------------------------------------------------------------\n",
       "Intercept                                                         1.0258      0.243      4.227      0.000       0.550       1.502\n",
       "C(race, Treatment(\"white\"))[T.black]                             -0.1231      0.036     -3.466      0.001      -0.193      -0.053\n",
       "C(race, Treatment(\"white\"))[T.indian]                             0.0668      0.160      0.418      0.676      -0.247       0.381\n",
       "C(race, Treatment(\"white\"))[T.zasian]                            -0.0484      0.097     -0.497      0.619      -0.239       0.143\n",
       "ishispanic[T.True]                                               -0.0551      0.042     -1.313      0.189      -0.137       0.027\n",
       "C(currentrelationshipstatus, Treatment(\"single\"))[T.cohabit]     -0.0457      0.062     -0.740      0.459      -0.167       0.075\n",
       "C(currentrelationshipstatus, Treatment(\"single\"))[T.dating]       0.0702      0.068      1.029      0.303      -0.064       0.204\n",
       "C(currentrelationshipstatus, Treatment(\"single\"))[T.married]     -0.1071      0.056     -1.913      0.056      -0.217       0.003\n",
       "C(currentrelationshipstatus, Treatment(\"single\"))[T.pregnant]     0.0505      0.148      0.342      0.732      -0.239       0.340\n",
       "income                                                         1.365e-06   4.25e-07      3.208      0.001    5.31e-07     2.2e-06\n",
       "education                                                         0.0368      0.007      5.264      0.000       0.023       0.051\n",
       "gregarious                                                       -0.1116      0.013     -8.344      0.000      -0.138      -0.085\n",
       "background                                                        0.0703      0.015      4.588      0.000       0.040       0.100\n",
       "fetusdeaths                                                      -0.0073      0.014     -0.535      0.593      -0.034       0.019\n",
       "births                                                           -0.0260      0.015     -1.790      0.073      -0.055       0.002\n",
       "age                                                               0.0147      0.008      1.898      0.058      -0.000       0.030\n",
       "gender                                                           -0.0438      0.028     -1.556      0.120      -0.099       0.011\n",
       "youngestchildage                                                 -0.0140      0.005     -2.886      0.004      -0.024      -0.004\n",
       "currentrelationshipstatus[cohabit]:currentrelationshipyears       0.0031      0.009      0.368      0.713      -0.014       0.020\n",
       "currentrelationshipstatus[dating]:currentrelationshipyears       -0.0837      0.025     -3.369      0.001      -0.132      -0.035\n",
       "currentrelationshipstatus[married]:currentrelationshipyears       0.0108      0.005      2.253      0.024       0.001       0.020\n",
       "currentrelationshipstatus[pregnant]:currentrelationshipyears      0.0032      0.024      0.137      0.891      -0.043       0.050\n",
       "currentrelationshipstatus[single]:currentrelationshipyears             0          0        nan        nan           0           0\n",
       "=================================================================================================================================\n",
       "\"\"\""
      ]
     },
     "execution_count": 925,
     "metadata": {},
     "output_type": "execute_result"
    }
   ],
   "source": [
    "from statsmodels.formula.api import glm\n",
    "model2 = glm('nfriends ~ income + education + gregarious + background + fetusdeaths + births\\\n",
    "            + age + gender + C(race,Treatment(\"white\")) + youngestchildage + ishispanic + C(currentrelationshipstatus,Treatment(\"single\"))',\n",
    "            \n",
    "               family=sm.families.NegativeBinomial(),\n",
    "               freq_weights=c.freq_weights,\n",
    "           data=c) \n",
    "results2 = model2.fit()\n",
    "results2.summary()"
   ]
  },
  {
   "cell_type": "code",
   "execution_count": 605,
   "metadata": {},
   "outputs": [
    {
     "data": {
      "text/plain": [
       "Intercept                                                                2.330599\n",
       "C(currentrelationshipstatus, Treatment(\"single\"))[T.cohabit]             0.976417\n",
       "C(currentrelationshipstatus, Treatment(\"single\"))[T.dating]              1.054736\n",
       "C(currentrelationshipstatus, Treatment(\"single\"))[T.married]             0.902900\n",
       "C(currentrelationshipstatus, Treatment(\"single\"))[T.pregnant]            1.035754\n",
       "income                                                                   1.000001\n",
       "education                                                                1.043816\n",
       "gregarious                                                               0.908170\n",
       "background                                                               1.077256\n",
       "height                                                                   1.002950\n",
       "fetusdeaths                                                              0.975820\n",
       "births                                                                   0.946799\n",
       "C(currentrelationshipstatus, Treatment(\"married\"))[T.cohabit]:births     1.008168\n",
       "C(currentrelationshipstatus, Treatment(\"married\"))[T.dating]:births      0.982609\n",
       "C(currentrelationshipstatus, Treatment(\"married\"))[T.pregnant]:births    0.903881\n",
       "C(currentrelationshipstatus, Treatment(\"married\"))[T.single]:births      0.985337\n",
       "age                                                                      1.001232\n",
       "gender                                                                   0.973632\n",
       "currentrelationshipstatus[cohabit]:currentrelationshipyears              0.993910\n",
       "currentrelationshipstatus[dating]:currentrelationshipyears               0.977050\n",
       "currentrelationshipstatus[married]:currentrelationshipyears              1.009749\n",
       "currentrelationshipstatus[pregnant]:currentrelationshipyears             1.005575\n",
       "currentrelationshipstatus[single]:currentrelationshipyears               1.000000\n",
       "dtype: float64"
      ]
     },
     "execution_count": 605,
     "metadata": {},
     "output_type": "execute_result"
    }
   ],
   "source": [
    "np.exp(results.params)"
   ]
  },
  {
   "cell_type": "code",
   "execution_count": 507,
   "metadata": {
    "collapsed": true
   },
   "outputs": [],
   "source": [
    "from statsmodels.sandbox.stats.multicomp import multipletests"
   ]
  },
  {
   "cell_type": "code",
   "execution_count": 926,
   "metadata": {},
   "outputs": [
    {
     "name": "stderr",
     "output_type": "stream",
     "text": [
      "C:\\Users\\WeiZhong\\Anaconda3\\lib\\site-packages\\statsmodels\\stats\\multitest.py:157: RuntimeWarning: invalid value encountered in greater\n",
      "  notreject = pvals > alphacSidak_all\n",
      "C:\\Users\\WeiZhong\\Anaconda3\\lib\\site-packages\\statsmodels\\stats\\multitest.py:251: RuntimeWarning: invalid value encountered in greater\n",
      "  pvals_corrected[pvals_corrected>1] = 1\n"
     ]
    },
    {
     "data": {
      "text/html": [
       "<div>\n",
       "<style>\n",
       "    .dataframe thead tr:only-child th {\n",
       "        text-align: right;\n",
       "    }\n",
       "\n",
       "    .dataframe thead th {\n",
       "        text-align: left;\n",
       "    }\n",
       "\n",
       "    .dataframe tbody tr th {\n",
       "        vertical-align: top;\n",
       "    }\n",
       "</style>\n",
       "<table border=\"1\" class=\"dataframe\">\n",
       "  <thead>\n",
       "    <tr style=\"text-align: right;\">\n",
       "      <th></th>\n",
       "      <th>0</th>\n",
       "      <th>1</th>\n",
       "    </tr>\n",
       "  </thead>\n",
       "  <tbody>\n",
       "    <tr>\n",
       "      <th>C(race, Treatment(\"white\"))[T.black]</th>\n",
       "      <td>1.0</td>\n",
       "      <td>9.978870e-03</td>\n",
       "    </tr>\n",
       "    <tr>\n",
       "      <th>C(race, Treatment(\"white\"))[T.indian]</th>\n",
       "      <td>0.0</td>\n",
       "      <td>9.981385e-01</td>\n",
       "    </tr>\n",
       "    <tr>\n",
       "      <th>C(race, Treatment(\"white\"))[T.zasian]</th>\n",
       "      <td>0.0</td>\n",
       "      <td>9.981385e-01</td>\n",
       "    </tr>\n",
       "    <tr>\n",
       "      <th>ishispanic[T.True]</th>\n",
       "      <td>0.0</td>\n",
       "      <td>8.769921e-01</td>\n",
       "    </tr>\n",
       "    <tr>\n",
       "      <th>C(currentrelationshipstatus, Treatment(\"single\"))[T.cohabit]</th>\n",
       "      <td>0.0</td>\n",
       "      <td>9.926770e-01</td>\n",
       "    </tr>\n",
       "    <tr>\n",
       "      <th>C(currentrelationshipstatus, Treatment(\"single\"))[T.dating]</th>\n",
       "      <td>0.0</td>\n",
       "      <td>9.613932e-01</td>\n",
       "    </tr>\n",
       "    <tr>\n",
       "      <th>C(currentrelationshipstatus, Treatment(\"single\"))[T.married]</th>\n",
       "      <td>0.0</td>\n",
       "      <td>5.521499e-01</td>\n",
       "    </tr>\n",
       "    <tr>\n",
       "      <th>C(currentrelationshipstatus, Treatment(\"single\"))[T.pregnant]</th>\n",
       "      <td>0.0</td>\n",
       "      <td>9.981385e-01</td>\n",
       "    </tr>\n",
       "    <tr>\n",
       "      <th>income</th>\n",
       "      <td>1.0</td>\n",
       "      <td>2.250174e-02</td>\n",
       "    </tr>\n",
       "    <tr>\n",
       "      <th>education</th>\n",
       "      <td>1.0</td>\n",
       "      <td>2.956167e-06</td>\n",
       "    </tr>\n",
       "    <tr>\n",
       "      <th>gregarious</th>\n",
       "      <td>1.0</td>\n",
       "      <td>2.442491e-15</td>\n",
       "    </tr>\n",
       "    <tr>\n",
       "      <th>background</th>\n",
       "      <td>1.0</td>\n",
       "      <td>8.948408e-05</td>\n",
       "    </tr>\n",
       "    <tr>\n",
       "      <th>fetusdeaths</th>\n",
       "      <td>0.0</td>\n",
       "      <td>9.981385e-01</td>\n",
       "    </tr>\n",
       "    <tr>\n",
       "      <th>births</th>\n",
       "      <td>0.0</td>\n",
       "      <td>5.994723e-01</td>\n",
       "    </tr>\n",
       "    <tr>\n",
       "      <th>age</th>\n",
       "      <td>0.0</td>\n",
       "      <td>5.521499e-01</td>\n",
       "    </tr>\n",
       "    <tr>\n",
       "      <th>gender</th>\n",
       "      <td>0.0</td>\n",
       "      <td>7.541347e-01</td>\n",
       "    </tr>\n",
       "    <tr>\n",
       "      <th>youngestchildage</th>\n",
       "      <td>0.0</td>\n",
       "      <td>6.063569e-02</td>\n",
       "    </tr>\n",
       "    <tr>\n",
       "      <th>currentrelationshipstatus[cohabit]:currentrelationshipyears</th>\n",
       "      <td>0.0</td>\n",
       "      <td>9.981385e-01</td>\n",
       "    </tr>\n",
       "    <tr>\n",
       "      <th>currentrelationshipstatus[dating]:currentrelationshipyears</th>\n",
       "      <td>1.0</td>\n",
       "      <td>1.348996e-02</td>\n",
       "    </tr>\n",
       "    <tr>\n",
       "      <th>currentrelationshipstatus[married]:currentrelationshipyears</th>\n",
       "      <td>0.0</td>\n",
       "      <td>3.081857e-01</td>\n",
       "    </tr>\n",
       "    <tr>\n",
       "      <th>currentrelationshipstatus[pregnant]:currentrelationshipyears</th>\n",
       "      <td>0.0</td>\n",
       "      <td>9.981385e-01</td>\n",
       "    </tr>\n",
       "    <tr>\n",
       "      <th>currentrelationshipstatus[single]:currentrelationshipyears</th>\n",
       "      <td>0.0</td>\n",
       "      <td>NaN</td>\n",
       "    </tr>\n",
       "  </tbody>\n",
       "</table>\n",
       "</div>"
      ],
      "text/plain": [
       "                                                      0             1\n",
       "C(race, Treatment(\"white\"))[T.black]                1.0  9.978870e-03\n",
       "C(race, Treatment(\"white\"))[T.indian]               0.0  9.981385e-01\n",
       "C(race, Treatment(\"white\"))[T.zasian]               0.0  9.981385e-01\n",
       "ishispanic[T.True]                                  0.0  8.769921e-01\n",
       "C(currentrelationshipstatus, Treatment(\"single\"...  0.0  9.926770e-01\n",
       "C(currentrelationshipstatus, Treatment(\"single\"...  0.0  9.613932e-01\n",
       "C(currentrelationshipstatus, Treatment(\"single\"...  0.0  5.521499e-01\n",
       "C(currentrelationshipstatus, Treatment(\"single\"...  0.0  9.981385e-01\n",
       "income                                              1.0  2.250174e-02\n",
       "education                                           1.0  2.956167e-06\n",
       "gregarious                                          1.0  2.442491e-15\n",
       "background                                          1.0  8.948408e-05\n",
       "fetusdeaths                                         0.0  9.981385e-01\n",
       "births                                              0.0  5.994723e-01\n",
       "age                                                 0.0  5.521499e-01\n",
       "gender                                              0.0  7.541347e-01\n",
       "youngestchildage                                    0.0  6.063569e-02\n",
       "currentrelationshipstatus[cohabit]:currentrelat...  0.0  9.981385e-01\n",
       "currentrelationshipstatus[dating]:currentrelati...  1.0  1.348996e-02\n",
       "currentrelationshipstatus[married]:currentrelat...  0.0  3.081857e-01\n",
       "currentrelationshipstatus[pregnant]:currentrela...  0.0  9.981385e-01\n",
       "currentrelationshipstatus[single]:currentrelati...  0.0           NaN"
      ]
     },
     "execution_count": 926,
     "metadata": {},
     "output_type": "execute_result"
    }
   ],
   "source": [
    "pd.DataFrame(np.transpose([multipletests(results2.pvalues[1:])[0], multipletests(results2.pvalues[1:])[1]]),\n",
    "             index=results2.params.index[1:])"
   ]
  },
  {
   "cell_type": "code",
   "execution_count": 522,
   "metadata": {},
   "outputs": [
    {
     "data": {
      "text/plain": [
       "1.007590715346554"
      ]
     },
     "execution_count": 522,
     "metadata": {},
     "output_type": "execute_result"
    }
   ],
   "source": [
    "np.exp(results.params['income']*10000)"
   ]
  },
  {
   "cell_type": "code",
   "execution_count": 439,
   "metadata": {},
   "outputs": [],
   "source": [
    "import mord\n",
    "\n",
    "clf3 = mord.LogisticIT(verbose=True)\n",
    "res = clf3.fit(sm.add_constant(c[['income', 'education', 'gregarious', 'background', 'height', 'pregnancies', 'age', 'gender']]), c.friends)"
   ]
  },
  {
   "cell_type": "code",
   "execution_count": null,
   "metadata": {
    "collapsed": true
   },
   "outputs": [],
   "source": []
  }
 ],
 "metadata": {
  "kernelspec": {
   "display_name": "Python 3",
   "language": "python",
   "name": "python3"
  },
  "language_info": {
   "codemirror_mode": {
    "name": "ipython",
    "version": 3
   },
   "file_extension": ".py",
   "mimetype": "text/x-python",
   "name": "python",
   "nbconvert_exporter": "python",
   "pygments_lexer": "ipython3",
   "version": "3.6.2"
  }
 },
 "nbformat": 4,
 "nbformat_minor": 2
}
